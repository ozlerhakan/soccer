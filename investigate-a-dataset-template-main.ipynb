{
 "cells": [
  {
   "cell_type": "markdown",
   "metadata": {},
   "source": [
    "# Project: Investigate European Soccer Database\n",
    "\n",
    "Hakan Özler - May Cohort 2018\n",
    "\n",
    "## Table of Contents\n",
    "<ul>\n",
    "<li><a href=\"#intro\">Introduction</a></li>\n",
    "<li><a href=\"#wrangling\">Data Wrangling</a></li>\n",
    "<li><a href=\"#eda\">Exploratory Data Analysis</a></li>\n",
    "<li><a href=\"#limitations\">Limitations</a></li>\n",
    "<li><a href=\"#conclusions\">Conclusions</a></li>\n",
    "</ul>"
   ]
  },
  {
   "cell_type": "markdown",
   "metadata": {},
   "source": [
    "<a id='intro'></a>\n",
    "## Introduction \n",
    "\n",
    "I investigate European Soccer Database. The database consists of seven tables namely 'Country', 'League', 'Player', 'Player Attributes', 'Team', 'Team Attributes', and 'Match'. Briefly, the dataset contains useful statistics about 11 different European Leagues between 2008 and 2016. The database piques my interest in practicing what I have learned so far. The original source of the database can be found on [Kaggle](https://www.kaggle.com/hugomathien/soccer). You should download it before data wrangling.\n",
    "\n",
    "After observing the tables, I come up with the following three questions:\n",
    "\n",
    "1. Which team had the most victories at home in 2010/2011 season?\n",
    "\n",
    "2. Which season had the most home and/or away goals over the seasons?\n",
    "\n",
    "3. Which team won on 2014/2015 season in Spain LIGA BBVA?\n",
    "\n",
    "I also want to analyze the example questions given on the [database page](https://docs.google.com/document/d/e/2PACX-1vTlVmknRRnfy_4eTrjw5hYGaiQim5ctr9naaRd4V9du2B5bxpd8FEH3KtDgp8qVekw7Cj1GLk1IXdZi/pub?embedded=True):\n",
    "\n",
    "1. What teams improved the most over the time period?\n",
    "\n",
    "2. Which players had the most penalties?\n",
    "\n",
    "3. What team attributes lead to the most victories?\n",
    "\n",
    "In total, I have six questions that I need their answers. \n"
   ]
  },
  {
   "cell_type": "code",
   "execution_count": 1,
   "metadata": {
    "collapsed": true
   },
   "outputs": [],
   "source": [
    "# import the modules \n",
    "import pandas as pd\n",
    "import numpy as np\n",
    "import seaborn as sns\n",
    "import matplotlib.pyplot as plt\n",
    "import sqlalchemy as sqla\n",
    "\n",
    "% matplotlib inline\n",
    "# I have a retina mac, and this magic makes the charts more sharp\n",
    "%config InlineBackend.figure_format = 'retina'"
   ]
  },
  {
   "cell_type": "markdown",
   "metadata": {},
   "source": [
    "<a id='wrangling'></a>\n",
    "## Data Wrangling\n",
    "\n",
    "### General Properties\n",
    "\n",
    "Here, I load the database and query each table seperately in order to observe the data. I want to practice more with `Pandas` so instead of using SQL (which I'll show you the equivalent SQL query in a few minutes), I directly query the `SELECT` command for each table and use `Pandas`'s magics. I followed the approach written in the tips in a seperate notebook where I explored the tables deeply. My aim is to demostrate the important parts of data and the way how I cleaned them by explaining in detail."
   ]
  },
  {
   "cell_type": "code",
   "execution_count": 2,
   "metadata": {
    "collapsed": true
   },
   "outputs": [],
   "source": [
    "# connect to the SQLite database with SQLAlchemy and read data\n",
    "soccer = sqla.create_engine('sqlite:///database.sqlite')\n",
    "\n",
    "# retrive all tables\n",
    "df_country = pd.read_sql('select * from Country', soccer)\n",
    "df_league = pd.read_sql('select * from League', soccer)\n",
    "df_player = pd.read_sql('select * from Player', soccer)\n",
    "df_player_att = pd.read_sql('select * from Player_Attributes', soccer)\n",
    "df_team = pd.read_sql('select * from Team', soccer)\n",
    "df_team_att = pd.read_sql('select * from Team_Attributes', soccer)\n",
    "df_match = pd.read_sql('select * from Match', soccer)"
   ]
  },
  {
   "cell_type": "code",
   "execution_count": 3,
   "metadata": {},
   "outputs": [
    {
     "data": {
      "text/html": [
       "<div>\n",
       "<style scoped>\n",
       "    .dataframe tbody tr th:only-of-type {\n",
       "        vertical-align: middle;\n",
       "    }\n",
       "\n",
       "    .dataframe tbody tr th {\n",
       "        vertical-align: top;\n",
       "    }\n",
       "\n",
       "    .dataframe thead th {\n",
       "        text-align: right;\n",
       "    }\n",
       "</style>\n",
       "<table border=\"1\" class=\"dataframe\">\n",
       "  <thead>\n",
       "    <tr style=\"text-align: right;\">\n",
       "      <th></th>\n",
       "      <th>id</th>\n",
       "      <th>name</th>\n",
       "    </tr>\n",
       "  </thead>\n",
       "  <tbody>\n",
       "    <tr>\n",
       "      <th>0</th>\n",
       "      <td>1</td>\n",
       "      <td>Belgium</td>\n",
       "    </tr>\n",
       "    <tr>\n",
       "      <th>1</th>\n",
       "      <td>1729</td>\n",
       "      <td>England</td>\n",
       "    </tr>\n",
       "    <tr>\n",
       "      <th>2</th>\n",
       "      <td>4769</td>\n",
       "      <td>France</td>\n",
       "    </tr>\n",
       "    <tr>\n",
       "      <th>3</th>\n",
       "      <td>7809</td>\n",
       "      <td>Germany</td>\n",
       "    </tr>\n",
       "    <tr>\n",
       "      <th>4</th>\n",
       "      <td>10257</td>\n",
       "      <td>Italy</td>\n",
       "    </tr>\n",
       "    <tr>\n",
       "      <th>5</th>\n",
       "      <td>13274</td>\n",
       "      <td>Netherlands</td>\n",
       "    </tr>\n",
       "    <tr>\n",
       "      <th>6</th>\n",
       "      <td>15722</td>\n",
       "      <td>Poland</td>\n",
       "    </tr>\n",
       "    <tr>\n",
       "      <th>7</th>\n",
       "      <td>17642</td>\n",
       "      <td>Portugal</td>\n",
       "    </tr>\n",
       "    <tr>\n",
       "      <th>8</th>\n",
       "      <td>19694</td>\n",
       "      <td>Scotland</td>\n",
       "    </tr>\n",
       "    <tr>\n",
       "      <th>9</th>\n",
       "      <td>21518</td>\n",
       "      <td>Spain</td>\n",
       "    </tr>\n",
       "    <tr>\n",
       "      <th>10</th>\n",
       "      <td>24558</td>\n",
       "      <td>Switzerland</td>\n",
       "    </tr>\n",
       "  </tbody>\n",
       "</table>\n",
       "</div>"
      ],
      "text/plain": [
       "       id         name\n",
       "0       1      Belgium\n",
       "1    1729      England\n",
       "2    4769       France\n",
       "3    7809      Germany\n",
       "4   10257        Italy\n",
       "5   13274  Netherlands\n",
       "6   15722       Poland\n",
       "7   17642     Portugal\n",
       "8   19694     Scotland\n",
       "9   21518        Spain\n",
       "10  24558  Switzerland"
      ]
     },
     "execution_count": 3,
     "metadata": {},
     "output_type": "execute_result"
    }
   ],
   "source": [
    "df_country"
   ]
  },
  {
   "cell_type": "code",
   "execution_count": 4,
   "metadata": {},
   "outputs": [
    {
     "data": {
      "text/plain": [
       "(11, 2)"
      ]
     },
     "execution_count": 4,
     "metadata": {},
     "output_type": "execute_result"
    }
   ],
   "source": [
    "df_country.shape"
   ]
  },
  {
   "cell_type": "markdown",
   "metadata": {},
   "source": [
    "The `country` table has 2 columns, plus we're dealing with 11 unique countries in this database. Next, we retrieve the leagues of eleven countries."
   ]
  },
  {
   "cell_type": "code",
   "execution_count": 5,
   "metadata": {},
   "outputs": [
    {
     "data": {
      "text/html": [
       "<div>\n",
       "<style scoped>\n",
       "    .dataframe tbody tr th:only-of-type {\n",
       "        vertical-align: middle;\n",
       "    }\n",
       "\n",
       "    .dataframe tbody tr th {\n",
       "        vertical-align: top;\n",
       "    }\n",
       "\n",
       "    .dataframe thead th {\n",
       "        text-align: right;\n",
       "    }\n",
       "</style>\n",
       "<table border=\"1\" class=\"dataframe\">\n",
       "  <thead>\n",
       "    <tr style=\"text-align: right;\">\n",
       "      <th></th>\n",
       "      <th>id</th>\n",
       "      <th>country_id</th>\n",
       "      <th>name</th>\n",
       "    </tr>\n",
       "  </thead>\n",
       "  <tbody>\n",
       "    <tr>\n",
       "      <th>0</th>\n",
       "      <td>1</td>\n",
       "      <td>1</td>\n",
       "      <td>Belgium Jupiler League</td>\n",
       "    </tr>\n",
       "    <tr>\n",
       "      <th>1</th>\n",
       "      <td>1729</td>\n",
       "      <td>1729</td>\n",
       "      <td>England Premier League</td>\n",
       "    </tr>\n",
       "    <tr>\n",
       "      <th>2</th>\n",
       "      <td>4769</td>\n",
       "      <td>4769</td>\n",
       "      <td>France Ligue 1</td>\n",
       "    </tr>\n",
       "    <tr>\n",
       "      <th>3</th>\n",
       "      <td>7809</td>\n",
       "      <td>7809</td>\n",
       "      <td>Germany 1. Bundesliga</td>\n",
       "    </tr>\n",
       "    <tr>\n",
       "      <th>4</th>\n",
       "      <td>10257</td>\n",
       "      <td>10257</td>\n",
       "      <td>Italy Serie A</td>\n",
       "    </tr>\n",
       "    <tr>\n",
       "      <th>5</th>\n",
       "      <td>13274</td>\n",
       "      <td>13274</td>\n",
       "      <td>Netherlands Eredivisie</td>\n",
       "    </tr>\n",
       "    <tr>\n",
       "      <th>6</th>\n",
       "      <td>15722</td>\n",
       "      <td>15722</td>\n",
       "      <td>Poland Ekstraklasa</td>\n",
       "    </tr>\n",
       "    <tr>\n",
       "      <th>7</th>\n",
       "      <td>17642</td>\n",
       "      <td>17642</td>\n",
       "      <td>Portugal Liga ZON Sagres</td>\n",
       "    </tr>\n",
       "    <tr>\n",
       "      <th>8</th>\n",
       "      <td>19694</td>\n",
       "      <td>19694</td>\n",
       "      <td>Scotland Premier League</td>\n",
       "    </tr>\n",
       "    <tr>\n",
       "      <th>9</th>\n",
       "      <td>21518</td>\n",
       "      <td>21518</td>\n",
       "      <td>Spain LIGA BBVA</td>\n",
       "    </tr>\n",
       "    <tr>\n",
       "      <th>10</th>\n",
       "      <td>24558</td>\n",
       "      <td>24558</td>\n",
       "      <td>Switzerland Super League</td>\n",
       "    </tr>\n",
       "  </tbody>\n",
       "</table>\n",
       "</div>"
      ],
      "text/plain": [
       "       id  country_id                      name\n",
       "0       1           1    Belgium Jupiler League\n",
       "1    1729        1729    England Premier League\n",
       "2    4769        4769            France Ligue 1\n",
       "3    7809        7809     Germany 1. Bundesliga\n",
       "4   10257       10257             Italy Serie A\n",
       "5   13274       13274    Netherlands Eredivisie\n",
       "6   15722       15722        Poland Ekstraklasa\n",
       "7   17642       17642  Portugal Liga ZON Sagres\n",
       "8   19694       19694   Scotland Premier League\n",
       "9   21518       21518           Spain LIGA BBVA\n",
       "10  24558       24558  Switzerland Super League"
      ]
     },
     "execution_count": 5,
     "metadata": {},
     "output_type": "execute_result"
    }
   ],
   "source": [
    "df_league"
   ]
  },
  {
   "cell_type": "code",
   "execution_count": 6,
   "metadata": {},
   "outputs": [
    {
     "data": {
      "text/plain": [
       "(11, 2)"
      ]
     },
     "execution_count": 6,
     "metadata": {},
     "output_type": "execute_result"
    }
   ],
   "source": [
    "df_country.shape"
   ]
  },
  {
   "cell_type": "code",
   "execution_count": 7,
   "metadata": {},
   "outputs": [
    {
     "data": {
      "text/plain": [
       "(11060, 7)"
      ]
     },
     "execution_count": 7,
     "metadata": {},
     "output_type": "execute_result"
    }
   ],
   "source": [
    "df_player.shape"
   ]
  },
  {
   "cell_type": "markdown",
   "metadata": {},
   "source": [
    "Player table contains 11k rows, I just retrieve the first 5 rows to observe."
   ]
  },
  {
   "cell_type": "code",
   "execution_count": 8,
   "metadata": {},
   "outputs": [
    {
     "data": {
      "text/html": [
       "<div>\n",
       "<style scoped>\n",
       "    .dataframe tbody tr th:only-of-type {\n",
       "        vertical-align: middle;\n",
       "    }\n",
       "\n",
       "    .dataframe tbody tr th {\n",
       "        vertical-align: top;\n",
       "    }\n",
       "\n",
       "    .dataframe thead th {\n",
       "        text-align: right;\n",
       "    }\n",
       "</style>\n",
       "<table border=\"1\" class=\"dataframe\">\n",
       "  <thead>\n",
       "    <tr style=\"text-align: right;\">\n",
       "      <th></th>\n",
       "      <th>id</th>\n",
       "      <th>player_api_id</th>\n",
       "      <th>player_name</th>\n",
       "      <th>player_fifa_api_id</th>\n",
       "      <th>birthday</th>\n",
       "      <th>height</th>\n",
       "      <th>weight</th>\n",
       "    </tr>\n",
       "  </thead>\n",
       "  <tbody>\n",
       "    <tr>\n",
       "      <th>0</th>\n",
       "      <td>1</td>\n",
       "      <td>505942</td>\n",
       "      <td>Aaron Appindangoye</td>\n",
       "      <td>218353</td>\n",
       "      <td>1992-02-29 00:00:00</td>\n",
       "      <td>182.88</td>\n",
       "      <td>187</td>\n",
       "    </tr>\n",
       "    <tr>\n",
       "      <th>1</th>\n",
       "      <td>2</td>\n",
       "      <td>155782</td>\n",
       "      <td>Aaron Cresswell</td>\n",
       "      <td>189615</td>\n",
       "      <td>1989-12-15 00:00:00</td>\n",
       "      <td>170.18</td>\n",
       "      <td>146</td>\n",
       "    </tr>\n",
       "    <tr>\n",
       "      <th>2</th>\n",
       "      <td>3</td>\n",
       "      <td>162549</td>\n",
       "      <td>Aaron Doran</td>\n",
       "      <td>186170</td>\n",
       "      <td>1991-05-13 00:00:00</td>\n",
       "      <td>170.18</td>\n",
       "      <td>163</td>\n",
       "    </tr>\n",
       "    <tr>\n",
       "      <th>3</th>\n",
       "      <td>4</td>\n",
       "      <td>30572</td>\n",
       "      <td>Aaron Galindo</td>\n",
       "      <td>140161</td>\n",
       "      <td>1982-05-08 00:00:00</td>\n",
       "      <td>182.88</td>\n",
       "      <td>198</td>\n",
       "    </tr>\n",
       "    <tr>\n",
       "      <th>4</th>\n",
       "      <td>5</td>\n",
       "      <td>23780</td>\n",
       "      <td>Aaron Hughes</td>\n",
       "      <td>17725</td>\n",
       "      <td>1979-11-08 00:00:00</td>\n",
       "      <td>182.88</td>\n",
       "      <td>154</td>\n",
       "    </tr>\n",
       "  </tbody>\n",
       "</table>\n",
       "</div>"
      ],
      "text/plain": [
       "   id  player_api_id         player_name  player_fifa_api_id  \\\n",
       "0   1         505942  Aaron Appindangoye              218353   \n",
       "1   2         155782     Aaron Cresswell              189615   \n",
       "2   3         162549         Aaron Doran              186170   \n",
       "3   4          30572       Aaron Galindo              140161   \n",
       "4   5          23780        Aaron Hughes               17725   \n",
       "\n",
       "              birthday  height  weight  \n",
       "0  1992-02-29 00:00:00  182.88     187  \n",
       "1  1989-12-15 00:00:00  170.18     146  \n",
       "2  1991-05-13 00:00:00  170.18     163  \n",
       "3  1982-05-08 00:00:00  182.88     198  \n",
       "4  1979-11-08 00:00:00  182.88     154  "
      ]
     },
     "execution_count": 8,
     "metadata": {},
     "output_type": "execute_result"
    }
   ],
   "source": [
    "df_player.head()"
   ]
  },
  {
   "cell_type": "code",
   "execution_count": 9,
   "metadata": {},
   "outputs": [
    {
     "data": {
      "text/plain": [
       "10848"
      ]
     },
     "execution_count": 9,
     "metadata": {},
     "output_type": "execute_result"
    }
   ],
   "source": [
    "len(df_player.player_name.unique())"
   ]
  },
  {
   "cell_type": "markdown",
   "metadata": {},
   "source": [
    "There are 10848 unique player names out of 11060 which is acceptable because there are several names like Alex, Raul that are common as a full name."
   ]
  },
  {
   "cell_type": "code",
   "execution_count": 10,
   "metadata": {},
   "outputs": [
    {
     "data": {
      "text/html": [
       "<div>\n",
       "<style scoped>\n",
       "    .dataframe tbody tr th:only-of-type {\n",
       "        vertical-align: middle;\n",
       "    }\n",
       "\n",
       "    .dataframe tbody tr th {\n",
       "        vertical-align: top;\n",
       "    }\n",
       "\n",
       "    .dataframe thead th {\n",
       "        text-align: right;\n",
       "    }\n",
       "</style>\n",
       "<table border=\"1\" class=\"dataframe\">\n",
       "  <thead>\n",
       "    <tr style=\"text-align: right;\">\n",
       "      <th></th>\n",
       "      <th>id</th>\n",
       "      <th>player_api_id</th>\n",
       "      <th>player_name</th>\n",
       "      <th>player_fifa_api_id</th>\n",
       "      <th>birthday</th>\n",
       "      <th>height</th>\n",
       "      <th>weight</th>\n",
       "    </tr>\n",
       "  </thead>\n",
       "  <tbody>\n",
       "    <tr>\n",
       "      <th>437</th>\n",
       "      <td>438</td>\n",
       "      <td>150396</td>\n",
       "      <td>Alex</td>\n",
       "      <td>186613</td>\n",
       "      <td>1989-01-29 00:00:00</td>\n",
       "      <td>182.88</td>\n",
       "      <td>170</td>\n",
       "    </tr>\n",
       "    <tr>\n",
       "      <th>438</th>\n",
       "      <td>440</td>\n",
       "      <td>163838</td>\n",
       "      <td>Alex</td>\n",
       "      <td>198033</td>\n",
       "      <td>1991-08-27 00:00:00</td>\n",
       "      <td>175.26</td>\n",
       "      <td>148</td>\n",
       "    </tr>\n",
       "    <tr>\n",
       "      <th>439</th>\n",
       "      <td>442</td>\n",
       "      <td>26564</td>\n",
       "      <td>Alex</td>\n",
       "      <td>136130</td>\n",
       "      <td>1982-06-17 00:00:00</td>\n",
       "      <td>187.96</td>\n",
       "      <td>203</td>\n",
       "    </tr>\n",
       "  </tbody>\n",
       "</table>\n",
       "</div>"
      ],
      "text/plain": [
       "      id  player_api_id player_name  player_fifa_api_id             birthday  \\\n",
       "437  438         150396        Alex              186613  1989-01-29 00:00:00   \n",
       "438  440         163838        Alex              198033  1991-08-27 00:00:00   \n",
       "439  442          26564        Alex              136130  1982-06-17 00:00:00   \n",
       "\n",
       "     height  weight  \n",
       "437  182.88     170  \n",
       "438  175.26     148  \n",
       "439  187.96     203  "
      ]
     },
     "execution_count": 10,
     "metadata": {},
     "output_type": "execute_result"
    }
   ],
   "source": [
    "df_player.query('player_name == \"Alex\"')"
   ]
  },
  {
   "cell_type": "markdown",
   "metadata": {},
   "source": [
    "This time, I decided to group `player_name` and `player_api_id` together to search the unique players."
   ]
  },
  {
   "cell_type": "code",
   "execution_count": 11,
   "metadata": {},
   "outputs": [
    {
     "data": {
      "text/plain": [
       "id                    11060\n",
       "player_fifa_api_id    11060\n",
       "birthday              11060\n",
       "height                11060\n",
       "weight                11060\n",
       "dtype: int64"
      ]
     },
     "execution_count": 11,
     "metadata": {},
     "output_type": "execute_result"
    }
   ],
   "source": [
    "df_player.groupby(['player_name' ,'player_api_id']).count().count()"
   ]
  },
  {
   "cell_type": "code",
   "execution_count": 12,
   "metadata": {},
   "outputs": [
    {
     "name": "stdout",
     "output_type": "stream",
     "text": [
      "<class 'pandas.core.frame.DataFrame'>\n",
      "RangeIndex: 11060 entries, 0 to 11059\n",
      "Data columns (total 7 columns):\n",
      "id                    11060 non-null int64\n",
      "player_api_id         11060 non-null int64\n",
      "player_name           11060 non-null object\n",
      "player_fifa_api_id    11060 non-null int64\n",
      "birthday              11060 non-null object\n",
      "height                11060 non-null float64\n",
      "weight                11060 non-null int64\n",
      "dtypes: float64(1), int64(4), object(2)\n",
      "memory usage: 604.9+ KB\n"
     ]
    }
   ],
   "source": [
    "df_player.info()"
   ]
  },
  {
   "cell_type": "markdown",
   "metadata": {},
   "source": [
    "If I need to do something with this table, I only need to convert the date columns which is currently of type `String`."
   ]
  },
  {
   "cell_type": "code",
   "execution_count": 13,
   "metadata": {},
   "outputs": [
    {
     "data": {
      "text/plain": [
       "(183978, 42)"
      ]
     },
     "execution_count": 13,
     "metadata": {},
     "output_type": "execute_result"
    }
   ],
   "source": [
    "df_player_att.shape"
   ]
  },
  {
   "cell_type": "code",
   "execution_count": 14,
   "metadata": {},
   "outputs": [
    {
     "data": {
      "text/html": [
       "<div>\n",
       "<style scoped>\n",
       "    .dataframe tbody tr th:only-of-type {\n",
       "        vertical-align: middle;\n",
       "    }\n",
       "\n",
       "    .dataframe tbody tr th {\n",
       "        vertical-align: top;\n",
       "    }\n",
       "\n",
       "    .dataframe thead th {\n",
       "        text-align: right;\n",
       "    }\n",
       "</style>\n",
       "<table border=\"1\" class=\"dataframe\">\n",
       "  <thead>\n",
       "    <tr style=\"text-align: right;\">\n",
       "      <th></th>\n",
       "      <th>id</th>\n",
       "      <th>player_fifa_api_id</th>\n",
       "      <th>player_api_id</th>\n",
       "      <th>date</th>\n",
       "      <th>overall_rating</th>\n",
       "      <th>potential</th>\n",
       "      <th>preferred_foot</th>\n",
       "      <th>attacking_work_rate</th>\n",
       "      <th>defensive_work_rate</th>\n",
       "      <th>crossing</th>\n",
       "      <th>...</th>\n",
       "      <th>vision</th>\n",
       "      <th>penalties</th>\n",
       "      <th>marking</th>\n",
       "      <th>standing_tackle</th>\n",
       "      <th>sliding_tackle</th>\n",
       "      <th>gk_diving</th>\n",
       "      <th>gk_handling</th>\n",
       "      <th>gk_kicking</th>\n",
       "      <th>gk_positioning</th>\n",
       "      <th>gk_reflexes</th>\n",
       "    </tr>\n",
       "  </thead>\n",
       "  <tbody>\n",
       "    <tr>\n",
       "      <th>0</th>\n",
       "      <td>1</td>\n",
       "      <td>218353</td>\n",
       "      <td>505942</td>\n",
       "      <td>2016-02-18 00:00:00</td>\n",
       "      <td>67.0</td>\n",
       "      <td>71.0</td>\n",
       "      <td>right</td>\n",
       "      <td>medium</td>\n",
       "      <td>medium</td>\n",
       "      <td>49.0</td>\n",
       "      <td>...</td>\n",
       "      <td>54.0</td>\n",
       "      <td>48.0</td>\n",
       "      <td>65.0</td>\n",
       "      <td>69.0</td>\n",
       "      <td>69.0</td>\n",
       "      <td>6.0</td>\n",
       "      <td>11.0</td>\n",
       "      <td>10.0</td>\n",
       "      <td>8.0</td>\n",
       "      <td>8.0</td>\n",
       "    </tr>\n",
       "    <tr>\n",
       "      <th>1</th>\n",
       "      <td>2</td>\n",
       "      <td>218353</td>\n",
       "      <td>505942</td>\n",
       "      <td>2015-11-19 00:00:00</td>\n",
       "      <td>67.0</td>\n",
       "      <td>71.0</td>\n",
       "      <td>right</td>\n",
       "      <td>medium</td>\n",
       "      <td>medium</td>\n",
       "      <td>49.0</td>\n",
       "      <td>...</td>\n",
       "      <td>54.0</td>\n",
       "      <td>48.0</td>\n",
       "      <td>65.0</td>\n",
       "      <td>69.0</td>\n",
       "      <td>69.0</td>\n",
       "      <td>6.0</td>\n",
       "      <td>11.0</td>\n",
       "      <td>10.0</td>\n",
       "      <td>8.0</td>\n",
       "      <td>8.0</td>\n",
       "    </tr>\n",
       "    <tr>\n",
       "      <th>2</th>\n",
       "      <td>3</td>\n",
       "      <td>218353</td>\n",
       "      <td>505942</td>\n",
       "      <td>2015-09-21 00:00:00</td>\n",
       "      <td>62.0</td>\n",
       "      <td>66.0</td>\n",
       "      <td>right</td>\n",
       "      <td>medium</td>\n",
       "      <td>medium</td>\n",
       "      <td>49.0</td>\n",
       "      <td>...</td>\n",
       "      <td>54.0</td>\n",
       "      <td>48.0</td>\n",
       "      <td>65.0</td>\n",
       "      <td>66.0</td>\n",
       "      <td>69.0</td>\n",
       "      <td>6.0</td>\n",
       "      <td>11.0</td>\n",
       "      <td>10.0</td>\n",
       "      <td>8.0</td>\n",
       "      <td>8.0</td>\n",
       "    </tr>\n",
       "    <tr>\n",
       "      <th>3</th>\n",
       "      <td>4</td>\n",
       "      <td>218353</td>\n",
       "      <td>505942</td>\n",
       "      <td>2015-03-20 00:00:00</td>\n",
       "      <td>61.0</td>\n",
       "      <td>65.0</td>\n",
       "      <td>right</td>\n",
       "      <td>medium</td>\n",
       "      <td>medium</td>\n",
       "      <td>48.0</td>\n",
       "      <td>...</td>\n",
       "      <td>53.0</td>\n",
       "      <td>47.0</td>\n",
       "      <td>62.0</td>\n",
       "      <td>63.0</td>\n",
       "      <td>66.0</td>\n",
       "      <td>5.0</td>\n",
       "      <td>10.0</td>\n",
       "      <td>9.0</td>\n",
       "      <td>7.0</td>\n",
       "      <td>7.0</td>\n",
       "    </tr>\n",
       "    <tr>\n",
       "      <th>4</th>\n",
       "      <td>5</td>\n",
       "      <td>218353</td>\n",
       "      <td>505942</td>\n",
       "      <td>2007-02-22 00:00:00</td>\n",
       "      <td>61.0</td>\n",
       "      <td>65.0</td>\n",
       "      <td>right</td>\n",
       "      <td>medium</td>\n",
       "      <td>medium</td>\n",
       "      <td>48.0</td>\n",
       "      <td>...</td>\n",
       "      <td>53.0</td>\n",
       "      <td>47.0</td>\n",
       "      <td>62.0</td>\n",
       "      <td>63.0</td>\n",
       "      <td>66.0</td>\n",
       "      <td>5.0</td>\n",
       "      <td>10.0</td>\n",
       "      <td>9.0</td>\n",
       "      <td>7.0</td>\n",
       "      <td>7.0</td>\n",
       "    </tr>\n",
       "  </tbody>\n",
       "</table>\n",
       "<p>5 rows × 42 columns</p>\n",
       "</div>"
      ],
      "text/plain": [
       "   id  player_fifa_api_id  player_api_id                 date  overall_rating  \\\n",
       "0   1              218353         505942  2016-02-18 00:00:00            67.0   \n",
       "1   2              218353         505942  2015-11-19 00:00:00            67.0   \n",
       "2   3              218353         505942  2015-09-21 00:00:00            62.0   \n",
       "3   4              218353         505942  2015-03-20 00:00:00            61.0   \n",
       "4   5              218353         505942  2007-02-22 00:00:00            61.0   \n",
       "\n",
       "   potential preferred_foot attacking_work_rate defensive_work_rate  crossing  \\\n",
       "0       71.0          right              medium              medium      49.0   \n",
       "1       71.0          right              medium              medium      49.0   \n",
       "2       66.0          right              medium              medium      49.0   \n",
       "3       65.0          right              medium              medium      48.0   \n",
       "4       65.0          right              medium              medium      48.0   \n",
       "\n",
       "      ...       vision  penalties  marking  standing_tackle  sliding_tackle  \\\n",
       "0     ...         54.0       48.0     65.0             69.0            69.0   \n",
       "1     ...         54.0       48.0     65.0             69.0            69.0   \n",
       "2     ...         54.0       48.0     65.0             66.0            69.0   \n",
       "3     ...         53.0       47.0     62.0             63.0            66.0   \n",
       "4     ...         53.0       47.0     62.0             63.0            66.0   \n",
       "\n",
       "   gk_diving  gk_handling  gk_kicking  gk_positioning  gk_reflexes  \n",
       "0        6.0         11.0        10.0             8.0          8.0  \n",
       "1        6.0         11.0        10.0             8.0          8.0  \n",
       "2        6.0         11.0        10.0             8.0          8.0  \n",
       "3        5.0         10.0         9.0             7.0          7.0  \n",
       "4        5.0         10.0         9.0             7.0          7.0  \n",
       "\n",
       "[5 rows x 42 columns]"
      ]
     },
     "execution_count": 14,
     "metadata": {},
     "output_type": "execute_result"
    }
   ],
   "source": [
    "df_player_att.head()"
   ]
  },
  {
   "cell_type": "markdown",
   "metadata": {},
   "source": [
    "In the team attributes table, I see that there is one foreign key (i.e. `player_api_id`). I need to know the names of the players. I'll apply a `merge` operation over the Player table later on. This table is so essential to find out interesting statistics about players performance over the years."
   ]
  },
  {
   "cell_type": "code",
   "execution_count": 15,
   "metadata": {},
   "outputs": [
    {
     "data": {
      "text/html": [
       "<div>\n",
       "<style scoped>\n",
       "    .dataframe tbody tr th:only-of-type {\n",
       "        vertical-align: middle;\n",
       "    }\n",
       "\n",
       "    .dataframe tbody tr th {\n",
       "        vertical-align: top;\n",
       "    }\n",
       "\n",
       "    .dataframe thead th {\n",
       "        text-align: right;\n",
       "    }\n",
       "</style>\n",
       "<table border=\"1\" class=\"dataframe\">\n",
       "  <thead>\n",
       "    <tr style=\"text-align: right;\">\n",
       "      <th></th>\n",
       "      <th>id</th>\n",
       "      <th>team_api_id</th>\n",
       "      <th>team_fifa_api_id</th>\n",
       "      <th>team_long_name</th>\n",
       "      <th>team_short_name</th>\n",
       "    </tr>\n",
       "  </thead>\n",
       "  <tbody>\n",
       "    <tr>\n",
       "      <th>0</th>\n",
       "      <td>1</td>\n",
       "      <td>9987</td>\n",
       "      <td>673.0</td>\n",
       "      <td>KRC Genk</td>\n",
       "      <td>GEN</td>\n",
       "    </tr>\n",
       "    <tr>\n",
       "      <th>1</th>\n",
       "      <td>2</td>\n",
       "      <td>9993</td>\n",
       "      <td>675.0</td>\n",
       "      <td>Beerschot AC</td>\n",
       "      <td>BAC</td>\n",
       "    </tr>\n",
       "    <tr>\n",
       "      <th>2</th>\n",
       "      <td>3</td>\n",
       "      <td>10000</td>\n",
       "      <td>15005.0</td>\n",
       "      <td>SV Zulte-Waregem</td>\n",
       "      <td>ZUL</td>\n",
       "    </tr>\n",
       "    <tr>\n",
       "      <th>3</th>\n",
       "      <td>4</td>\n",
       "      <td>9994</td>\n",
       "      <td>2007.0</td>\n",
       "      <td>Sporting Lokeren</td>\n",
       "      <td>LOK</td>\n",
       "    </tr>\n",
       "    <tr>\n",
       "      <th>4</th>\n",
       "      <td>5</td>\n",
       "      <td>9984</td>\n",
       "      <td>1750.0</td>\n",
       "      <td>KSV Cercle Brugge</td>\n",
       "      <td>CEB</td>\n",
       "    </tr>\n",
       "  </tbody>\n",
       "</table>\n",
       "</div>"
      ],
      "text/plain": [
       "   id  team_api_id  team_fifa_api_id     team_long_name team_short_name\n",
       "0   1         9987             673.0           KRC Genk             GEN\n",
       "1   2         9993             675.0       Beerschot AC             BAC\n",
       "2   3        10000           15005.0   SV Zulte-Waregem             ZUL\n",
       "3   4         9994            2007.0   Sporting Lokeren             LOK\n",
       "4   5         9984            1750.0  KSV Cercle Brugge             CEB"
      ]
     },
     "execution_count": 15,
     "metadata": {},
     "output_type": "execute_result"
    }
   ],
   "source": [
    "df_team.head()"
   ]
  },
  {
   "cell_type": "code",
   "execution_count": 16,
   "metadata": {},
   "outputs": [
    {
     "data": {
      "text/plain": [
       "296"
      ]
     },
     "execution_count": 16,
     "metadata": {},
     "output_type": "execute_result"
    }
   ],
   "source": [
    "len(df_team.team_long_name.unique())"
   ]
  },
  {
   "cell_type": "code",
   "execution_count": 17,
   "metadata": {},
   "outputs": [
    {
     "data": {
      "text/plain": [
       "(299, 5)"
      ]
     },
     "execution_count": 17,
     "metadata": {},
     "output_type": "execute_result"
    }
   ],
   "source": [
    "df_team.shape"
   ]
  },
  {
   "cell_type": "markdown",
   "metadata": {},
   "source": [
    "299 teams are waiting us to explore. The `team_long_name` column contains 296 unique team name, there should be 6 duplicate rows I think, let's control:"
   ]
  },
  {
   "cell_type": "code",
   "execution_count": 18,
   "metadata": {},
   "outputs": [
    {
     "data": {
      "text/plain": [
       "0"
      ]
     },
     "execution_count": 18,
     "metadata": {},
     "output_type": "execute_result"
    }
   ],
   "source": [
    "df_team.duplicated().sum()"
   ]
  },
  {
   "cell_type": "markdown",
   "metadata": {},
   "source": [
    "Hmm, I expect 6 rows but nothing shows up. I need to investigate more on that problem because, It's abnormal for two teams having the same name."
   ]
  },
  {
   "cell_type": "code",
   "execution_count": 19,
   "metadata": {},
   "outputs": [
    {
     "data": {
      "text/html": [
       "<div>\n",
       "<style scoped>\n",
       "    .dataframe tbody tr th:only-of-type {\n",
       "        vertical-align: middle;\n",
       "    }\n",
       "\n",
       "    .dataframe tbody tr th {\n",
       "        vertical-align: top;\n",
       "    }\n",
       "\n",
       "    .dataframe thead th {\n",
       "        text-align: right;\n",
       "    }\n",
       "</style>\n",
       "<table border=\"1\" class=\"dataframe\">\n",
       "  <thead>\n",
       "    <tr style=\"text-align: right;\">\n",
       "      <th></th>\n",
       "      <th>id</th>\n",
       "      <th>team_fifa_api_id</th>\n",
       "      <th>team_api_id</th>\n",
       "      <th>date</th>\n",
       "      <th>buildUpPlaySpeed</th>\n",
       "      <th>buildUpPlaySpeedClass</th>\n",
       "      <th>buildUpPlayDribbling</th>\n",
       "      <th>buildUpPlayDribblingClass</th>\n",
       "      <th>buildUpPlayPassing</th>\n",
       "      <th>buildUpPlayPassingClass</th>\n",
       "      <th>...</th>\n",
       "      <th>chanceCreationShooting</th>\n",
       "      <th>chanceCreationShootingClass</th>\n",
       "      <th>chanceCreationPositioningClass</th>\n",
       "      <th>defencePressure</th>\n",
       "      <th>defencePressureClass</th>\n",
       "      <th>defenceAggression</th>\n",
       "      <th>defenceAggressionClass</th>\n",
       "      <th>defenceTeamWidth</th>\n",
       "      <th>defenceTeamWidthClass</th>\n",
       "      <th>defenceDefenderLineClass</th>\n",
       "    </tr>\n",
       "  </thead>\n",
       "  <tbody>\n",
       "    <tr>\n",
       "      <th>0</th>\n",
       "      <td>1</td>\n",
       "      <td>434</td>\n",
       "      <td>9930</td>\n",
       "      <td>2010-02-22 00:00:00</td>\n",
       "      <td>60</td>\n",
       "      <td>Balanced</td>\n",
       "      <td>NaN</td>\n",
       "      <td>Little</td>\n",
       "      <td>50</td>\n",
       "      <td>Mixed</td>\n",
       "      <td>...</td>\n",
       "      <td>55</td>\n",
       "      <td>Normal</td>\n",
       "      <td>Organised</td>\n",
       "      <td>50</td>\n",
       "      <td>Medium</td>\n",
       "      <td>55</td>\n",
       "      <td>Press</td>\n",
       "      <td>45</td>\n",
       "      <td>Normal</td>\n",
       "      <td>Cover</td>\n",
       "    </tr>\n",
       "    <tr>\n",
       "      <th>1</th>\n",
       "      <td>2</td>\n",
       "      <td>434</td>\n",
       "      <td>9930</td>\n",
       "      <td>2014-09-19 00:00:00</td>\n",
       "      <td>52</td>\n",
       "      <td>Balanced</td>\n",
       "      <td>48.0</td>\n",
       "      <td>Normal</td>\n",
       "      <td>56</td>\n",
       "      <td>Mixed</td>\n",
       "      <td>...</td>\n",
       "      <td>64</td>\n",
       "      <td>Normal</td>\n",
       "      <td>Organised</td>\n",
       "      <td>47</td>\n",
       "      <td>Medium</td>\n",
       "      <td>44</td>\n",
       "      <td>Press</td>\n",
       "      <td>54</td>\n",
       "      <td>Normal</td>\n",
       "      <td>Cover</td>\n",
       "    </tr>\n",
       "    <tr>\n",
       "      <th>2</th>\n",
       "      <td>3</td>\n",
       "      <td>434</td>\n",
       "      <td>9930</td>\n",
       "      <td>2015-09-10 00:00:00</td>\n",
       "      <td>47</td>\n",
       "      <td>Balanced</td>\n",
       "      <td>41.0</td>\n",
       "      <td>Normal</td>\n",
       "      <td>54</td>\n",
       "      <td>Mixed</td>\n",
       "      <td>...</td>\n",
       "      <td>64</td>\n",
       "      <td>Normal</td>\n",
       "      <td>Organised</td>\n",
       "      <td>47</td>\n",
       "      <td>Medium</td>\n",
       "      <td>44</td>\n",
       "      <td>Press</td>\n",
       "      <td>54</td>\n",
       "      <td>Normal</td>\n",
       "      <td>Cover</td>\n",
       "    </tr>\n",
       "    <tr>\n",
       "      <th>3</th>\n",
       "      <td>4</td>\n",
       "      <td>77</td>\n",
       "      <td>8485</td>\n",
       "      <td>2010-02-22 00:00:00</td>\n",
       "      <td>70</td>\n",
       "      <td>Fast</td>\n",
       "      <td>NaN</td>\n",
       "      <td>Little</td>\n",
       "      <td>70</td>\n",
       "      <td>Long</td>\n",
       "      <td>...</td>\n",
       "      <td>70</td>\n",
       "      <td>Lots</td>\n",
       "      <td>Organised</td>\n",
       "      <td>60</td>\n",
       "      <td>Medium</td>\n",
       "      <td>70</td>\n",
       "      <td>Double</td>\n",
       "      <td>70</td>\n",
       "      <td>Wide</td>\n",
       "      <td>Cover</td>\n",
       "    </tr>\n",
       "    <tr>\n",
       "      <th>4</th>\n",
       "      <td>5</td>\n",
       "      <td>77</td>\n",
       "      <td>8485</td>\n",
       "      <td>2011-02-22 00:00:00</td>\n",
       "      <td>47</td>\n",
       "      <td>Balanced</td>\n",
       "      <td>NaN</td>\n",
       "      <td>Little</td>\n",
       "      <td>52</td>\n",
       "      <td>Mixed</td>\n",
       "      <td>...</td>\n",
       "      <td>52</td>\n",
       "      <td>Normal</td>\n",
       "      <td>Organised</td>\n",
       "      <td>47</td>\n",
       "      <td>Medium</td>\n",
       "      <td>47</td>\n",
       "      <td>Press</td>\n",
       "      <td>52</td>\n",
       "      <td>Normal</td>\n",
       "      <td>Cover</td>\n",
       "    </tr>\n",
       "  </tbody>\n",
       "</table>\n",
       "<p>5 rows × 25 columns</p>\n",
       "</div>"
      ],
      "text/plain": [
       "   id  team_fifa_api_id  team_api_id                 date  buildUpPlaySpeed  \\\n",
       "0   1               434         9930  2010-02-22 00:00:00                60   \n",
       "1   2               434         9930  2014-09-19 00:00:00                52   \n",
       "2   3               434         9930  2015-09-10 00:00:00                47   \n",
       "3   4                77         8485  2010-02-22 00:00:00                70   \n",
       "4   5                77         8485  2011-02-22 00:00:00                47   \n",
       "\n",
       "  buildUpPlaySpeedClass  buildUpPlayDribbling buildUpPlayDribblingClass  \\\n",
       "0              Balanced                   NaN                    Little   \n",
       "1              Balanced                  48.0                    Normal   \n",
       "2              Balanced                  41.0                    Normal   \n",
       "3                  Fast                   NaN                    Little   \n",
       "4              Balanced                   NaN                    Little   \n",
       "\n",
       "   buildUpPlayPassing buildUpPlayPassingClass           ...             \\\n",
       "0                  50                   Mixed           ...              \n",
       "1                  56                   Mixed           ...              \n",
       "2                  54                   Mixed           ...              \n",
       "3                  70                    Long           ...              \n",
       "4                  52                   Mixed           ...              \n",
       "\n",
       "  chanceCreationShooting  chanceCreationShootingClass  \\\n",
       "0                     55                       Normal   \n",
       "1                     64                       Normal   \n",
       "2                     64                       Normal   \n",
       "3                     70                         Lots   \n",
       "4                     52                       Normal   \n",
       "\n",
       "  chanceCreationPositioningClass  defencePressure defencePressureClass  \\\n",
       "0                      Organised               50               Medium   \n",
       "1                      Organised               47               Medium   \n",
       "2                      Organised               47               Medium   \n",
       "3                      Organised               60               Medium   \n",
       "4                      Organised               47               Medium   \n",
       "\n",
       "   defenceAggression defenceAggressionClass defenceTeamWidth  \\\n",
       "0                 55                  Press               45   \n",
       "1                 44                  Press               54   \n",
       "2                 44                  Press               54   \n",
       "3                 70                 Double               70   \n",
       "4                 47                  Press               52   \n",
       "\n",
       "   defenceTeamWidthClass defenceDefenderLineClass  \n",
       "0                 Normal                    Cover  \n",
       "1                 Normal                    Cover  \n",
       "2                 Normal                    Cover  \n",
       "3                   Wide                    Cover  \n",
       "4                 Normal                    Cover  \n",
       "\n",
       "[5 rows x 25 columns]"
      ]
     },
     "execution_count": 19,
     "metadata": {},
     "output_type": "execute_result"
    }
   ],
   "source": [
    "df_team_att.head()"
   ]
  },
  {
   "cell_type": "markdown",
   "metadata": {},
   "source": [
    "Here, we need to know the team name of each row because `team_api_id` corresponds to a team. We'll perform another merge operation on the Team table."
   ]
  },
  {
   "cell_type": "code",
   "execution_count": 20,
   "metadata": {},
   "outputs": [
    {
     "data": {
      "text/plain": [
       "(1458, 25)"
      ]
     },
     "execution_count": 20,
     "metadata": {},
     "output_type": "execute_result"
    }
   ],
   "source": [
    "df_team_att.shape"
   ]
  },
  {
   "cell_type": "markdown",
   "metadata": {},
   "source": [
    "The last table is match. In the match table, I have seen 4 important id columns (i.e. `country_id`,  `league_id`, `home_team_api_id`, and `away_team_api_id`). After merging the corresponding tables with the match table, we can analyze several questions like the ones I have written down."
   ]
  },
  {
   "cell_type": "code",
   "execution_count": 21,
   "metadata": {},
   "outputs": [
    {
     "data": {
      "text/html": [
       "<div>\n",
       "<style scoped>\n",
       "    .dataframe tbody tr th:only-of-type {\n",
       "        vertical-align: middle;\n",
       "    }\n",
       "\n",
       "    .dataframe tbody tr th {\n",
       "        vertical-align: top;\n",
       "    }\n",
       "\n",
       "    .dataframe thead th {\n",
       "        text-align: right;\n",
       "    }\n",
       "</style>\n",
       "<table border=\"1\" class=\"dataframe\">\n",
       "  <thead>\n",
       "    <tr style=\"text-align: right;\">\n",
       "      <th></th>\n",
       "      <th>id</th>\n",
       "      <th>country_id</th>\n",
       "      <th>league_id</th>\n",
       "      <th>season</th>\n",
       "      <th>stage</th>\n",
       "      <th>date</th>\n",
       "      <th>match_api_id</th>\n",
       "      <th>home_team_api_id</th>\n",
       "      <th>away_team_api_id</th>\n",
       "      <th>home_team_goal</th>\n",
       "      <th>...</th>\n",
       "      <th>SJA</th>\n",
       "      <th>VCH</th>\n",
       "      <th>VCD</th>\n",
       "      <th>VCA</th>\n",
       "      <th>GBH</th>\n",
       "      <th>GBD</th>\n",
       "      <th>GBA</th>\n",
       "      <th>BSH</th>\n",
       "      <th>BSD</th>\n",
       "      <th>BSA</th>\n",
       "    </tr>\n",
       "  </thead>\n",
       "  <tbody>\n",
       "    <tr>\n",
       "      <th>0</th>\n",
       "      <td>1</td>\n",
       "      <td>1</td>\n",
       "      <td>1</td>\n",
       "      <td>2008/2009</td>\n",
       "      <td>1</td>\n",
       "      <td>2008-08-17 00:00:00</td>\n",
       "      <td>492473</td>\n",
       "      <td>9987</td>\n",
       "      <td>9993</td>\n",
       "      <td>1</td>\n",
       "      <td>...</td>\n",
       "      <td>4.00</td>\n",
       "      <td>1.65</td>\n",
       "      <td>3.40</td>\n",
       "      <td>4.50</td>\n",
       "      <td>1.78</td>\n",
       "      <td>3.25</td>\n",
       "      <td>4.00</td>\n",
       "      <td>1.73</td>\n",
       "      <td>3.40</td>\n",
       "      <td>4.20</td>\n",
       "    </tr>\n",
       "    <tr>\n",
       "      <th>1</th>\n",
       "      <td>2</td>\n",
       "      <td>1</td>\n",
       "      <td>1</td>\n",
       "      <td>2008/2009</td>\n",
       "      <td>1</td>\n",
       "      <td>2008-08-16 00:00:00</td>\n",
       "      <td>492474</td>\n",
       "      <td>10000</td>\n",
       "      <td>9994</td>\n",
       "      <td>0</td>\n",
       "      <td>...</td>\n",
       "      <td>3.80</td>\n",
       "      <td>2.00</td>\n",
       "      <td>3.25</td>\n",
       "      <td>3.25</td>\n",
       "      <td>1.85</td>\n",
       "      <td>3.25</td>\n",
       "      <td>3.75</td>\n",
       "      <td>1.91</td>\n",
       "      <td>3.25</td>\n",
       "      <td>3.60</td>\n",
       "    </tr>\n",
       "    <tr>\n",
       "      <th>2</th>\n",
       "      <td>3</td>\n",
       "      <td>1</td>\n",
       "      <td>1</td>\n",
       "      <td>2008/2009</td>\n",
       "      <td>1</td>\n",
       "      <td>2008-08-16 00:00:00</td>\n",
       "      <td>492475</td>\n",
       "      <td>9984</td>\n",
       "      <td>8635</td>\n",
       "      <td>0</td>\n",
       "      <td>...</td>\n",
       "      <td>2.50</td>\n",
       "      <td>2.35</td>\n",
       "      <td>3.25</td>\n",
       "      <td>2.65</td>\n",
       "      <td>2.50</td>\n",
       "      <td>3.20</td>\n",
       "      <td>2.50</td>\n",
       "      <td>2.30</td>\n",
       "      <td>3.20</td>\n",
       "      <td>2.75</td>\n",
       "    </tr>\n",
       "    <tr>\n",
       "      <th>3</th>\n",
       "      <td>4</td>\n",
       "      <td>1</td>\n",
       "      <td>1</td>\n",
       "      <td>2008/2009</td>\n",
       "      <td>1</td>\n",
       "      <td>2008-08-17 00:00:00</td>\n",
       "      <td>492476</td>\n",
       "      <td>9991</td>\n",
       "      <td>9998</td>\n",
       "      <td>5</td>\n",
       "      <td>...</td>\n",
       "      <td>7.50</td>\n",
       "      <td>1.45</td>\n",
       "      <td>3.75</td>\n",
       "      <td>6.50</td>\n",
       "      <td>1.50</td>\n",
       "      <td>3.75</td>\n",
       "      <td>5.50</td>\n",
       "      <td>1.44</td>\n",
       "      <td>3.75</td>\n",
       "      <td>6.50</td>\n",
       "    </tr>\n",
       "    <tr>\n",
       "      <th>4</th>\n",
       "      <td>5</td>\n",
       "      <td>1</td>\n",
       "      <td>1</td>\n",
       "      <td>2008/2009</td>\n",
       "      <td>1</td>\n",
       "      <td>2008-08-16 00:00:00</td>\n",
       "      <td>492477</td>\n",
       "      <td>7947</td>\n",
       "      <td>9985</td>\n",
       "      <td>1</td>\n",
       "      <td>...</td>\n",
       "      <td>1.73</td>\n",
       "      <td>4.50</td>\n",
       "      <td>3.40</td>\n",
       "      <td>1.65</td>\n",
       "      <td>4.50</td>\n",
       "      <td>3.50</td>\n",
       "      <td>1.65</td>\n",
       "      <td>4.75</td>\n",
       "      <td>3.30</td>\n",
       "      <td>1.67</td>\n",
       "    </tr>\n",
       "  </tbody>\n",
       "</table>\n",
       "<p>5 rows × 115 columns</p>\n",
       "</div>"
      ],
      "text/plain": [
       "   id  country_id  league_id     season  stage                 date  \\\n",
       "0   1           1          1  2008/2009      1  2008-08-17 00:00:00   \n",
       "1   2           1          1  2008/2009      1  2008-08-16 00:00:00   \n",
       "2   3           1          1  2008/2009      1  2008-08-16 00:00:00   \n",
       "3   4           1          1  2008/2009      1  2008-08-17 00:00:00   \n",
       "4   5           1          1  2008/2009      1  2008-08-16 00:00:00   \n",
       "\n",
       "   match_api_id  home_team_api_id  away_team_api_id  home_team_goal  ...   \\\n",
       "0        492473              9987              9993               1  ...    \n",
       "1        492474             10000              9994               0  ...    \n",
       "2        492475              9984              8635               0  ...    \n",
       "3        492476              9991              9998               5  ...    \n",
       "4        492477              7947              9985               1  ...    \n",
       "\n",
       "    SJA   VCH   VCD   VCA   GBH   GBD   GBA   BSH   BSD   BSA  \n",
       "0  4.00  1.65  3.40  4.50  1.78  3.25  4.00  1.73  3.40  4.20  \n",
       "1  3.80  2.00  3.25  3.25  1.85  3.25  3.75  1.91  3.25  3.60  \n",
       "2  2.50  2.35  3.25  2.65  2.50  3.20  2.50  2.30  3.20  2.75  \n",
       "3  7.50  1.45  3.75  6.50  1.50  3.75  5.50  1.44  3.75  6.50  \n",
       "4  1.73  4.50  3.40  1.65  4.50  3.50  1.65  4.75  3.30  1.67  \n",
       "\n",
       "[5 rows x 115 columns]"
      ]
     },
     "execution_count": 21,
     "metadata": {},
     "output_type": "execute_result"
    }
   ],
   "source": [
    "df_match.head()"
   ]
  },
  {
   "cell_type": "code",
   "execution_count": 22,
   "metadata": {},
   "outputs": [
    {
     "data": {
      "text/plain": [
       "0"
      ]
     },
     "execution_count": 22,
     "metadata": {},
     "output_type": "execute_result"
    }
   ],
   "source": [
    "# number of duplicated rows\n",
    "df_match.duplicated().sum()"
   ]
  },
  {
   "cell_type": "code",
   "execution_count": 23,
   "metadata": {},
   "outputs": [
    {
     "data": {
      "text/plain": [
       "(25979, 115)"
      ]
     },
     "execution_count": 23,
     "metadata": {},
     "output_type": "execute_result"
    }
   ],
   "source": [
    "df_match.shape"
   ]
  },
  {
   "cell_type": "code",
   "execution_count": 24,
   "metadata": {},
   "outputs": [
    {
     "data": {
      "text/plain": [
       "407395"
      ]
     },
     "execution_count": 24,
     "metadata": {},
     "output_type": "execute_result"
    }
   ],
   "source": [
    "# number of missing values\n",
    "df_match.isnull().sum().sum()"
   ]
  },
  {
   "cell_type": "code",
   "execution_count": 25,
   "metadata": {},
   "outputs": [
    {
     "data": {
      "text/plain": [
       "id                      0\n",
       "country_id              0\n",
       "league_id               0\n",
       "season                  0\n",
       "stage                   0\n",
       "date                    0\n",
       "match_api_id            0\n",
       "home_team_api_id        0\n",
       "away_team_api_id        0\n",
       "home_team_goal          0\n",
       "away_team_goal          0\n",
       "home_player_X1       1821\n",
       "home_player_X2       1821\n",
       "home_player_X3       1832\n",
       "home_player_X4       1832\n",
       "home_player_X5       1832\n",
       "home_player_X6       1832\n",
       "home_player_X7       1832\n",
       "home_player_X8       1832\n",
       "home_player_X9       1832\n",
       "home_player_X10      1832\n",
       "home_player_X11      1832\n",
       "away_player_X1       1832\n",
       "away_player_X2       1832\n",
       "away_player_X3       1832\n",
       "away_player_X4       1832\n",
       "away_player_X5       1832\n",
       "away_player_X6       1832\n",
       "away_player_X7       1832\n",
       "away_player_X8       1832\n",
       "                    ...  \n",
       "B365H                3387\n",
       "B365D                3387\n",
       "B365A                3387\n",
       "BWH                  3404\n",
       "BWD                  3404\n",
       "BWA                  3404\n",
       "IWH                  3459\n",
       "IWD                  3459\n",
       "IWA                  3459\n",
       "LBH                  3423\n",
       "LBD                  3423\n",
       "LBA                  3423\n",
       "PSH                 14811\n",
       "PSD                 14811\n",
       "PSA                 14811\n",
       "WHH                  3408\n",
       "WHD                  3408\n",
       "WHA                  3408\n",
       "SJH                  8882\n",
       "SJD                  8882\n",
       "SJA                  8882\n",
       "VCH                  3411\n",
       "VCD                  3411\n",
       "VCA                  3411\n",
       "GBH                 11817\n",
       "GBD                 11817\n",
       "GBA                 11817\n",
       "BSH                 11818\n",
       "BSD                 11818\n",
       "BSA                 11818\n",
       "Length: 115, dtype: int64"
      ]
     },
     "execution_count": 25,
     "metadata": {},
     "output_type": "execute_result"
    }
   ],
   "source": [
    "# number of missing values\n",
    "df_match.isnull().sum()"
   ]
  },
  {
   "cell_type": "markdown",
   "metadata": {},
   "source": [
    "There are a lot of missing values in the match table. I can drop some columns that we are not interested in. The first 11 columns are what we need for our questions."
   ]
  },
  {
   "cell_type": "markdown",
   "metadata": {},
   "source": [
    "### Data Cleaning : The Match Table\n",
    "\n",
    "Now I start cleaning the match table by adding new columns and dropping columns that we don't use for the questions. "
   ]
  },
  {
   "cell_type": "code",
   "execution_count": 26,
   "metadata": {
    "collapsed": true
   },
   "outputs": [],
   "source": [
    "# drop any columns that contains a missing value\n",
    "df_match.dropna(axis='columns', inplace=True)"
   ]
  },
  {
   "cell_type": "code",
   "execution_count": 27,
   "metadata": {},
   "outputs": [
    {
     "data": {
      "text/html": [
       "<div>\n",
       "<style scoped>\n",
       "    .dataframe tbody tr th:only-of-type {\n",
       "        vertical-align: middle;\n",
       "    }\n",
       "\n",
       "    .dataframe tbody tr th {\n",
       "        vertical-align: top;\n",
       "    }\n",
       "\n",
       "    .dataframe thead th {\n",
       "        text-align: right;\n",
       "    }\n",
       "</style>\n",
       "<table border=\"1\" class=\"dataframe\">\n",
       "  <thead>\n",
       "    <tr style=\"text-align: right;\">\n",
       "      <th></th>\n",
       "      <th>id</th>\n",
       "      <th>country_id</th>\n",
       "      <th>league_id</th>\n",
       "      <th>season</th>\n",
       "      <th>stage</th>\n",
       "      <th>date</th>\n",
       "      <th>match_api_id</th>\n",
       "      <th>home_team_api_id</th>\n",
       "      <th>away_team_api_id</th>\n",
       "      <th>home_team_goal</th>\n",
       "      <th>away_team_goal</th>\n",
       "    </tr>\n",
       "  </thead>\n",
       "  <tbody>\n",
       "    <tr>\n",
       "      <th>0</th>\n",
       "      <td>1</td>\n",
       "      <td>1</td>\n",
       "      <td>1</td>\n",
       "      <td>2008/2009</td>\n",
       "      <td>1</td>\n",
       "      <td>2008-08-17 00:00:00</td>\n",
       "      <td>492473</td>\n",
       "      <td>9987</td>\n",
       "      <td>9993</td>\n",
       "      <td>1</td>\n",
       "      <td>1</td>\n",
       "    </tr>\n",
       "    <tr>\n",
       "      <th>1</th>\n",
       "      <td>2</td>\n",
       "      <td>1</td>\n",
       "      <td>1</td>\n",
       "      <td>2008/2009</td>\n",
       "      <td>1</td>\n",
       "      <td>2008-08-16 00:00:00</td>\n",
       "      <td>492474</td>\n",
       "      <td>10000</td>\n",
       "      <td>9994</td>\n",
       "      <td>0</td>\n",
       "      <td>0</td>\n",
       "    </tr>\n",
       "    <tr>\n",
       "      <th>2</th>\n",
       "      <td>3</td>\n",
       "      <td>1</td>\n",
       "      <td>1</td>\n",
       "      <td>2008/2009</td>\n",
       "      <td>1</td>\n",
       "      <td>2008-08-16 00:00:00</td>\n",
       "      <td>492475</td>\n",
       "      <td>9984</td>\n",
       "      <td>8635</td>\n",
       "      <td>0</td>\n",
       "      <td>3</td>\n",
       "    </tr>\n",
       "    <tr>\n",
       "      <th>3</th>\n",
       "      <td>4</td>\n",
       "      <td>1</td>\n",
       "      <td>1</td>\n",
       "      <td>2008/2009</td>\n",
       "      <td>1</td>\n",
       "      <td>2008-08-17 00:00:00</td>\n",
       "      <td>492476</td>\n",
       "      <td>9991</td>\n",
       "      <td>9998</td>\n",
       "      <td>5</td>\n",
       "      <td>0</td>\n",
       "    </tr>\n",
       "    <tr>\n",
       "      <th>4</th>\n",
       "      <td>5</td>\n",
       "      <td>1</td>\n",
       "      <td>1</td>\n",
       "      <td>2008/2009</td>\n",
       "      <td>1</td>\n",
       "      <td>2008-08-16 00:00:00</td>\n",
       "      <td>492477</td>\n",
       "      <td>7947</td>\n",
       "      <td>9985</td>\n",
       "      <td>1</td>\n",
       "      <td>3</td>\n",
       "    </tr>\n",
       "  </tbody>\n",
       "</table>\n",
       "</div>"
      ],
      "text/plain": [
       "   id  country_id  league_id     season  stage                 date  \\\n",
       "0   1           1          1  2008/2009      1  2008-08-17 00:00:00   \n",
       "1   2           1          1  2008/2009      1  2008-08-16 00:00:00   \n",
       "2   3           1          1  2008/2009      1  2008-08-16 00:00:00   \n",
       "3   4           1          1  2008/2009      1  2008-08-17 00:00:00   \n",
       "4   5           1          1  2008/2009      1  2008-08-16 00:00:00   \n",
       "\n",
       "   match_api_id  home_team_api_id  away_team_api_id  home_team_goal  \\\n",
       "0        492473              9987              9993               1   \n",
       "1        492474             10000              9994               0   \n",
       "2        492475              9984              8635               0   \n",
       "3        492476              9991              9998               5   \n",
       "4        492477              7947              9985               1   \n",
       "\n",
       "   away_team_goal  \n",
       "0               1  \n",
       "1               0  \n",
       "2               3  \n",
       "3               0  \n",
       "4               3  "
      ]
     },
     "execution_count": 27,
     "metadata": {},
     "output_type": "execute_result"
    }
   ],
   "source": [
    "# new look\n",
    "df_match.head()"
   ]
  },
  {
   "cell_type": "markdown",
   "metadata": {},
   "source": [
    "Now, it's better to analyze and examine the information details."
   ]
  },
  {
   "cell_type": "code",
   "execution_count": 28,
   "metadata": {},
   "outputs": [
    {
     "name": "stdout",
     "output_type": "stream",
     "text": [
      "<class 'pandas.core.frame.DataFrame'>\n",
      "RangeIndex: 25979 entries, 0 to 25978\n",
      "Data columns (total 11 columns):\n",
      "id                  25979 non-null int64\n",
      "country_id          25979 non-null int64\n",
      "league_id           25979 non-null int64\n",
      "season              25979 non-null object\n",
      "stage               25979 non-null int64\n",
      "date                25979 non-null object\n",
      "match_api_id        25979 non-null int64\n",
      "home_team_api_id    25979 non-null int64\n",
      "away_team_api_id    25979 non-null int64\n",
      "home_team_goal      25979 non-null int64\n",
      "away_team_goal      25979 non-null int64\n",
      "dtypes: int64(9), object(2)\n",
      "memory usage: 2.2+ MB\n"
     ]
    }
   ],
   "source": [
    "df_match.info()"
   ]
  },
  {
   "cell_type": "markdown",
   "metadata": {},
   "source": [
    "I find that I have to convert the date column to datatime since it's now object which is of type `String` and I want to divide the 'season' column into 2 seperate columns as 'start_season' and 'end_season', Let's do it!\n"
   ]
  },
  {
   "cell_type": "code",
   "execution_count": 29,
   "metadata": {},
   "outputs": [],
   "source": [
    "df_match['date'] = pd.to_datetime(df_match['date'])"
   ]
  },
  {
   "cell_type": "markdown",
   "metadata": {},
   "source": [
    "I want to add another column as well as a year column:"
   ]
  },
  {
   "cell_type": "code",
   "execution_count": 30,
   "metadata": {},
   "outputs": [],
   "source": [
    "df_match['year'] = df_match['date'].dt.year"
   ]
  },
  {
   "cell_type": "code",
   "execution_count": 31,
   "metadata": {},
   "outputs": [],
   "source": [
    "# split the session column into two columns\n",
    "start_season = df_match['season'].apply(lambda x: x.split(\"/\")[0])\n",
    "end_season = df_match['season'].apply(lambda x: x.split(\"/\")[1])\n",
    "\n",
    "df_match['start_season'] = start_season\n",
    "df_match['end_season'] = end_season\n",
    "\n",
    "# drop the session column, we don't need it anymore\n",
    "df_match.drop(columns=['season'], axis=1, inplace=True)"
   ]
  },
  {
   "cell_type": "markdown",
   "metadata": {},
   "source": [
    "Now I want to get away from id columns which are `country_id`, `leage_id`, `home_team_api_id` and `away_team_api_id` in order to do that, I need to find the corresponding names of each id from others DataFrames by merging with the match dataset."
   ]
  },
  {
   "cell_type": "code",
   "execution_count": 32,
   "metadata": {},
   "outputs": [
    {
     "data": {
      "text/html": [
       "<div>\n",
       "<style scoped>\n",
       "    .dataframe tbody tr th:only-of-type {\n",
       "        vertical-align: middle;\n",
       "    }\n",
       "\n",
       "    .dataframe tbody tr th {\n",
       "        vertical-align: top;\n",
       "    }\n",
       "\n",
       "    .dataframe thead th {\n",
       "        text-align: right;\n",
       "    }\n",
       "</style>\n",
       "<table border=\"1\" class=\"dataframe\">\n",
       "  <thead>\n",
       "    <tr style=\"text-align: right;\">\n",
       "      <th></th>\n",
       "      <th>id</th>\n",
       "      <th>league_id</th>\n",
       "      <th>stage</th>\n",
       "      <th>date</th>\n",
       "      <th>match_api_id</th>\n",
       "      <th>home_team_api_id</th>\n",
       "      <th>away_team_api_id</th>\n",
       "      <th>home_team_goal</th>\n",
       "      <th>away_team_goal</th>\n",
       "      <th>year</th>\n",
       "      <th>start_season</th>\n",
       "      <th>end_season</th>\n",
       "      <th>country_name</th>\n",
       "    </tr>\n",
       "  </thead>\n",
       "  <tbody>\n",
       "    <tr>\n",
       "      <th>0</th>\n",
       "      <td>1</td>\n",
       "      <td>1</td>\n",
       "      <td>1</td>\n",
       "      <td>2008-08-17</td>\n",
       "      <td>492473</td>\n",
       "      <td>9987</td>\n",
       "      <td>9993</td>\n",
       "      <td>1</td>\n",
       "      <td>1</td>\n",
       "      <td>2008</td>\n",
       "      <td>2008</td>\n",
       "      <td>2009</td>\n",
       "      <td>Belgium</td>\n",
       "    </tr>\n",
       "    <tr>\n",
       "      <th>1</th>\n",
       "      <td>2</td>\n",
       "      <td>1</td>\n",
       "      <td>1</td>\n",
       "      <td>2008-08-16</td>\n",
       "      <td>492474</td>\n",
       "      <td>10000</td>\n",
       "      <td>9994</td>\n",
       "      <td>0</td>\n",
       "      <td>0</td>\n",
       "      <td>2008</td>\n",
       "      <td>2008</td>\n",
       "      <td>2009</td>\n",
       "      <td>Belgium</td>\n",
       "    </tr>\n",
       "    <tr>\n",
       "      <th>2</th>\n",
       "      <td>3</td>\n",
       "      <td>1</td>\n",
       "      <td>1</td>\n",
       "      <td>2008-08-16</td>\n",
       "      <td>492475</td>\n",
       "      <td>9984</td>\n",
       "      <td>8635</td>\n",
       "      <td>0</td>\n",
       "      <td>3</td>\n",
       "      <td>2008</td>\n",
       "      <td>2008</td>\n",
       "      <td>2009</td>\n",
       "      <td>Belgium</td>\n",
       "    </tr>\n",
       "    <tr>\n",
       "      <th>3</th>\n",
       "      <td>4</td>\n",
       "      <td>1</td>\n",
       "      <td>1</td>\n",
       "      <td>2008-08-17</td>\n",
       "      <td>492476</td>\n",
       "      <td>9991</td>\n",
       "      <td>9998</td>\n",
       "      <td>5</td>\n",
       "      <td>0</td>\n",
       "      <td>2008</td>\n",
       "      <td>2008</td>\n",
       "      <td>2009</td>\n",
       "      <td>Belgium</td>\n",
       "    </tr>\n",
       "    <tr>\n",
       "      <th>4</th>\n",
       "      <td>5</td>\n",
       "      <td>1</td>\n",
       "      <td>1</td>\n",
       "      <td>2008-08-16</td>\n",
       "      <td>492477</td>\n",
       "      <td>7947</td>\n",
       "      <td>9985</td>\n",
       "      <td>1</td>\n",
       "      <td>3</td>\n",
       "      <td>2008</td>\n",
       "      <td>2008</td>\n",
       "      <td>2009</td>\n",
       "      <td>Belgium</td>\n",
       "    </tr>\n",
       "  </tbody>\n",
       "</table>\n",
       "</div>"
      ],
      "text/plain": [
       "   id  league_id  stage       date  match_api_id  home_team_api_id  \\\n",
       "0   1          1      1 2008-08-17        492473              9987   \n",
       "1   2          1      1 2008-08-16        492474             10000   \n",
       "2   3          1      1 2008-08-16        492475              9984   \n",
       "3   4          1      1 2008-08-17        492476              9991   \n",
       "4   5          1      1 2008-08-16        492477              7947   \n",
       "\n",
       "   away_team_api_id  home_team_goal  away_team_goal  year start_season  \\\n",
       "0              9993               1               1  2008         2008   \n",
       "1              9994               0               0  2008         2008   \n",
       "2              8635               0               3  2008         2008   \n",
       "3              9998               5               0  2008         2008   \n",
       "4              9985               1               3  2008         2008   \n",
       "\n",
       "  end_season country_name  \n",
       "0       2009      Belgium  \n",
       "1       2009      Belgium  \n",
       "2       2009      Belgium  \n",
       "3       2009      Belgium  \n",
       "4       2009      Belgium  "
      ]
     },
     "execution_count": 32,
     "metadata": {},
     "output_type": "execute_result"
    }
   ],
   "source": [
    "# start first with the country_id:\n",
    "\n",
    "# rename name to country_name and id to country_id\n",
    "df_country.rename(columns={'name' : 'country_name', 'id': 'country_id'}, inplace=True)\n",
    "\n",
    "# apply inner merge with country table\n",
    "df_match = df_match.merge(df_country, how='inner', left_on='country_id', right_on='country_id')\n",
    "\n",
    "# drop now country_id\n",
    "df_match.drop(columns=['country_id'], inplace=True)\n",
    "\n",
    "# let's look at the new view\n",
    "df_match.head()"
   ]
  },
  {
   "cell_type": "markdown",
   "metadata": {},
   "source": [
    "I carry out the same method with the League table:"
   ]
  },
  {
   "cell_type": "code",
   "execution_count": 33,
   "metadata": {},
   "outputs": [
    {
     "data": {
      "text/html": [
       "<div>\n",
       "<style scoped>\n",
       "    .dataframe tbody tr th:only-of-type {\n",
       "        vertical-align: middle;\n",
       "    }\n",
       "\n",
       "    .dataframe tbody tr th {\n",
       "        vertical-align: top;\n",
       "    }\n",
       "\n",
       "    .dataframe thead th {\n",
       "        text-align: right;\n",
       "    }\n",
       "</style>\n",
       "<table border=\"1\" class=\"dataframe\">\n",
       "  <thead>\n",
       "    <tr style=\"text-align: right;\">\n",
       "      <th></th>\n",
       "      <th>id</th>\n",
       "      <th>stage</th>\n",
       "      <th>date</th>\n",
       "      <th>match_api_id</th>\n",
       "      <th>home_team_api_id</th>\n",
       "      <th>away_team_api_id</th>\n",
       "      <th>home_team_goal</th>\n",
       "      <th>away_team_goal</th>\n",
       "      <th>year</th>\n",
       "      <th>start_season</th>\n",
       "      <th>end_season</th>\n",
       "      <th>country_name</th>\n",
       "      <th>league_name</th>\n",
       "    </tr>\n",
       "  </thead>\n",
       "  <tbody>\n",
       "    <tr>\n",
       "      <th>0</th>\n",
       "      <td>1</td>\n",
       "      <td>1</td>\n",
       "      <td>2008-08-17</td>\n",
       "      <td>492473</td>\n",
       "      <td>9987</td>\n",
       "      <td>9993</td>\n",
       "      <td>1</td>\n",
       "      <td>1</td>\n",
       "      <td>2008</td>\n",
       "      <td>2008</td>\n",
       "      <td>2009</td>\n",
       "      <td>Belgium</td>\n",
       "      <td>Belgium Jupiler League</td>\n",
       "    </tr>\n",
       "    <tr>\n",
       "      <th>1</th>\n",
       "      <td>2</td>\n",
       "      <td>1</td>\n",
       "      <td>2008-08-16</td>\n",
       "      <td>492474</td>\n",
       "      <td>10000</td>\n",
       "      <td>9994</td>\n",
       "      <td>0</td>\n",
       "      <td>0</td>\n",
       "      <td>2008</td>\n",
       "      <td>2008</td>\n",
       "      <td>2009</td>\n",
       "      <td>Belgium</td>\n",
       "      <td>Belgium Jupiler League</td>\n",
       "    </tr>\n",
       "    <tr>\n",
       "      <th>2</th>\n",
       "      <td>3</td>\n",
       "      <td>1</td>\n",
       "      <td>2008-08-16</td>\n",
       "      <td>492475</td>\n",
       "      <td>9984</td>\n",
       "      <td>8635</td>\n",
       "      <td>0</td>\n",
       "      <td>3</td>\n",
       "      <td>2008</td>\n",
       "      <td>2008</td>\n",
       "      <td>2009</td>\n",
       "      <td>Belgium</td>\n",
       "      <td>Belgium Jupiler League</td>\n",
       "    </tr>\n",
       "    <tr>\n",
       "      <th>3</th>\n",
       "      <td>4</td>\n",
       "      <td>1</td>\n",
       "      <td>2008-08-17</td>\n",
       "      <td>492476</td>\n",
       "      <td>9991</td>\n",
       "      <td>9998</td>\n",
       "      <td>5</td>\n",
       "      <td>0</td>\n",
       "      <td>2008</td>\n",
       "      <td>2008</td>\n",
       "      <td>2009</td>\n",
       "      <td>Belgium</td>\n",
       "      <td>Belgium Jupiler League</td>\n",
       "    </tr>\n",
       "    <tr>\n",
       "      <th>4</th>\n",
       "      <td>5</td>\n",
       "      <td>1</td>\n",
       "      <td>2008-08-16</td>\n",
       "      <td>492477</td>\n",
       "      <td>7947</td>\n",
       "      <td>9985</td>\n",
       "      <td>1</td>\n",
       "      <td>3</td>\n",
       "      <td>2008</td>\n",
       "      <td>2008</td>\n",
       "      <td>2009</td>\n",
       "      <td>Belgium</td>\n",
       "      <td>Belgium Jupiler League</td>\n",
       "    </tr>\n",
       "  </tbody>\n",
       "</table>\n",
       "</div>"
      ],
      "text/plain": [
       "   id  stage       date  match_api_id  home_team_api_id  away_team_api_id  \\\n",
       "0   1      1 2008-08-17        492473              9987              9993   \n",
       "1   2      1 2008-08-16        492474             10000              9994   \n",
       "2   3      1 2008-08-16        492475              9984              8635   \n",
       "3   4      1 2008-08-17        492476              9991              9998   \n",
       "4   5      1 2008-08-16        492477              7947              9985   \n",
       "\n",
       "   home_team_goal  away_team_goal  year start_season end_season country_name  \\\n",
       "0               1               1  2008         2008       2009      Belgium   \n",
       "1               0               0  2008         2008       2009      Belgium   \n",
       "2               0               3  2008         2008       2009      Belgium   \n",
       "3               5               0  2008         2008       2009      Belgium   \n",
       "4               1               3  2008         2008       2009      Belgium   \n",
       "\n",
       "              league_name  \n",
       "0  Belgium Jupiler League  \n",
       "1  Belgium Jupiler League  \n",
       "2  Belgium Jupiler League  \n",
       "3  Belgium Jupiler League  \n",
       "4  Belgium Jupiler League  "
      ]
     },
     "execution_count": 33,
     "metadata": {},
     "output_type": "execute_result"
    }
   ],
   "source": [
    "# I don't modify the data league itself, so just I copy it\n",
    "df_copy_league = df_league.copy()\n",
    "\n",
    "# rename the two columns 'name' and 'id'\n",
    "df_copy_league.rename(columns={'name': 'league_name', 'id': 'league_id'}, inplace=True)\n",
    "\n",
    "# apply inner merge with league table\n",
    "df_match = df_match.merge(df_copy_league, how='inner', left_on='league_id', right_on='league_id')\n",
    "\n",
    "# drop now country_id and league_id\n",
    "df_match.drop(columns=['league_id', 'country_id'], inplace=True)\n",
    "\n",
    "# see the new look \n",
    "df_match.head()"
   ]
  },
  {
   "cell_type": "markdown",
   "metadata": {},
   "source": [
    "We need to know which teams played together:"
   ]
  },
  {
   "cell_type": "code",
   "execution_count": 34,
   "metadata": {},
   "outputs": [
    {
     "data": {
      "text/html": [
       "<div>\n",
       "<style scoped>\n",
       "    .dataframe tbody tr th:only-of-type {\n",
       "        vertical-align: middle;\n",
       "    }\n",
       "\n",
       "    .dataframe tbody tr th {\n",
       "        vertical-align: top;\n",
       "    }\n",
       "\n",
       "    .dataframe thead th {\n",
       "        text-align: right;\n",
       "    }\n",
       "</style>\n",
       "<table border=\"1\" class=\"dataframe\">\n",
       "  <thead>\n",
       "    <tr style=\"text-align: right;\">\n",
       "      <th></th>\n",
       "      <th>team_api_id</th>\n",
       "      <th>team_long_name</th>\n",
       "    </tr>\n",
       "  </thead>\n",
       "  <tbody>\n",
       "    <tr>\n",
       "      <th>0</th>\n",
       "      <td>9987</td>\n",
       "      <td>KRC Genk</td>\n",
       "    </tr>\n",
       "    <tr>\n",
       "      <th>1</th>\n",
       "      <td>9993</td>\n",
       "      <td>Beerschot AC</td>\n",
       "    </tr>\n",
       "    <tr>\n",
       "      <th>2</th>\n",
       "      <td>10000</td>\n",
       "      <td>SV Zulte-Waregem</td>\n",
       "    </tr>\n",
       "    <tr>\n",
       "      <th>3</th>\n",
       "      <td>9994</td>\n",
       "      <td>Sporting Lokeren</td>\n",
       "    </tr>\n",
       "    <tr>\n",
       "      <th>4</th>\n",
       "      <td>9984</td>\n",
       "      <td>KSV Cercle Brugge</td>\n",
       "    </tr>\n",
       "  </tbody>\n",
       "</table>\n",
       "</div>"
      ],
      "text/plain": [
       "   team_api_id     team_long_name\n",
       "0         9987           KRC Genk\n",
       "1         9993       Beerschot AC\n",
       "2        10000   SV Zulte-Waregem\n",
       "3         9994   Sporting Lokeren\n",
       "4         9984  KSV Cercle Brugge"
      ]
     },
     "execution_count": 34,
     "metadata": {},
     "output_type": "execute_result"
    }
   ],
   "source": [
    "df_copy_team = df_team.copy()\n",
    "\n",
    "# we don't need 'team_fifa_api_id', 'team_short_name', and 'id' columns in the copy team table\n",
    "df_copy_team.drop(columns=[ 'team_fifa_api_id', 'team_short_name', 'id'], axis=1, inplace=True)\n",
    "\n",
    "df_copy_team.head()"
   ]
  },
  {
   "cell_type": "code",
   "execution_count": 35,
   "metadata": {},
   "outputs": [
    {
     "data": {
      "text/html": [
       "<div>\n",
       "<style scoped>\n",
       "    .dataframe tbody tr th:only-of-type {\n",
       "        vertical-align: middle;\n",
       "    }\n",
       "\n",
       "    .dataframe tbody tr th {\n",
       "        vertical-align: top;\n",
       "    }\n",
       "\n",
       "    .dataframe thead th {\n",
       "        text-align: right;\n",
       "    }\n",
       "</style>\n",
       "<table border=\"1\" class=\"dataframe\">\n",
       "  <thead>\n",
       "    <tr style=\"text-align: right;\">\n",
       "      <th></th>\n",
       "      <th>id</th>\n",
       "      <th>stage</th>\n",
       "      <th>date</th>\n",
       "      <th>match_api_id</th>\n",
       "      <th>home_team_goal</th>\n",
       "      <th>away_team_goal</th>\n",
       "      <th>year</th>\n",
       "      <th>start_season</th>\n",
       "      <th>end_season</th>\n",
       "      <th>country_name</th>\n",
       "      <th>league_name</th>\n",
       "      <th>home_team_name</th>\n",
       "      <th>away_team_name</th>\n",
       "    </tr>\n",
       "  </thead>\n",
       "  <tbody>\n",
       "    <tr>\n",
       "      <th>0</th>\n",
       "      <td>1</td>\n",
       "      <td>1</td>\n",
       "      <td>2008-08-17</td>\n",
       "      <td>492473</td>\n",
       "      <td>1</td>\n",
       "      <td>1</td>\n",
       "      <td>2008</td>\n",
       "      <td>2008</td>\n",
       "      <td>2009</td>\n",
       "      <td>Belgium</td>\n",
       "      <td>Belgium Jupiler League</td>\n",
       "      <td>KRC Genk</td>\n",
       "      <td>Beerschot AC</td>\n",
       "    </tr>\n",
       "    <tr>\n",
       "      <th>1</th>\n",
       "      <td>29</td>\n",
       "      <td>12</td>\n",
       "      <td>2008-11-15</td>\n",
       "      <td>492583</td>\n",
       "      <td>1</td>\n",
       "      <td>1</td>\n",
       "      <td>2008</td>\n",
       "      <td>2008</td>\n",
       "      <td>2009</td>\n",
       "      <td>Belgium</td>\n",
       "      <td>Belgium Jupiler League</td>\n",
       "      <td>KRC Genk</td>\n",
       "      <td>KSV Roeselare</td>\n",
       "    </tr>\n",
       "    <tr>\n",
       "      <th>2</th>\n",
       "      <td>47</td>\n",
       "      <td>14</td>\n",
       "      <td>2008-11-29</td>\n",
       "      <td>492651</td>\n",
       "      <td>3</td>\n",
       "      <td>2</td>\n",
       "      <td>2008</td>\n",
       "      <td>2008</td>\n",
       "      <td>2009</td>\n",
       "      <td>Belgium</td>\n",
       "      <td>Belgium Jupiler League</td>\n",
       "      <td>KRC Genk</td>\n",
       "      <td>KSV Cercle Brugge</td>\n",
       "    </tr>\n",
       "    <tr>\n",
       "      <th>3</th>\n",
       "      <td>65</td>\n",
       "      <td>16</td>\n",
       "      <td>2008-12-13</td>\n",
       "      <td>492713</td>\n",
       "      <td>1</td>\n",
       "      <td>0</td>\n",
       "      <td>2008</td>\n",
       "      <td>2008</td>\n",
       "      <td>2009</td>\n",
       "      <td>Belgium</td>\n",
       "      <td>Belgium Jupiler League</td>\n",
       "      <td>KRC Genk</td>\n",
       "      <td>Sporting Charleroi</td>\n",
       "    </tr>\n",
       "    <tr>\n",
       "      <th>4</th>\n",
       "      <td>94</td>\n",
       "      <td>19</td>\n",
       "      <td>2009-01-24</td>\n",
       "      <td>492805</td>\n",
       "      <td>2</td>\n",
       "      <td>0</td>\n",
       "      <td>2009</td>\n",
       "      <td>2008</td>\n",
       "      <td>2009</td>\n",
       "      <td>Belgium</td>\n",
       "      <td>Belgium Jupiler League</td>\n",
       "      <td>KRC Genk</td>\n",
       "      <td>RAEC Mons</td>\n",
       "    </tr>\n",
       "  </tbody>\n",
       "</table>\n",
       "</div>"
      ],
      "text/plain": [
       "   id  stage       date  match_api_id  home_team_goal  away_team_goal  year  \\\n",
       "0   1      1 2008-08-17        492473               1               1  2008   \n",
       "1  29     12 2008-11-15        492583               1               1  2008   \n",
       "2  47     14 2008-11-29        492651               3               2  2008   \n",
       "3  65     16 2008-12-13        492713               1               0  2008   \n",
       "4  94     19 2009-01-24        492805               2               0  2009   \n",
       "\n",
       "  start_season end_season country_name             league_name home_team_name  \\\n",
       "0         2008       2009      Belgium  Belgium Jupiler League       KRC Genk   \n",
       "1         2008       2009      Belgium  Belgium Jupiler League       KRC Genk   \n",
       "2         2008       2009      Belgium  Belgium Jupiler League       KRC Genk   \n",
       "3         2008       2009      Belgium  Belgium Jupiler League       KRC Genk   \n",
       "4         2008       2009      Belgium  Belgium Jupiler League       KRC Genk   \n",
       "\n",
       "       away_team_name  \n",
       "0        Beerschot AC  \n",
       "1       KSV Roeselare  \n",
       "2   KSV Cercle Brugge  \n",
       "3  Sporting Charleroi  \n",
       "4           RAEC Mons  "
      ]
     },
     "execution_count": 35,
     "metadata": {},
     "output_type": "execute_result"
    }
   ],
   "source": [
    "# first merge for the home_team_id\n",
    "df_match = df_match.merge(df_copy_team, how='inner', left_on='home_team_api_id', right_on='team_api_id')\n",
    "\n",
    "df_match.rename(columns={'team_long_name': 'home_team_name'}, inplace=True)\n",
    "\n",
    "df_match.drop(columns=['home_team_api_id', 'team_api_id'], axis=1, inplace=True)\n",
    "\n",
    "# second merge the away_team_id\n",
    "df_match = df_match.merge(df_copy_team, how='left', left_on='away_team_api_id', right_on='team_api_id')\n",
    "\n",
    "df_match.rename(columns={'team_long_name': 'away_team_name'}, inplace=True)\n",
    "\n",
    "df_match.drop(columns=['team_api_id', 'away_team_api_id'], axis=1, inplace=True)\n",
    "\n",
    "# see the new look of the match table\n",
    "df_match.head()"
   ]
  },
  {
   "cell_type": "markdown",
   "metadata": {},
   "source": [
    "I think now It's better to understand each row. One last thing, I want to know who wins or whether there is a tie in each match. To do so, I will create a new column called 'winner' and create a function to determine the values."
   ]
  },
  {
   "cell_type": "code",
   "execution_count": 36,
   "metadata": {},
   "outputs": [],
   "source": [
    "def winner(row):\n",
    "    home_score = row[0]\n",
    "    away_score = row[1]\n",
    "    home_team_name = row[2]\n",
    "    away_team_name = row[3]\n",
    "    \n",
    "    if home_score > away_score:\n",
    "        return home_team_name\n",
    "    elif home_score < away_score:\n",
    "        return away_team_name\n",
    "    else:\n",
    "        return 'Tie'\n",
    "\n",
    "df_match['winner']  = df_match[['home_team_goal', 'away_team_goal', 'home_team_name', 'away_team_name']].apply(winner, axis=1)"
   ]
  },
  {
   "cell_type": "markdown",
   "metadata": {},
   "source": [
    "we don't need 'match_api_id' and 'stage', plus I couldn't find what the stage means in this table.\n"
   ]
  },
  {
   "cell_type": "code",
   "execution_count": 37,
   "metadata": {},
   "outputs": [],
   "source": [
    "df_match.drop(['stage', 'match_api_id'], axis=1, inplace=True)"
   ]
  },
  {
   "cell_type": "markdown",
   "metadata": {},
   "source": [
    "we save the clean data table: "
   ]
  },
  {
   "cell_type": "code",
   "execution_count": 38,
   "metadata": {},
   "outputs": [],
   "source": [
    "df_match.to_csv('matches_clean.csv', index=False)"
   ]
  },
  {
   "cell_type": "markdown",
   "metadata": {},
   "source": [
    "Let's look at the new match table again:"
   ]
  },
  {
   "cell_type": "code",
   "execution_count": 39,
   "metadata": {},
   "outputs": [
    {
     "data": {
      "text/html": [
       "<div>\n",
       "<style scoped>\n",
       "    .dataframe tbody tr th:only-of-type {\n",
       "        vertical-align: middle;\n",
       "    }\n",
       "\n",
       "    .dataframe tbody tr th {\n",
       "        vertical-align: top;\n",
       "    }\n",
       "\n",
       "    .dataframe thead th {\n",
       "        text-align: right;\n",
       "    }\n",
       "</style>\n",
       "<table border=\"1\" class=\"dataframe\">\n",
       "  <thead>\n",
       "    <tr style=\"text-align: right;\">\n",
       "      <th></th>\n",
       "      <th>id</th>\n",
       "      <th>date</th>\n",
       "      <th>home_team_goal</th>\n",
       "      <th>away_team_goal</th>\n",
       "      <th>year</th>\n",
       "      <th>start_season</th>\n",
       "      <th>end_season</th>\n",
       "      <th>country_name</th>\n",
       "      <th>league_name</th>\n",
       "      <th>home_team_name</th>\n",
       "      <th>away_team_name</th>\n",
       "      <th>winner</th>\n",
       "    </tr>\n",
       "  </thead>\n",
       "  <tbody>\n",
       "    <tr>\n",
       "      <th>0</th>\n",
       "      <td>1</td>\n",
       "      <td>2008-08-17</td>\n",
       "      <td>1</td>\n",
       "      <td>1</td>\n",
       "      <td>2008</td>\n",
       "      <td>2008</td>\n",
       "      <td>2009</td>\n",
       "      <td>Belgium</td>\n",
       "      <td>Belgium Jupiler League</td>\n",
       "      <td>KRC Genk</td>\n",
       "      <td>Beerschot AC</td>\n",
       "      <td>Tie</td>\n",
       "    </tr>\n",
       "    <tr>\n",
       "      <th>1</th>\n",
       "      <td>29</td>\n",
       "      <td>2008-11-15</td>\n",
       "      <td>1</td>\n",
       "      <td>1</td>\n",
       "      <td>2008</td>\n",
       "      <td>2008</td>\n",
       "      <td>2009</td>\n",
       "      <td>Belgium</td>\n",
       "      <td>Belgium Jupiler League</td>\n",
       "      <td>KRC Genk</td>\n",
       "      <td>KSV Roeselare</td>\n",
       "      <td>Tie</td>\n",
       "    </tr>\n",
       "    <tr>\n",
       "      <th>2</th>\n",
       "      <td>47</td>\n",
       "      <td>2008-11-29</td>\n",
       "      <td>3</td>\n",
       "      <td>2</td>\n",
       "      <td>2008</td>\n",
       "      <td>2008</td>\n",
       "      <td>2009</td>\n",
       "      <td>Belgium</td>\n",
       "      <td>Belgium Jupiler League</td>\n",
       "      <td>KRC Genk</td>\n",
       "      <td>KSV Cercle Brugge</td>\n",
       "      <td>KRC Genk</td>\n",
       "    </tr>\n",
       "    <tr>\n",
       "      <th>3</th>\n",
       "      <td>65</td>\n",
       "      <td>2008-12-13</td>\n",
       "      <td>1</td>\n",
       "      <td>0</td>\n",
       "      <td>2008</td>\n",
       "      <td>2008</td>\n",
       "      <td>2009</td>\n",
       "      <td>Belgium</td>\n",
       "      <td>Belgium Jupiler League</td>\n",
       "      <td>KRC Genk</td>\n",
       "      <td>Sporting Charleroi</td>\n",
       "      <td>KRC Genk</td>\n",
       "    </tr>\n",
       "    <tr>\n",
       "      <th>4</th>\n",
       "      <td>94</td>\n",
       "      <td>2009-01-24</td>\n",
       "      <td>2</td>\n",
       "      <td>0</td>\n",
       "      <td>2009</td>\n",
       "      <td>2008</td>\n",
       "      <td>2009</td>\n",
       "      <td>Belgium</td>\n",
       "      <td>Belgium Jupiler League</td>\n",
       "      <td>KRC Genk</td>\n",
       "      <td>RAEC Mons</td>\n",
       "      <td>KRC Genk</td>\n",
       "    </tr>\n",
       "  </tbody>\n",
       "</table>\n",
       "</div>"
      ],
      "text/plain": [
       "   id        date  home_team_goal  away_team_goal  year  start_season  \\\n",
       "0   1  2008-08-17               1               1  2008          2008   \n",
       "1  29  2008-11-15               1               1  2008          2008   \n",
       "2  47  2008-11-29               3               2  2008          2008   \n",
       "3  65  2008-12-13               1               0  2008          2008   \n",
       "4  94  2009-01-24               2               0  2009          2008   \n",
       "\n",
       "   end_season country_name             league_name home_team_name  \\\n",
       "0        2009      Belgium  Belgium Jupiler League       KRC Genk   \n",
       "1        2009      Belgium  Belgium Jupiler League       KRC Genk   \n",
       "2        2009      Belgium  Belgium Jupiler League       KRC Genk   \n",
       "3        2009      Belgium  Belgium Jupiler League       KRC Genk   \n",
       "4        2009      Belgium  Belgium Jupiler League       KRC Genk   \n",
       "\n",
       "       away_team_name    winner  \n",
       "0        Beerschot AC       Tie  \n",
       "1       KSV Roeselare       Tie  \n",
       "2   KSV Cercle Brugge  KRC Genk  \n",
       "3  Sporting Charleroi  KRC Genk  \n",
       "4           RAEC Mons  KRC Genk  "
      ]
     },
     "execution_count": 39,
     "metadata": {},
     "output_type": "execute_result"
    }
   ],
   "source": [
    "pd.read_csv('matches_clean.csv').head()"
   ]
  },
  {
   "cell_type": "markdown",
   "metadata": {},
   "source": [
    "Another way to do that we can start using the following SQL command to retrive home and away team names and winners in one table:"
   ]
  },
  {
   "cell_type": "code",
   "execution_count": 40,
   "metadata": {},
   "outputs": [
    {
     "data": {
      "text/html": [
       "<div>\n",
       "<style scoped>\n",
       "    .dataframe tbody tr th:only-of-type {\n",
       "        vertical-align: middle;\n",
       "    }\n",
       "\n",
       "    .dataframe tbody tr th {\n",
       "        vertical-align: top;\n",
       "    }\n",
       "\n",
       "    .dataframe thead th {\n",
       "        text-align: right;\n",
       "    }\n",
       "</style>\n",
       "<table border=\"1\" class=\"dataframe\">\n",
       "  <thead>\n",
       "    <tr style=\"text-align: right;\">\n",
       "      <th></th>\n",
       "      <th>id</th>\n",
       "      <th>date</th>\n",
       "      <th>home_team_goal</th>\n",
       "      <th>away_team_goal</th>\n",
       "      <th>season</th>\n",
       "      <th>country_name</th>\n",
       "      <th>league_name</th>\n",
       "      <th>home_team_name</th>\n",
       "      <th>team_away_name</th>\n",
       "      <th>winner</th>\n",
       "    </tr>\n",
       "  </thead>\n",
       "  <tbody>\n",
       "    <tr>\n",
       "      <th>0</th>\n",
       "      <td>1</td>\n",
       "      <td>2008-08-17 00:00:00</td>\n",
       "      <td>1</td>\n",
       "      <td>1</td>\n",
       "      <td>2008/2009</td>\n",
       "      <td>Belgium</td>\n",
       "      <td>Belgium Jupiler League</td>\n",
       "      <td>KRC Genk</td>\n",
       "      <td>Beerschot AC</td>\n",
       "      <td>Tie</td>\n",
       "    </tr>\n",
       "    <tr>\n",
       "      <th>1</th>\n",
       "      <td>2</td>\n",
       "      <td>2008-08-16 00:00:00</td>\n",
       "      <td>0</td>\n",
       "      <td>0</td>\n",
       "      <td>2008/2009</td>\n",
       "      <td>Belgium</td>\n",
       "      <td>Belgium Jupiler League</td>\n",
       "      <td>SV Zulte-Waregem</td>\n",
       "      <td>Sporting Lokeren</td>\n",
       "      <td>Tie</td>\n",
       "    </tr>\n",
       "    <tr>\n",
       "      <th>2</th>\n",
       "      <td>3</td>\n",
       "      <td>2008-08-16 00:00:00</td>\n",
       "      <td>0</td>\n",
       "      <td>3</td>\n",
       "      <td>2008/2009</td>\n",
       "      <td>Belgium</td>\n",
       "      <td>Belgium Jupiler League</td>\n",
       "      <td>KSV Cercle Brugge</td>\n",
       "      <td>RSC Anderlecht</td>\n",
       "      <td>RSC Anderlecht</td>\n",
       "    </tr>\n",
       "    <tr>\n",
       "      <th>3</th>\n",
       "      <td>4</td>\n",
       "      <td>2008-08-17 00:00:00</td>\n",
       "      <td>5</td>\n",
       "      <td>0</td>\n",
       "      <td>2008/2009</td>\n",
       "      <td>Belgium</td>\n",
       "      <td>Belgium Jupiler League</td>\n",
       "      <td>KAA Gent</td>\n",
       "      <td>RAEC Mons</td>\n",
       "      <td>KAA Gent</td>\n",
       "    </tr>\n",
       "    <tr>\n",
       "      <th>4</th>\n",
       "      <td>5</td>\n",
       "      <td>2008-08-16 00:00:00</td>\n",
       "      <td>1</td>\n",
       "      <td>3</td>\n",
       "      <td>2008/2009</td>\n",
       "      <td>Belgium</td>\n",
       "      <td>Belgium Jupiler League</td>\n",
       "      <td>FCV Dender EH</td>\n",
       "      <td>Standard de Liège</td>\n",
       "      <td>Standard de Liège</td>\n",
       "    </tr>\n",
       "  </tbody>\n",
       "</table>\n",
       "</div>"
      ],
      "text/plain": [
       "   id                 date  home_team_goal  away_team_goal     season  \\\n",
       "0   1  2008-08-17 00:00:00               1               1  2008/2009   \n",
       "1   2  2008-08-16 00:00:00               0               0  2008/2009   \n",
       "2   3  2008-08-16 00:00:00               0               3  2008/2009   \n",
       "3   4  2008-08-17 00:00:00               5               0  2008/2009   \n",
       "4   5  2008-08-16 00:00:00               1               3  2008/2009   \n",
       "\n",
       "  country_name             league_name     home_team_name     team_away_name  \\\n",
       "0      Belgium  Belgium Jupiler League           KRC Genk       Beerschot AC   \n",
       "1      Belgium  Belgium Jupiler League   SV Zulte-Waregem   Sporting Lokeren   \n",
       "2      Belgium  Belgium Jupiler League  KSV Cercle Brugge     RSC Anderlecht   \n",
       "3      Belgium  Belgium Jupiler League           KAA Gent          RAEC Mons   \n",
       "4      Belgium  Belgium Jupiler League      FCV Dender EH  Standard de Liège   \n",
       "\n",
       "              winner  \n",
       "0                Tie  \n",
       "1                Tie  \n",
       "2     RSC Anderlecht  \n",
       "3           KAA Gent  \n",
       "4  Standard de Liège  "
      ]
     },
     "execution_count": 40,
     "metadata": {},
     "output_type": "execute_result"
    }
   ],
   "source": [
    "df_match_sql = \\\n",
    "pd.read_sql('SELECT '\\\n",
    "            'm.id as id, m.date as date, m.home_team_goal as home_team_goal, m.away_team_goal as away_team_goal, m.season as season,'\\\n",
    "            'c.name as country_name, l.name as league_name, t.team_long_name as home_team_name, m.team_away_name as team_away_name, '\\\n",
    "            'CASE WHEN  m.home_team_goal >  m.away_team_goal THEN t.team_long_name '\\\n",
    "                 'WHEN  m.home_team_goal < m.away_team_goal THEN m.team_away_name ' \\\n",
    "                 'ELSE \"Tie\" END AS winner ' \\\n",
    "            'FROM (select ma.*, tm.team_long_name as team_away_name from Match ma join Team tm on tm.team_api_id = ma.away_team_api_id) m '\\\n",
    "            'JOIN Country c '\\\n",
    "            'ON c.id = m.country_id '\\\n",
    "            'JOIN League l '\\\n",
    "            'ON l.id = m.league_id '\\\n",
    "            'JOIN Team t '\\\n",
    "            'ON t.team_api_id = m.home_team_api_id '\\\n",
    "            'LIMIT 5', soccer)\n",
    "\n",
    "df_match_sql.head()"
   ]
  },
  {
   "cell_type": "markdown",
   "metadata": {},
   "source": [
    "### Data Cleaning : Team and Team Attributes Tables"
   ]
  },
  {
   "cell_type": "markdown",
   "metadata": {},
   "source": [
    "As we observed previously, we found 296 unique team names but the total rows of the table is 299."
   ]
  },
  {
   "cell_type": "code",
   "execution_count": 41,
   "metadata": {},
   "outputs": [
    {
     "data": {
      "text/html": [
       "<div>\n",
       "<style scoped>\n",
       "    .dataframe tbody tr th:only-of-type {\n",
       "        vertical-align: middle;\n",
       "    }\n",
       "\n",
       "    .dataframe tbody tr th {\n",
       "        vertical-align: top;\n",
       "    }\n",
       "\n",
       "    .dataframe thead th {\n",
       "        text-align: right;\n",
       "    }\n",
       "</style>\n",
       "<table border=\"1\" class=\"dataframe\">\n",
       "  <thead>\n",
       "    <tr style=\"text-align: right;\">\n",
       "      <th></th>\n",
       "      <th>id</th>\n",
       "      <th>team_api_id</th>\n",
       "      <th>team_fifa_api_id</th>\n",
       "      <th>team_long_name</th>\n",
       "      <th>team_short_name</th>\n",
       "    </tr>\n",
       "  </thead>\n",
       "  <tbody>\n",
       "    <tr>\n",
       "      <th>0</th>\n",
       "      <td>1</td>\n",
       "      <td>9987</td>\n",
       "      <td>673.0</td>\n",
       "      <td>KRC Genk</td>\n",
       "      <td>GEN</td>\n",
       "    </tr>\n",
       "    <tr>\n",
       "      <th>1</th>\n",
       "      <td>2</td>\n",
       "      <td>9993</td>\n",
       "      <td>675.0</td>\n",
       "      <td>Beerschot AC</td>\n",
       "      <td>BAC</td>\n",
       "    </tr>\n",
       "    <tr>\n",
       "      <th>2</th>\n",
       "      <td>3</td>\n",
       "      <td>10000</td>\n",
       "      <td>15005.0</td>\n",
       "      <td>SV Zulte-Waregem</td>\n",
       "      <td>ZUL</td>\n",
       "    </tr>\n",
       "    <tr>\n",
       "      <th>3</th>\n",
       "      <td>4</td>\n",
       "      <td>9994</td>\n",
       "      <td>2007.0</td>\n",
       "      <td>Sporting Lokeren</td>\n",
       "      <td>LOK</td>\n",
       "    </tr>\n",
       "    <tr>\n",
       "      <th>4</th>\n",
       "      <td>5</td>\n",
       "      <td>9984</td>\n",
       "      <td>1750.0</td>\n",
       "      <td>KSV Cercle Brugge</td>\n",
       "      <td>CEB</td>\n",
       "    </tr>\n",
       "  </tbody>\n",
       "</table>\n",
       "</div>"
      ],
      "text/plain": [
       "   id  team_api_id  team_fifa_api_id     team_long_name team_short_name\n",
       "0   1         9987             673.0           KRC Genk             GEN\n",
       "1   2         9993             675.0       Beerschot AC             BAC\n",
       "2   3        10000           15005.0   SV Zulte-Waregem             ZUL\n",
       "3   4         9994            2007.0   Sporting Lokeren             LOK\n",
       "4   5         9984            1750.0  KSV Cercle Brugge             CEB"
      ]
     },
     "execution_count": 41,
     "metadata": {},
     "output_type": "execute_result"
    }
   ],
   "source": [
    "df_team.head()"
   ]
  },
  {
   "cell_type": "code",
   "execution_count": 42,
   "metadata": {},
   "outputs": [
    {
     "data": {
      "text/plain": [
       "Royal Excel Mouscron    2\n",
       "Widzew Łódź             2\n",
       "Polonia Bytom           2\n",
       "Xerez Club Deportivo    1\n",
       "KSV Roeselare           1\n",
       "Ross County FC          1\n",
       "Beerschot AC            1\n",
       "SL Benfica              1\n",
       "Genoa                   1\n",
       "Heracles Almelo         1\n",
       "Name: team_long_name, dtype: int64"
      ]
     },
     "execution_count": 42,
     "metadata": {},
     "output_type": "execute_result"
    }
   ],
   "source": [
    "# find duplicated teams by club name\n",
    "def unique_team_names():\n",
    "    return df_team.team_long_name.value_counts()\n",
    "\n",
    "unique_team_names()[:10]"
   ]
  },
  {
   "cell_type": "code",
   "execution_count": 43,
   "metadata": {},
   "outputs": [
    {
     "data": {
      "text/plain": [
       "Royal Excel Mouscron    2\n",
       "Widzew Łódź             2\n",
       "Polonia Bytom           2\n",
       "Name: team_long_name, dtype: int64"
      ]
     },
     "execution_count": 43,
     "metadata": {},
     "output_type": "execute_result"
    }
   ],
   "source": [
    "# find duplicated teams by club name\n",
    "df_team.team_long_name.value_counts()[df_team.team_long_name.value_counts() >= 2]"
   ]
  },
  {
   "cell_type": "code",
   "execution_count": 44,
   "metadata": {},
   "outputs": [
    {
     "data": {
      "text/plain": [
       "team_fifa_api_id  team_long_name      \n",
       "301.0             Widzew Łódź             2\n",
       "111429.0          Polonia Bytom           2\n",
       "111560.0          Royal Excel Mouscron    2\n",
       "Name: id, dtype: int64"
      ]
     },
     "execution_count": 44,
     "metadata": {},
     "output_type": "execute_result"
    }
   ],
   "source": [
    "# It could be better to find duplicated teams by team_long_name and team_fifa_api_id\n",
    "group_fifa_id_and_team_name = df_team.groupby(['team_fifa_api_id','team_long_name'])\n",
    "\n",
    "# True if the count is greater than and equal to 2\n",
    "dupicated_team_names = group_fifa_id_and_team_name['id'].count().apply(lambda count: count >= 2)\n",
    "\n",
    "# list\n",
    "group_fifa_id_and_team_name['id'].count()[dupicated_team_names]"
   ]
  },
  {
   "cell_type": "markdown",
   "metadata": {},
   "source": [
    "We found the teams that appear twice."
   ]
  },
  {
   "cell_type": "code",
   "execution_count": 45,
   "metadata": {},
   "outputs": [
    {
     "data": {
      "text/html": [
       "<div>\n",
       "<style scoped>\n",
       "    .dataframe tbody tr th:only-of-type {\n",
       "        vertical-align: middle;\n",
       "    }\n",
       "\n",
       "    .dataframe tbody tr th {\n",
       "        vertical-align: top;\n",
       "    }\n",
       "\n",
       "    .dataframe thead th {\n",
       "        text-align: right;\n",
       "    }\n",
       "</style>\n",
       "<table border=\"1\" class=\"dataframe\">\n",
       "  <thead>\n",
       "    <tr style=\"text-align: right;\">\n",
       "      <th></th>\n",
       "      <th>id</th>\n",
       "      <th>team_api_id</th>\n",
       "      <th>team_fifa_api_id</th>\n",
       "      <th>team_long_name</th>\n",
       "      <th>team_short_name</th>\n",
       "    </tr>\n",
       "  </thead>\n",
       "  <tbody>\n",
       "    <tr>\n",
       "      <th>15</th>\n",
       "      <td>16</td>\n",
       "      <td>9996</td>\n",
       "      <td>111560.0</td>\n",
       "      <td>Royal Excel Mouscron</td>\n",
       "      <td>MOU</td>\n",
       "    </tr>\n",
       "    <tr>\n",
       "      <th>24</th>\n",
       "      <td>2510</td>\n",
       "      <td>274581</td>\n",
       "      <td>111560.0</td>\n",
       "      <td>Royal Excel Mouscron</td>\n",
       "      <td>MOP</td>\n",
       "    </tr>\n",
       "  </tbody>\n",
       "</table>\n",
       "</div>"
      ],
      "text/plain": [
       "      id  team_api_id  team_fifa_api_id        team_long_name team_short_name\n",
       "15    16         9996          111560.0  Royal Excel Mouscron             MOU\n",
       "24  2510       274581          111560.0  Royal Excel Mouscron             MOP"
      ]
     },
     "execution_count": 45,
     "metadata": {},
     "output_type": "execute_result"
    }
   ],
   "source": [
    "df_team.query('team_long_name == \"Royal Excel Mouscron\"')"
   ]
  },
  {
   "cell_type": "code",
   "execution_count": 46,
   "metadata": {},
   "outputs": [
    {
     "data": {
      "text/html": [
       "<div>\n",
       "<style scoped>\n",
       "    .dataframe tbody tr th:only-of-type {\n",
       "        vertical-align: middle;\n",
       "    }\n",
       "\n",
       "    .dataframe tbody tr th {\n",
       "        vertical-align: top;\n",
       "    }\n",
       "\n",
       "    .dataframe thead th {\n",
       "        text-align: right;\n",
       "    }\n",
       "</style>\n",
       "<table border=\"1\" class=\"dataframe\">\n",
       "  <thead>\n",
       "    <tr style=\"text-align: right;\">\n",
       "      <th></th>\n",
       "      <th>id</th>\n",
       "      <th>team_api_id</th>\n",
       "      <th>team_fifa_api_id</th>\n",
       "      <th>team_long_name</th>\n",
       "      <th>team_short_name</th>\n",
       "    </tr>\n",
       "  </thead>\n",
       "  <tbody>\n",
       "    <tr>\n",
       "      <th>182</th>\n",
       "      <td>31444</td>\n",
       "      <td>8031</td>\n",
       "      <td>111429.0</td>\n",
       "      <td>Polonia Bytom</td>\n",
       "      <td>POB</td>\n",
       "    </tr>\n",
       "    <tr>\n",
       "      <th>183</th>\n",
       "      <td>31445</td>\n",
       "      <td>8020</td>\n",
       "      <td>111429.0</td>\n",
       "      <td>Polonia Bytom</td>\n",
       "      <td>GOR</td>\n",
       "    </tr>\n",
       "  </tbody>\n",
       "</table>\n",
       "</div>"
      ],
      "text/plain": [
       "        id  team_api_id  team_fifa_api_id team_long_name team_short_name\n",
       "182  31444         8031          111429.0  Polonia Bytom             POB\n",
       "183  31445         8020          111429.0  Polonia Bytom             GOR"
      ]
     },
     "execution_count": 46,
     "metadata": {},
     "output_type": "execute_result"
    }
   ],
   "source": [
    "df_team.query('team_long_name == \"Polonia Bytom\"')"
   ]
  },
  {
   "cell_type": "code",
   "execution_count": 47,
   "metadata": {},
   "outputs": [
    {
     "data": {
      "text/html": [
       "<div>\n",
       "<style scoped>\n",
       "    .dataframe tbody tr th:only-of-type {\n",
       "        vertical-align: middle;\n",
       "    }\n",
       "\n",
       "    .dataframe tbody tr th {\n",
       "        vertical-align: top;\n",
       "    }\n",
       "\n",
       "    .dataframe thead th {\n",
       "        text-align: right;\n",
       "    }\n",
       "</style>\n",
       "<table border=\"1\" class=\"dataframe\">\n",
       "  <thead>\n",
       "    <tr style=\"text-align: right;\">\n",
       "      <th></th>\n",
       "      <th>id</th>\n",
       "      <th>team_api_id</th>\n",
       "      <th>team_fifa_api_id</th>\n",
       "      <th>team_long_name</th>\n",
       "      <th>team_short_name</th>\n",
       "    </tr>\n",
       "  </thead>\n",
       "  <tbody>\n",
       "    <tr>\n",
       "      <th>189</th>\n",
       "      <td>31451</td>\n",
       "      <td>8244</td>\n",
       "      <td>301.0</td>\n",
       "      <td>Widzew Łódź</td>\n",
       "      <td>LOD</td>\n",
       "    </tr>\n",
       "    <tr>\n",
       "      <th>199</th>\n",
       "      <td>32409</td>\n",
       "      <td>8024</td>\n",
       "      <td>301.0</td>\n",
       "      <td>Widzew Łódź</td>\n",
       "      <td>WID</td>\n",
       "    </tr>\n",
       "  </tbody>\n",
       "</table>\n",
       "</div>"
      ],
      "text/plain": [
       "        id  team_api_id  team_fifa_api_id team_long_name team_short_name\n",
       "189  31451         8244             301.0    Widzew Łódź             LOD\n",
       "199  32409         8024             301.0    Widzew Łódź             WID"
      ]
     },
     "execution_count": 47,
     "metadata": {},
     "output_type": "execute_result"
    }
   ],
   "source": [
    "df_team.query('team_long_name == \"Widzew Łódź\"')"
   ]
  },
  {
   "cell_type": "markdown",
   "metadata": {},
   "source": [
    "Since the `fifa_ids` are equal for each team, we can drop ones:"
   ]
  },
  {
   "cell_type": "code",
   "execution_count": 48,
   "metadata": {},
   "outputs": [],
   "source": [
    "# drop the duplicated rows by index id \n",
    "df_team.drop(index=[24, 183, 199], inplace=True)"
   ]
  },
  {
   "cell_type": "code",
   "execution_count": 49,
   "metadata": {},
   "outputs": [
    {
     "data": {
      "text/plain": [
       "Heracles Almelo         1\n",
       "Górnik Łęczna           1\n",
       "KSV Roeselare           1\n",
       "Ross County FC          1\n",
       "Beerschot AC            1\n",
       "SL Benfica              1\n",
       "Polonia Bytom           1\n",
       "Genoa                   1\n",
       "Xerez Club Deportivo    1\n",
       "Gil Vicente FC          1\n",
       "Name: team_long_name, dtype: int64"
      ]
     },
     "execution_count": 49,
     "metadata": {},
     "output_type": "execute_result"
    }
   ],
   "source": [
    "# we don't see any duplicated names\n",
    "unique_team_names()[:10]"
   ]
  },
  {
   "cell_type": "markdown",
   "metadata": {},
   "source": [
    "In order to know the name of teams for each row, we need to merge the team attribute table with the team table."
   ]
  },
  {
   "cell_type": "code",
   "execution_count": 50,
   "metadata": {},
   "outputs": [
    {
     "data": {
      "text/html": [
       "<div>\n",
       "<style scoped>\n",
       "    .dataframe tbody tr th:only-of-type {\n",
       "        vertical-align: middle;\n",
       "    }\n",
       "\n",
       "    .dataframe tbody tr th {\n",
       "        vertical-align: top;\n",
       "    }\n",
       "\n",
       "    .dataframe thead th {\n",
       "        text-align: right;\n",
       "    }\n",
       "</style>\n",
       "<table border=\"1\" class=\"dataframe\">\n",
       "  <thead>\n",
       "    <tr style=\"text-align: right;\">\n",
       "      <th></th>\n",
       "      <th>id</th>\n",
       "      <th>team_api_id</th>\n",
       "      <th>date</th>\n",
       "      <th>buildUpPlaySpeed</th>\n",
       "      <th>buildUpPlaySpeedClass</th>\n",
       "      <th>buildUpPlayDribbling</th>\n",
       "      <th>buildUpPlayDribblingClass</th>\n",
       "      <th>buildUpPlayPassing</th>\n",
       "      <th>buildUpPlayPassingClass</th>\n",
       "      <th>buildUpPlayPositioningClass</th>\n",
       "      <th>...</th>\n",
       "      <th>chanceCreationPositioningClass</th>\n",
       "      <th>defencePressure</th>\n",
       "      <th>defencePressureClass</th>\n",
       "      <th>defenceAggression</th>\n",
       "      <th>defenceAggressionClass</th>\n",
       "      <th>defenceTeamWidth</th>\n",
       "      <th>defenceTeamWidthClass</th>\n",
       "      <th>defenceDefenderLineClass</th>\n",
       "      <th>team_long_name</th>\n",
       "      <th>team_short_name</th>\n",
       "    </tr>\n",
       "  </thead>\n",
       "  <tbody>\n",
       "    <tr>\n",
       "      <th>0</th>\n",
       "      <td>1</td>\n",
       "      <td>9930</td>\n",
       "      <td>2010-02-22 00:00:00</td>\n",
       "      <td>60</td>\n",
       "      <td>Balanced</td>\n",
       "      <td>NaN</td>\n",
       "      <td>Little</td>\n",
       "      <td>50</td>\n",
       "      <td>Mixed</td>\n",
       "      <td>Organised</td>\n",
       "      <td>...</td>\n",
       "      <td>Organised</td>\n",
       "      <td>50</td>\n",
       "      <td>Medium</td>\n",
       "      <td>55</td>\n",
       "      <td>Press</td>\n",
       "      <td>45</td>\n",
       "      <td>Normal</td>\n",
       "      <td>Cover</td>\n",
       "      <td>FC Aarau</td>\n",
       "      <td>AAR</td>\n",
       "    </tr>\n",
       "    <tr>\n",
       "      <th>1</th>\n",
       "      <td>2</td>\n",
       "      <td>9930</td>\n",
       "      <td>2014-09-19 00:00:00</td>\n",
       "      <td>52</td>\n",
       "      <td>Balanced</td>\n",
       "      <td>48.0</td>\n",
       "      <td>Normal</td>\n",
       "      <td>56</td>\n",
       "      <td>Mixed</td>\n",
       "      <td>Organised</td>\n",
       "      <td>...</td>\n",
       "      <td>Organised</td>\n",
       "      <td>47</td>\n",
       "      <td>Medium</td>\n",
       "      <td>44</td>\n",
       "      <td>Press</td>\n",
       "      <td>54</td>\n",
       "      <td>Normal</td>\n",
       "      <td>Cover</td>\n",
       "      <td>FC Aarau</td>\n",
       "      <td>AAR</td>\n",
       "    </tr>\n",
       "    <tr>\n",
       "      <th>2</th>\n",
       "      <td>3</td>\n",
       "      <td>9930</td>\n",
       "      <td>2015-09-10 00:00:00</td>\n",
       "      <td>47</td>\n",
       "      <td>Balanced</td>\n",
       "      <td>41.0</td>\n",
       "      <td>Normal</td>\n",
       "      <td>54</td>\n",
       "      <td>Mixed</td>\n",
       "      <td>Organised</td>\n",
       "      <td>...</td>\n",
       "      <td>Organised</td>\n",
       "      <td>47</td>\n",
       "      <td>Medium</td>\n",
       "      <td>44</td>\n",
       "      <td>Press</td>\n",
       "      <td>54</td>\n",
       "      <td>Normal</td>\n",
       "      <td>Cover</td>\n",
       "      <td>FC Aarau</td>\n",
       "      <td>AAR</td>\n",
       "    </tr>\n",
       "    <tr>\n",
       "      <th>3</th>\n",
       "      <td>4</td>\n",
       "      <td>8485</td>\n",
       "      <td>2010-02-22 00:00:00</td>\n",
       "      <td>70</td>\n",
       "      <td>Fast</td>\n",
       "      <td>NaN</td>\n",
       "      <td>Little</td>\n",
       "      <td>70</td>\n",
       "      <td>Long</td>\n",
       "      <td>Organised</td>\n",
       "      <td>...</td>\n",
       "      <td>Organised</td>\n",
       "      <td>60</td>\n",
       "      <td>Medium</td>\n",
       "      <td>70</td>\n",
       "      <td>Double</td>\n",
       "      <td>70</td>\n",
       "      <td>Wide</td>\n",
       "      <td>Cover</td>\n",
       "      <td>Aberdeen</td>\n",
       "      <td>ABE</td>\n",
       "    </tr>\n",
       "    <tr>\n",
       "      <th>4</th>\n",
       "      <td>5</td>\n",
       "      <td>8485</td>\n",
       "      <td>2011-02-22 00:00:00</td>\n",
       "      <td>47</td>\n",
       "      <td>Balanced</td>\n",
       "      <td>NaN</td>\n",
       "      <td>Little</td>\n",
       "      <td>52</td>\n",
       "      <td>Mixed</td>\n",
       "      <td>Organised</td>\n",
       "      <td>...</td>\n",
       "      <td>Organised</td>\n",
       "      <td>47</td>\n",
       "      <td>Medium</td>\n",
       "      <td>47</td>\n",
       "      <td>Press</td>\n",
       "      <td>52</td>\n",
       "      <td>Normal</td>\n",
       "      <td>Cover</td>\n",
       "      <td>Aberdeen</td>\n",
       "      <td>ABE</td>\n",
       "    </tr>\n",
       "  </tbody>\n",
       "</table>\n",
       "<p>5 rows × 26 columns</p>\n",
       "</div>"
      ],
      "text/plain": [
       "   id  team_api_id                 date  buildUpPlaySpeed  \\\n",
       "0   1         9930  2010-02-22 00:00:00                60   \n",
       "1   2         9930  2014-09-19 00:00:00                52   \n",
       "2   3         9930  2015-09-10 00:00:00                47   \n",
       "3   4         8485  2010-02-22 00:00:00                70   \n",
       "4   5         8485  2011-02-22 00:00:00                47   \n",
       "\n",
       "  buildUpPlaySpeedClass  buildUpPlayDribbling buildUpPlayDribblingClass  \\\n",
       "0              Balanced                   NaN                    Little   \n",
       "1              Balanced                  48.0                    Normal   \n",
       "2              Balanced                  41.0                    Normal   \n",
       "3                  Fast                   NaN                    Little   \n",
       "4              Balanced                   NaN                    Little   \n",
       "\n",
       "   buildUpPlayPassing buildUpPlayPassingClass buildUpPlayPositioningClass  \\\n",
       "0                  50                   Mixed                   Organised   \n",
       "1                  56                   Mixed                   Organised   \n",
       "2                  54                   Mixed                   Organised   \n",
       "3                  70                    Long                   Organised   \n",
       "4                  52                   Mixed                   Organised   \n",
       "\n",
       "        ...         chanceCreationPositioningClass defencePressure  \\\n",
       "0       ...                              Organised              50   \n",
       "1       ...                              Organised              47   \n",
       "2       ...                              Organised              47   \n",
       "3       ...                              Organised              60   \n",
       "4       ...                              Organised              47   \n",
       "\n",
       "   defencePressureClass defenceAggression  defenceAggressionClass  \\\n",
       "0                Medium                55                   Press   \n",
       "1                Medium                44                   Press   \n",
       "2                Medium                44                   Press   \n",
       "3                Medium                70                  Double   \n",
       "4                Medium                47                   Press   \n",
       "\n",
       "  defenceTeamWidth defenceTeamWidthClass  defenceDefenderLineClass  \\\n",
       "0               45                Normal                     Cover   \n",
       "1               54                Normal                     Cover   \n",
       "2               54                Normal                     Cover   \n",
       "3               70                  Wide                     Cover   \n",
       "4               52                Normal                     Cover   \n",
       "\n",
       "  team_long_name  team_short_name  \n",
       "0       FC Aarau              AAR  \n",
       "1       FC Aarau              AAR  \n",
       "2       FC Aarau              AAR  \n",
       "3       Aberdeen              ABE  \n",
       "4       Aberdeen              ABE  \n",
       "\n",
       "[5 rows x 26 columns]"
      ]
     },
     "execution_count": 50,
     "metadata": {},
     "output_type": "execute_result"
    }
   ],
   "source": [
    "# use inner join to combine teams with their attributes\n",
    "df_team_att_merged = df_team_att.merge(df_team, left_on='team_api_id', right_on='team_api_id')\n",
    "\n",
    "# drop 3 columns that we don't need\n",
    "df_team_att_merged.drop(columns=['team_fifa_api_id_x', 'id_y', 'team_fifa_api_id_y'], inplace=True)\n",
    "\n",
    "# rename 2 columns because after merging two tables, the same columns get appended with the default suffix, _x for the left table, _y for the right table\n",
    "df_team_att_merged.rename(columns={'id_x': 'id', 'team_fifa_api_id_x': 'team_fifa_api_id'}, inplace=True)\n",
    "\n",
    "df_team_att_merged.head()"
   ]
  },
  {
   "cell_type": "code",
   "execution_count": 51,
   "metadata": {},
   "outputs": [
    {
     "name": "stdout",
     "output_type": "stream",
     "text": [
      "<class 'pandas.core.frame.DataFrame'>\n",
      "Int64Index: 1451 entries, 0 to 1450\n",
      "Data columns (total 26 columns):\n",
      "id                                1451 non-null int64\n",
      "team_api_id                       1451 non-null int64\n",
      "date                              1451 non-null object\n",
      "buildUpPlaySpeed                  1451 non-null int64\n",
      "buildUpPlaySpeedClass             1451 non-null object\n",
      "buildUpPlayDribbling              487 non-null float64\n",
      "buildUpPlayDribblingClass         1451 non-null object\n",
      "buildUpPlayPassing                1451 non-null int64\n",
      "buildUpPlayPassingClass           1451 non-null object\n",
      "buildUpPlayPositioningClass       1451 non-null object\n",
      "chanceCreationPassing             1451 non-null int64\n",
      "chanceCreationPassingClass        1451 non-null object\n",
      "chanceCreationCrossing            1451 non-null int64\n",
      "chanceCreationCrossingClass       1451 non-null object\n",
      "chanceCreationShooting            1451 non-null int64\n",
      "chanceCreationShootingClass       1451 non-null object\n",
      "chanceCreationPositioningClass    1451 non-null object\n",
      "defencePressure                   1451 non-null int64\n",
      "defencePressureClass              1451 non-null object\n",
      "defenceAggression                 1451 non-null int64\n",
      "defenceAggressionClass            1451 non-null object\n",
      "defenceTeamWidth                  1451 non-null int64\n",
      "defenceTeamWidthClass             1451 non-null object\n",
      "defenceDefenderLineClass          1451 non-null object\n",
      "team_long_name                    1451 non-null object\n",
      "team_short_name                   1451 non-null object\n",
      "dtypes: float64(1), int64(10), object(15)\n",
      "memory usage: 306.1+ KB\n"
     ]
    }
   ],
   "source": [
    "# find information about the table, like row and column numbers, data types of each column\n",
    "df_team_att_merged.info()"
   ]
  },
  {
   "cell_type": "markdown",
   "metadata": {},
   "source": [
    "We need to convert the date column in this table:"
   ]
  },
  {
   "cell_type": "code",
   "execution_count": 52,
   "metadata": {},
   "outputs": [],
   "source": [
    "df_team_att_merged['date'] = pd.to_datetime(df_team_att_merged['date'])"
   ]
  },
  {
   "cell_type": "markdown",
   "metadata": {},
   "source": [
    "I want to add a year column as well into the table:"
   ]
  },
  {
   "cell_type": "code",
   "execution_count": 53,
   "metadata": {},
   "outputs": [],
   "source": [
    "df_team_att_merged['year'] = df_team_att_merged['date'].dt.year"
   ]
  },
  {
   "cell_type": "markdown",
   "metadata": {},
   "source": [
    "We can safely save the new table to a csv file:"
   ]
  },
  {
   "cell_type": "code",
   "execution_count": 54,
   "metadata": {},
   "outputs": [],
   "source": [
    "df_team_att_merged.to_csv('team_attributes_edited.csv', index=False)"
   ]
  },
  {
   "cell_type": "markdown",
   "metadata": {},
   "source": [
    "### Data Cleaning : Player and Player Attributes Tables"
   ]
  },
  {
   "cell_type": "markdown",
   "metadata": {},
   "source": [
    "Let's find out whether there are duplicated players in the player table:"
   ]
  },
  {
   "cell_type": "code",
   "execution_count": 55,
   "metadata": {},
   "outputs": [
    {
     "data": {
      "text/plain": [
       "Series([], Name: id, dtype: int64)"
      ]
     },
     "execution_count": 55,
     "metadata": {},
     "output_type": "execute_result"
    }
   ],
   "source": [
    "# find duplicate players by name and fifa_id\n",
    "group_player_fifa_id_and_name = df_player.groupby(['player_fifa_api_id','player_name'])\n",
    "\n",
    "list_of_dupicated_players = group_player_fifa_id_and_name['id'].count().apply(lambda count: count>=2)\n",
    "\n",
    "group_player_fifa_id_and_name['id'].count()[list_of_dupicated_players]"
   ]
  },
  {
   "cell_type": "markdown",
   "metadata": {},
   "source": [
    "We don't have duplicated players which is good. \n",
    "\n",
    "We should convert the date column from `String` to `date` in the Player Attributes table."
   ]
  },
  {
   "cell_type": "code",
   "execution_count": 56,
   "metadata": {},
   "outputs": [],
   "source": [
    "df_player_att['date'] = pd.to_datetime(df_player_att['date'])"
   ]
  },
  {
   "cell_type": "markdown",
   "metadata": {},
   "source": [
    "Recall that we need to know the player names not their ids, so we again use a merge operation to combine players and the player attributes tables:"
   ]
  },
  {
   "cell_type": "code",
   "execution_count": 57,
   "metadata": {},
   "outputs": [],
   "source": [
    "df_player_att = df_player_att.merge(df_player, left_on='player_api_id', right_on='player_api_id')"
   ]
  },
  {
   "cell_type": "code",
   "execution_count": 58,
   "metadata": {},
   "outputs": [],
   "source": [
    "df_player_att.rename(columns={'id_x': 'id'}, inplace=True)"
   ]
  },
  {
   "cell_type": "code",
   "execution_count": 59,
   "metadata": {},
   "outputs": [],
   "source": [
    "df_player_att.drop(columns=['id_y', 'player_fifa_api_id_y', 'player_fifa_api_id_x'], inplace=True)"
   ]
  },
  {
   "cell_type": "code",
   "execution_count": 60,
   "metadata": {},
   "outputs": [],
   "source": [
    "df_player_att['birthday'] = pd.to_datetime(df_player_att['birthday'])"
   ]
  },
  {
   "cell_type": "code",
   "execution_count": 61,
   "metadata": {},
   "outputs": [
    {
     "data": {
      "text/html": [
       "<div>\n",
       "<style scoped>\n",
       "    .dataframe tbody tr th:only-of-type {\n",
       "        vertical-align: middle;\n",
       "    }\n",
       "\n",
       "    .dataframe tbody tr th {\n",
       "        vertical-align: top;\n",
       "    }\n",
       "\n",
       "    .dataframe thead th {\n",
       "        text-align: right;\n",
       "    }\n",
       "</style>\n",
       "<table border=\"1\" class=\"dataframe\">\n",
       "  <thead>\n",
       "    <tr style=\"text-align: right;\">\n",
       "      <th></th>\n",
       "      <th>id</th>\n",
       "      <th>player_api_id</th>\n",
       "      <th>date</th>\n",
       "      <th>overall_rating</th>\n",
       "      <th>potential</th>\n",
       "      <th>preferred_foot</th>\n",
       "      <th>attacking_work_rate</th>\n",
       "      <th>defensive_work_rate</th>\n",
       "      <th>crossing</th>\n",
       "      <th>finishing</th>\n",
       "      <th>...</th>\n",
       "      <th>sliding_tackle</th>\n",
       "      <th>gk_diving</th>\n",
       "      <th>gk_handling</th>\n",
       "      <th>gk_kicking</th>\n",
       "      <th>gk_positioning</th>\n",
       "      <th>gk_reflexes</th>\n",
       "      <th>player_name</th>\n",
       "      <th>birthday</th>\n",
       "      <th>height</th>\n",
       "      <th>weight</th>\n",
       "    </tr>\n",
       "  </thead>\n",
       "  <tbody>\n",
       "    <tr>\n",
       "      <th>0</th>\n",
       "      <td>1</td>\n",
       "      <td>505942</td>\n",
       "      <td>2016-02-18</td>\n",
       "      <td>67.0</td>\n",
       "      <td>71.0</td>\n",
       "      <td>right</td>\n",
       "      <td>medium</td>\n",
       "      <td>medium</td>\n",
       "      <td>49.0</td>\n",
       "      <td>44.0</td>\n",
       "      <td>...</td>\n",
       "      <td>69.0</td>\n",
       "      <td>6.0</td>\n",
       "      <td>11.0</td>\n",
       "      <td>10.0</td>\n",
       "      <td>8.0</td>\n",
       "      <td>8.0</td>\n",
       "      <td>Aaron Appindangoye</td>\n",
       "      <td>1992-02-29</td>\n",
       "      <td>182.88</td>\n",
       "      <td>187</td>\n",
       "    </tr>\n",
       "    <tr>\n",
       "      <th>1</th>\n",
       "      <td>2</td>\n",
       "      <td>505942</td>\n",
       "      <td>2015-11-19</td>\n",
       "      <td>67.0</td>\n",
       "      <td>71.0</td>\n",
       "      <td>right</td>\n",
       "      <td>medium</td>\n",
       "      <td>medium</td>\n",
       "      <td>49.0</td>\n",
       "      <td>44.0</td>\n",
       "      <td>...</td>\n",
       "      <td>69.0</td>\n",
       "      <td>6.0</td>\n",
       "      <td>11.0</td>\n",
       "      <td>10.0</td>\n",
       "      <td>8.0</td>\n",
       "      <td>8.0</td>\n",
       "      <td>Aaron Appindangoye</td>\n",
       "      <td>1992-02-29</td>\n",
       "      <td>182.88</td>\n",
       "      <td>187</td>\n",
       "    </tr>\n",
       "    <tr>\n",
       "      <th>2</th>\n",
       "      <td>3</td>\n",
       "      <td>505942</td>\n",
       "      <td>2015-09-21</td>\n",
       "      <td>62.0</td>\n",
       "      <td>66.0</td>\n",
       "      <td>right</td>\n",
       "      <td>medium</td>\n",
       "      <td>medium</td>\n",
       "      <td>49.0</td>\n",
       "      <td>44.0</td>\n",
       "      <td>...</td>\n",
       "      <td>69.0</td>\n",
       "      <td>6.0</td>\n",
       "      <td>11.0</td>\n",
       "      <td>10.0</td>\n",
       "      <td>8.0</td>\n",
       "      <td>8.0</td>\n",
       "      <td>Aaron Appindangoye</td>\n",
       "      <td>1992-02-29</td>\n",
       "      <td>182.88</td>\n",
       "      <td>187</td>\n",
       "    </tr>\n",
       "    <tr>\n",
       "      <th>3</th>\n",
       "      <td>4</td>\n",
       "      <td>505942</td>\n",
       "      <td>2015-03-20</td>\n",
       "      <td>61.0</td>\n",
       "      <td>65.0</td>\n",
       "      <td>right</td>\n",
       "      <td>medium</td>\n",
       "      <td>medium</td>\n",
       "      <td>48.0</td>\n",
       "      <td>43.0</td>\n",
       "      <td>...</td>\n",
       "      <td>66.0</td>\n",
       "      <td>5.0</td>\n",
       "      <td>10.0</td>\n",
       "      <td>9.0</td>\n",
       "      <td>7.0</td>\n",
       "      <td>7.0</td>\n",
       "      <td>Aaron Appindangoye</td>\n",
       "      <td>1992-02-29</td>\n",
       "      <td>182.88</td>\n",
       "      <td>187</td>\n",
       "    </tr>\n",
       "    <tr>\n",
       "      <th>4</th>\n",
       "      <td>5</td>\n",
       "      <td>505942</td>\n",
       "      <td>2007-02-22</td>\n",
       "      <td>61.0</td>\n",
       "      <td>65.0</td>\n",
       "      <td>right</td>\n",
       "      <td>medium</td>\n",
       "      <td>medium</td>\n",
       "      <td>48.0</td>\n",
       "      <td>43.0</td>\n",
       "      <td>...</td>\n",
       "      <td>66.0</td>\n",
       "      <td>5.0</td>\n",
       "      <td>10.0</td>\n",
       "      <td>9.0</td>\n",
       "      <td>7.0</td>\n",
       "      <td>7.0</td>\n",
       "      <td>Aaron Appindangoye</td>\n",
       "      <td>1992-02-29</td>\n",
       "      <td>182.88</td>\n",
       "      <td>187</td>\n",
       "    </tr>\n",
       "  </tbody>\n",
       "</table>\n",
       "<p>5 rows × 45 columns</p>\n",
       "</div>"
      ],
      "text/plain": [
       "   id  player_api_id       date  overall_rating  potential preferred_foot  \\\n",
       "0   1         505942 2016-02-18            67.0       71.0          right   \n",
       "1   2         505942 2015-11-19            67.0       71.0          right   \n",
       "2   3         505942 2015-09-21            62.0       66.0          right   \n",
       "3   4         505942 2015-03-20            61.0       65.0          right   \n",
       "4   5         505942 2007-02-22            61.0       65.0          right   \n",
       "\n",
       "  attacking_work_rate defensive_work_rate  crossing  finishing   ...    \\\n",
       "0              medium              medium      49.0       44.0   ...     \n",
       "1              medium              medium      49.0       44.0   ...     \n",
       "2              medium              medium      49.0       44.0   ...     \n",
       "3              medium              medium      48.0       43.0   ...     \n",
       "4              medium              medium      48.0       43.0   ...     \n",
       "\n",
       "   sliding_tackle  gk_diving  gk_handling  gk_kicking  gk_positioning  \\\n",
       "0            69.0        6.0         11.0        10.0             8.0   \n",
       "1            69.0        6.0         11.0        10.0             8.0   \n",
       "2            69.0        6.0         11.0        10.0             8.0   \n",
       "3            66.0        5.0         10.0         9.0             7.0   \n",
       "4            66.0        5.0         10.0         9.0             7.0   \n",
       "\n",
       "   gk_reflexes         player_name   birthday  height  weight  \n",
       "0          8.0  Aaron Appindangoye 1992-02-29  182.88     187  \n",
       "1          8.0  Aaron Appindangoye 1992-02-29  182.88     187  \n",
       "2          8.0  Aaron Appindangoye 1992-02-29  182.88     187  \n",
       "3          7.0  Aaron Appindangoye 1992-02-29  182.88     187  \n",
       "4          7.0  Aaron Appindangoye 1992-02-29  182.88     187  \n",
       "\n",
       "[5 rows x 45 columns]"
      ]
     },
     "execution_count": 61,
     "metadata": {},
     "output_type": "execute_result"
    }
   ],
   "source": [
    "df_player_att.head()"
   ]
  },
  {
   "cell_type": "code",
   "execution_count": 62,
   "metadata": {},
   "outputs": [
    {
     "data": {
      "text/plain": [
       "(183978, 45)"
      ]
     },
     "execution_count": 62,
     "metadata": {},
     "output_type": "execute_result"
    }
   ],
   "source": [
    "df_player_att.shape"
   ]
  },
  {
   "cell_type": "markdown",
   "metadata": {},
   "source": [
    "We're free to save the new table to a csv file:"
   ]
  },
  {
   "cell_type": "code",
   "execution_count": 63,
   "metadata": {},
   "outputs": [],
   "source": [
    "df_player_att.to_csv('player_atts_clean.csv', index=False)"
   ]
  },
  {
   "cell_type": "markdown",
   "metadata": {},
   "source": [
    "<a id='eda'></a>\n",
    "## Exploratory Data Analysis\n",
    "\n",
    "After data wrangling, I start finding the answers of the questions.\n",
    "\n",
    "### Research Question 1 : Which team had the most victories at home in 2010/2011 season?\n",
    "\n",
    "First, we need to remember the last modified structure of the match table. For this question, we need to look at four columns namely `start_season`, `end_season`, `home_team_name`, and `winner` columns. These columns will provide the solution path we want to. "
   ]
  },
  {
   "cell_type": "code",
   "execution_count": 64,
   "metadata": {
    "collapsed": true
   },
   "outputs": [
    {
     "data": {
      "text/html": [
       "<div>\n",
       "<style scoped>\n",
       "    .dataframe tbody tr th:only-of-type {\n",
       "        vertical-align: middle;\n",
       "    }\n",
       "\n",
       "    .dataframe tbody tr th {\n",
       "        vertical-align: top;\n",
       "    }\n",
       "\n",
       "    .dataframe thead th {\n",
       "        text-align: right;\n",
       "    }\n",
       "</style>\n",
       "<table border=\"1\" class=\"dataframe\">\n",
       "  <thead>\n",
       "    <tr style=\"text-align: right;\">\n",
       "      <th></th>\n",
       "      <th>id</th>\n",
       "      <th>date</th>\n",
       "      <th>home_team_goal</th>\n",
       "      <th>away_team_goal</th>\n",
       "      <th>year</th>\n",
       "      <th>start_season</th>\n",
       "      <th>end_season</th>\n",
       "      <th>country_name</th>\n",
       "      <th>league_name</th>\n",
       "      <th>home_team_name</th>\n",
       "      <th>away_team_name</th>\n",
       "      <th>winner</th>\n",
       "    </tr>\n",
       "  </thead>\n",
       "  <tbody>\n",
       "    <tr>\n",
       "      <th>0</th>\n",
       "      <td>1</td>\n",
       "      <td>2008-08-17</td>\n",
       "      <td>1</td>\n",
       "      <td>1</td>\n",
       "      <td>2008</td>\n",
       "      <td>2008</td>\n",
       "      <td>2009</td>\n",
       "      <td>Belgium</td>\n",
       "      <td>Belgium Jupiler League</td>\n",
       "      <td>KRC Genk</td>\n",
       "      <td>Beerschot AC</td>\n",
       "      <td>Tie</td>\n",
       "    </tr>\n",
       "    <tr>\n",
       "      <th>1</th>\n",
       "      <td>29</td>\n",
       "      <td>2008-11-15</td>\n",
       "      <td>1</td>\n",
       "      <td>1</td>\n",
       "      <td>2008</td>\n",
       "      <td>2008</td>\n",
       "      <td>2009</td>\n",
       "      <td>Belgium</td>\n",
       "      <td>Belgium Jupiler League</td>\n",
       "      <td>KRC Genk</td>\n",
       "      <td>KSV Roeselare</td>\n",
       "      <td>Tie</td>\n",
       "    </tr>\n",
       "    <tr>\n",
       "      <th>2</th>\n",
       "      <td>47</td>\n",
       "      <td>2008-11-29</td>\n",
       "      <td>3</td>\n",
       "      <td>2</td>\n",
       "      <td>2008</td>\n",
       "      <td>2008</td>\n",
       "      <td>2009</td>\n",
       "      <td>Belgium</td>\n",
       "      <td>Belgium Jupiler League</td>\n",
       "      <td>KRC Genk</td>\n",
       "      <td>KSV Cercle Brugge</td>\n",
       "      <td>KRC Genk</td>\n",
       "    </tr>\n",
       "    <tr>\n",
       "      <th>3</th>\n",
       "      <td>65</td>\n",
       "      <td>2008-12-13</td>\n",
       "      <td>1</td>\n",
       "      <td>0</td>\n",
       "      <td>2008</td>\n",
       "      <td>2008</td>\n",
       "      <td>2009</td>\n",
       "      <td>Belgium</td>\n",
       "      <td>Belgium Jupiler League</td>\n",
       "      <td>KRC Genk</td>\n",
       "      <td>Sporting Charleroi</td>\n",
       "      <td>KRC Genk</td>\n",
       "    </tr>\n",
       "    <tr>\n",
       "      <th>4</th>\n",
       "      <td>94</td>\n",
       "      <td>2009-01-24</td>\n",
       "      <td>2</td>\n",
       "      <td>0</td>\n",
       "      <td>2009</td>\n",
       "      <td>2008</td>\n",
       "      <td>2009</td>\n",
       "      <td>Belgium</td>\n",
       "      <td>Belgium Jupiler League</td>\n",
       "      <td>KRC Genk</td>\n",
       "      <td>RAEC Mons</td>\n",
       "      <td>KRC Genk</td>\n",
       "    </tr>\n",
       "  </tbody>\n",
       "</table>\n",
       "</div>"
      ],
      "text/plain": [
       "   id        date  home_team_goal  away_team_goal  year  start_season  \\\n",
       "0   1  2008-08-17               1               1  2008          2008   \n",
       "1  29  2008-11-15               1               1  2008          2008   \n",
       "2  47  2008-11-29               3               2  2008          2008   \n",
       "3  65  2008-12-13               1               0  2008          2008   \n",
       "4  94  2009-01-24               2               0  2009          2008   \n",
       "\n",
       "   end_season country_name             league_name home_team_name  \\\n",
       "0        2009      Belgium  Belgium Jupiler League       KRC Genk   \n",
       "1        2009      Belgium  Belgium Jupiler League       KRC Genk   \n",
       "2        2009      Belgium  Belgium Jupiler League       KRC Genk   \n",
       "3        2009      Belgium  Belgium Jupiler League       KRC Genk   \n",
       "4        2009      Belgium  Belgium Jupiler League       KRC Genk   \n",
       "\n",
       "       away_team_name    winner  \n",
       "0        Beerschot AC       Tie  \n",
       "1       KSV Roeselare       Tie  \n",
       "2   KSV Cercle Brugge  KRC Genk  \n",
       "3  Sporting Charleroi  KRC Genk  \n",
       "4           RAEC Mons  KRC Genk  "
      ]
     },
     "execution_count": 64,
     "metadata": {},
     "output_type": "execute_result"
    }
   ],
   "source": [
    "matches = pd.read_csv('matches_clean.csv')\n",
    "matches.head()"
   ]
  },
  {
   "cell_type": "markdown",
   "metadata": {},
   "source": [
    "We need to retrieve first the matches taking place between 2010 and 2011. After narrowing down the rows, the winners must be from the `home_team_name` column because we are looking a team that had the most victories at home not away. Note that we are not observing the most winner in a specific league. What we find is that finding the most winner in 11 European Leagues in 2010/2011 season."
   ]
  },
  {
   "cell_type": "code",
   "execution_count": 65,
   "metadata": {},
   "outputs": [
    {
     "data": {
      "text/plain": [
       "home_team_name     winner           \n",
       "Manchester United  Manchester United    18\n",
       "Real Madrid CF     Real Madrid CF       16\n",
       "Name: id, dtype: int64"
      ]
     },
     "execution_count": 65,
     "metadata": {},
     "output_type": "execute_result"
    }
   ],
   "source": [
    "# first query by start_season, end_season and  home_team_name must be the same values in the winner column.\n",
    "matches.query('start_season == 2010 and end_season == 2011 and home_team_name == winner')\\\n",
    ".groupby(['home_team_name', 'winner']).count()['id'].sort_values(ascending=False)[:2]"
   ]
  },
  {
   "cell_type": "markdown",
   "metadata": {},
   "source": [
    "Our approaches works well that we found Manchester United is the most winner."
   ]
  },
  {
   "cell_type": "code",
   "execution_count": 66,
   "metadata": {},
   "outputs": [
    {
     "data": {
      "text/html": [
       "<div>\n",
       "<style scoped>\n",
       "    .dataframe tbody tr th:only-of-type {\n",
       "        vertical-align: middle;\n",
       "    }\n",
       "\n",
       "    .dataframe tbody tr th {\n",
       "        vertical-align: top;\n",
       "    }\n",
       "\n",
       "    .dataframe thead th {\n",
       "        text-align: right;\n",
       "    }\n",
       "</style>\n",
       "<table border=\"1\" class=\"dataframe\">\n",
       "  <thead>\n",
       "    <tr style=\"text-align: right;\">\n",
       "      <th></th>\n",
       "      <th>id</th>\n",
       "      <th>team_api_id</th>\n",
       "      <th>team_fifa_api_id</th>\n",
       "      <th>team_long_name</th>\n",
       "      <th>team_short_name</th>\n",
       "    </tr>\n",
       "  </thead>\n",
       "  <tbody>\n",
       "    <tr>\n",
       "      <th>25</th>\n",
       "      <td>3457</td>\n",
       "      <td>10260</td>\n",
       "      <td>11.0</td>\n",
       "      <td>Manchester United</td>\n",
       "      <td>MUN</td>\n",
       "    </tr>\n",
       "  </tbody>\n",
       "</table>\n",
       "</div>"
      ],
      "text/plain": [
       "      id  team_api_id  team_fifa_api_id     team_long_name team_short_name\n",
       "25  3457        10260              11.0  Manchester United             MUN"
      ]
     },
     "execution_count": 66,
     "metadata": {},
     "output_type": "execute_result"
    }
   ],
   "source": [
    "df_team.query('team_long_name == \"Manchester United\"')"
   ]
  },
  {
   "cell_type": "markdown",
   "metadata": {},
   "source": [
    "### Research Question 2 : Which season had the most home and/or away goals over the seasons?"
   ]
  },
  {
   "cell_type": "markdown",
   "metadata": {},
   "source": [
    "For this question, we need to deep dive into the `start_season` and `end_season` columns. In order to see the total home and away goals over the seasons in database, we should group two columns `start_season` and `end_season` and then we need to sum the total number of home and away goals based on the grouped columns. We expect to see the result we want to."
   ]
  },
  {
   "cell_type": "code",
   "execution_count": 67,
   "metadata": {
    "collapsed": true
   },
   "outputs": [],
   "source": [
    "goals_per_season = matches.groupby(['start_season', 'end_season'])['home_team_goal', 'away_team_goal'].sum()"
   ]
  },
  {
   "cell_type": "markdown",
   "metadata": {},
   "source": [
    "we should extract the away_team_goal column from the table:"
   ]
  },
  {
   "cell_type": "code",
   "execution_count": 68,
   "metadata": {},
   "outputs": [
    {
     "data": {
      "text/plain": [
       "start_season  end_season\n",
       "2008          2009          3665\n",
       "2009          2010          3654\n",
       "2010          2011          3701\n",
       "2011          2012          3683\n",
       "2012          2013          3986\n",
       "2013          2014          3602\n",
       "2014          2015          3842\n",
       "2015          2016          4027\n",
       "Name: away_team_goal, dtype: int64"
      ]
     },
     "execution_count": 68,
     "metadata": {},
     "output_type": "execute_result"
    }
   ],
   "source": [
    "away_goals = goals_per_season['away_team_goal']\n",
    "away_goals"
   ]
  },
  {
   "cell_type": "markdown",
   "metadata": {},
   "source": [
    "we should extract the home_team_goal column now:"
   ]
  },
  {
   "cell_type": "code",
   "execution_count": 69,
   "metadata": {},
   "outputs": [
    {
     "data": {
      "text/plain": [
       "start_season  end_season\n",
       "2008          2009          5007\n",
       "2009          2010          4978\n",
       "2010          2011          5048\n",
       "2011          2012          5064\n",
       "2012          2013          5053\n",
       "2013          2014          4787\n",
       "2014          2015          5055\n",
       "2015          2016          5135\n",
       "Name: home_team_goal, dtype: int64"
      ]
     },
     "execution_count": 69,
     "metadata": {},
     "output_type": "execute_result"
    }
   ],
   "source": [
    "home_goals = goals_per_season['home_team_goal']\n",
    "home_goals"
   ]
  },
  {
   "cell_type": "markdown",
   "metadata": {},
   "source": [
    "To illustrate the numbeer of goals over the 8 seasons, I have created a bar chart. The bar chart depicts the differences between home and away goals for each season. Each season we see that home teams score goals more than away teams. However, the recent season (i.e. 2015/2016) clearly has the most home and away goals over the seasons."
   ]
  },
  {
   "cell_type": "code",
   "execution_count": 70,
   "metadata": {},
   "outputs": [
    {
     "data": {
      "image/png": "[encoded data removed]",
      "text/plain": [
       "<Figure size 792x576 with 1 Axes>"
      ]
     },
     "metadata": {
      "image/png": {
       "height": 538,
       "width": 676
      }
     },
     "output_type": "display_data"
    }
   ],
   "source": [
    "# Setting the positions and width for the bars\n",
    "width = 0.25\n",
    "positions = goals_per_season.index.labels[0]\n",
    "\n",
    "fig, ax = plt.subplots(figsize=(11,8))\n",
    "\n",
    "# one for total home goals per season\n",
    "ax.bar(positions, home_goals, width, alpha=0.5)\n",
    "\n",
    "# one for away goals per season\n",
    "ax.bar([ i + width for i in positions], away_goals, width,alpha=0.8)\n",
    "\n",
    "# Set the y axis label\n",
    "ax.set_ylabel('Total Goals')\n",
    "\n",
    "# Set the chart's title\n",
    "ax.set_title('Total Goals in 8 Seasons')\n",
    "\n",
    "# Set the y axis label \n",
    "plt.xlabel(\"Seasons\")\n",
    "\n",
    "plt.ylim(min(away_goals.min(), home_goals.min()) - 100, max(away_goals.max(), home_goals.max()) + 300)\n",
    "\n",
    "# Set the position of the x ticks\n",
    "ax.set_xticks([(p + 0.1) for p in positions])\n",
    "\n",
    "# Set the position of the x ticks labels\n",
    "ax.set_xticklabels(home_goals.index, rotation=45)\n",
    "\n",
    "# set text to each bar\n",
    "for i in ax.patches:\n",
    "    ax.text(i.get_x() - 0.1, i.get_height(), str(i.get_height()), fontsize=12, color='dimgrey')\n",
    "\n",
    "# Adding the legend and showing the plot\n",
    "plt.legend(['Home', 'Away'], loc='best');"
   ]
  },
  {
   "cell_type": "markdown",
   "metadata": {},
   "source": [
    "### Research Question 3 : Which team won on 2014/2015 season in Spain LIGA BBVA?"
   ]
  },
  {
   "cell_type": "markdown",
   "metadata": {},
   "source": [
    "We need to apply a query operation to retrieve only the relevant rows. The matches must be played in the 2014/2015 season in Spain LIGA BBVA. In this case, we only look directly to the `winner` column. The winner column'll give us the total wins of each team in this season."
   ]
  },
  {
   "cell_type": "code",
   "execution_count": 71,
   "metadata": {},
   "outputs": [
    {
     "data": {
      "text/html": [
       "<div>\n",
       "<style scoped>\n",
       "    .dataframe tbody tr th:only-of-type {\n",
       "        vertical-align: middle;\n",
       "    }\n",
       "\n",
       "    .dataframe tbody tr th {\n",
       "        vertical-align: top;\n",
       "    }\n",
       "\n",
       "    .dataframe thead th {\n",
       "        text-align: right;\n",
       "    }\n",
       "</style>\n",
       "<table border=\"1\" class=\"dataframe\">\n",
       "  <thead>\n",
       "    <tr style=\"text-align: right;\">\n",
       "      <th></th>\n",
       "      <th>home_team_goal</th>\n",
       "      <th>away_team_goal</th>\n",
       "      <th>home_team_name</th>\n",
       "      <th>away_team_name</th>\n",
       "      <th>winner</th>\n",
       "    </tr>\n",
       "  </thead>\n",
       "  <tbody>\n",
       "    <tr>\n",
       "      <th>21631</th>\n",
       "      <td>0</td>\n",
       "      <td>0</td>\n",
       "      <td>Valencia CF</td>\n",
       "      <td>Athletic Club de Bilbao</td>\n",
       "      <td>Tie</td>\n",
       "    </tr>\n",
       "    <tr>\n",
       "      <th>21632</th>\n",
       "      <td>0</td>\n",
       "      <td>1</td>\n",
       "      <td>Valencia CF</td>\n",
       "      <td>FC Barcelona</td>\n",
       "      <td>FC Barcelona</td>\n",
       "    </tr>\n",
       "    <tr>\n",
       "      <th>21633</th>\n",
       "      <td>3</td>\n",
       "      <td>0</td>\n",
       "      <td>Valencia CF</td>\n",
       "      <td>Rayo Vallecano</td>\n",
       "      <td>Valencia CF</td>\n",
       "    </tr>\n",
       "    <tr>\n",
       "      <th>21634</th>\n",
       "      <td>2</td>\n",
       "      <td>1</td>\n",
       "      <td>Valencia CF</td>\n",
       "      <td>Real Madrid CF</td>\n",
       "      <td>Valencia CF</td>\n",
       "    </tr>\n",
       "    <tr>\n",
       "      <th>21635</th>\n",
       "      <td>3</td>\n",
       "      <td>2</td>\n",
       "      <td>Valencia CF</td>\n",
       "      <td>UD Almería</td>\n",
       "      <td>Valencia CF</td>\n",
       "    </tr>\n",
       "  </tbody>\n",
       "</table>\n",
       "</div>"
      ],
      "text/plain": [
       "       home_team_goal  away_team_goal home_team_name           away_team_name  \\\n",
       "21631               0               0    Valencia CF  Athletic Club de Bilbao   \n",
       "21632               0               1    Valencia CF             FC Barcelona   \n",
       "21633               3               0    Valencia CF           Rayo Vallecano   \n",
       "21634               2               1    Valencia CF           Real Madrid CF   \n",
       "21635               3               2    Valencia CF               UD Almería   \n",
       "\n",
       "             winner  \n",
       "21631           Tie  \n",
       "21632  FC Barcelona  \n",
       "21633   Valencia CF  \n",
       "21634   Valencia CF  \n",
       "21635   Valencia CF  "
      ]
     },
     "execution_count": 71,
     "metadata": {},
     "output_type": "execute_result"
    }
   ],
   "source": [
    "spain_matches = matches.query('country_name == \"Spain\" and start_season == 2014 and end_season == 2015')\\\n",
    "[['home_team_goal', 'away_team_goal', 'home_team_name', 'away_team_name', 'winner']]\n",
    "\n",
    "spain_matches.head()"
   ]
  },
  {
   "cell_type": "markdown",
   "metadata": {},
   "source": [
    "To find out the total wins of each team, we must consume one of the Pandas function. As we expected, retrieving the first 4 most winners is sufficient to interpret the answer. However we need to do one more step because Real Madrid and Barcelona have the same number of wins. "
   ]
  },
  {
   "cell_type": "code",
   "execution_count": 72,
   "metadata": {
    "slideshow": {
     "slide_type": "-"
    }
   },
   "outputs": [
    {
     "data": {
      "text/plain": [
       "Tie                91\n",
       "Real Madrid CF     30\n",
       "FC Barcelona       30\n",
       "Atlético Madrid    23\n",
       "Name: winner, dtype: int64"
      ]
     },
     "execution_count": 72,
     "metadata": {},
     "output_type": "execute_result"
    }
   ],
   "source": [
    "winner_spain_goals = spain_matches['winner'].value_counts()[:4]\n",
    "winner_spain_goals"
   ]
  },
  {
   "cell_type": "markdown",
   "metadata": {},
   "source": [
    "We're doing one more query operation. We only look matches where the winner is 'Tie' and home or away team is Barcelona or Real Madrid. As a result, Barcelona ties 4 times while Real Madrid ties 2 times. "
   ]
  },
  {
   "cell_type": "code",
   "execution_count": 73,
   "metadata": {},
   "outputs": [
    {
     "data": {
      "text/html": [
       "<div>\n",
       "<style scoped>\n",
       "    .dataframe tbody tr th:only-of-type {\n",
       "        vertical-align: middle;\n",
       "    }\n",
       "\n",
       "    .dataframe tbody tr th {\n",
       "        vertical-align: top;\n",
       "    }\n",
       "\n",
       "    .dataframe thead th {\n",
       "        text-align: right;\n",
       "    }\n",
       "</style>\n",
       "<table border=\"1\" class=\"dataframe\">\n",
       "  <thead>\n",
       "    <tr style=\"text-align: right;\">\n",
       "      <th></th>\n",
       "      <th>home_team_goal</th>\n",
       "      <th>away_team_goal</th>\n",
       "      <th>home_team_name</th>\n",
       "      <th>away_team_name</th>\n",
       "      <th>winner</th>\n",
       "    </tr>\n",
       "  </thead>\n",
       "  <tbody>\n",
       "    <tr>\n",
       "      <th>22764</th>\n",
       "      <td>2</td>\n",
       "      <td>2</td>\n",
       "      <td>Sevilla FC</td>\n",
       "      <td>FC Barcelona</td>\n",
       "      <td>Tie</td>\n",
       "    </tr>\n",
       "    <tr>\n",
       "      <th>23044</th>\n",
       "      <td>1</td>\n",
       "      <td>1</td>\n",
       "      <td>Real Madrid CF</td>\n",
       "      <td>Villarreal CF</td>\n",
       "      <td>Tie</td>\n",
       "    </tr>\n",
       "    <tr>\n",
       "      <th>23051</th>\n",
       "      <td>2</td>\n",
       "      <td>2</td>\n",
       "      <td>Real Madrid CF</td>\n",
       "      <td>Valencia CF</td>\n",
       "      <td>Tie</td>\n",
       "    </tr>\n",
       "    <tr>\n",
       "      <th>23205</th>\n",
       "      <td>2</td>\n",
       "      <td>2</td>\n",
       "      <td>FC Barcelona</td>\n",
       "      <td>RC Deportivo de La Coruña</td>\n",
       "      <td>Tie</td>\n",
       "    </tr>\n",
       "    <tr>\n",
       "      <th>23343</th>\n",
       "      <td>0</td>\n",
       "      <td>0</td>\n",
       "      <td>Getafe CF</td>\n",
       "      <td>FC Barcelona</td>\n",
       "      <td>Tie</td>\n",
       "    </tr>\n",
       "    <tr>\n",
       "      <th>23699</th>\n",
       "      <td>0</td>\n",
       "      <td>0</td>\n",
       "      <td>Málaga CF</td>\n",
       "      <td>FC Barcelona</td>\n",
       "      <td>Tie</td>\n",
       "    </tr>\n",
       "  </tbody>\n",
       "</table>\n",
       "</div>"
      ],
      "text/plain": [
       "       home_team_goal  away_team_goal  home_team_name  \\\n",
       "22764               2               2      Sevilla FC   \n",
       "23044               1               1  Real Madrid CF   \n",
       "23051               2               2  Real Madrid CF   \n",
       "23205               2               2    FC Barcelona   \n",
       "23343               0               0       Getafe CF   \n",
       "23699               0               0       Málaga CF   \n",
       "\n",
       "                  away_team_name winner  \n",
       "22764               FC Barcelona    Tie  \n",
       "23044              Villarreal CF    Tie  \n",
       "23051                Valencia CF    Tie  \n",
       "23205  RC Deportivo de La Coruña    Tie  \n",
       "23343               FC Barcelona    Tie  \n",
       "23699               FC Barcelona    Tie  "
      ]
     },
     "execution_count": 73,
     "metadata": {},
     "output_type": "execute_result"
    }
   ],
   "source": [
    "spain_matches.query('winner == \"Tie\" and '\\\n",
    "                   '(home_team_name in [\"FC Barcelona\", \"Real Madrid CF\"] or away_team_name in [\"FC Barcelona\", \"Real Madrid CF\"])')"
   ]
  },
  {
   "cell_type": "markdown",
   "metadata": {},
   "source": [
    "### Research Question 4 : What teams improved the most over the time period?"
   ]
  },
  {
   "cell_type": "markdown",
   "metadata": {},
   "source": [
    "This questions is a bit tough. I had to pick 2 specific years to end up with a concrete solution. I have selected 2011, and 2015 to compare the details of the teams. In order words, using these years we analyze what teams improved the most. Let's start displaying the match table again:"
   ]
  },
  {
   "cell_type": "code",
   "execution_count": 74,
   "metadata": {},
   "outputs": [
    {
     "data": {
      "text/html": [
       "<div>\n",
       "<style scoped>\n",
       "    .dataframe tbody tr th:only-of-type {\n",
       "        vertical-align: middle;\n",
       "    }\n",
       "\n",
       "    .dataframe tbody tr th {\n",
       "        vertical-align: top;\n",
       "    }\n",
       "\n",
       "    .dataframe thead th {\n",
       "        text-align: right;\n",
       "    }\n",
       "</style>\n",
       "<table border=\"1\" class=\"dataframe\">\n",
       "  <thead>\n",
       "    <tr style=\"text-align: right;\">\n",
       "      <th></th>\n",
       "      <th>id</th>\n",
       "      <th>date</th>\n",
       "      <th>home_team_goal</th>\n",
       "      <th>away_team_goal</th>\n",
       "      <th>year</th>\n",
       "      <th>start_season</th>\n",
       "      <th>end_season</th>\n",
       "      <th>country_name</th>\n",
       "      <th>league_name</th>\n",
       "      <th>home_team_name</th>\n",
       "      <th>away_team_name</th>\n",
       "      <th>winner</th>\n",
       "    </tr>\n",
       "  </thead>\n",
       "  <tbody>\n",
       "    <tr>\n",
       "      <th>0</th>\n",
       "      <td>1</td>\n",
       "      <td>2008-08-17</td>\n",
       "      <td>1</td>\n",
       "      <td>1</td>\n",
       "      <td>2008</td>\n",
       "      <td>2008</td>\n",
       "      <td>2009</td>\n",
       "      <td>Belgium</td>\n",
       "      <td>Belgium Jupiler League</td>\n",
       "      <td>KRC Genk</td>\n",
       "      <td>Beerschot AC</td>\n",
       "      <td>Tie</td>\n",
       "    </tr>\n",
       "    <tr>\n",
       "      <th>1</th>\n",
       "      <td>29</td>\n",
       "      <td>2008-11-15</td>\n",
       "      <td>1</td>\n",
       "      <td>1</td>\n",
       "      <td>2008</td>\n",
       "      <td>2008</td>\n",
       "      <td>2009</td>\n",
       "      <td>Belgium</td>\n",
       "      <td>Belgium Jupiler League</td>\n",
       "      <td>KRC Genk</td>\n",
       "      <td>KSV Roeselare</td>\n",
       "      <td>Tie</td>\n",
       "    </tr>\n",
       "    <tr>\n",
       "      <th>2</th>\n",
       "      <td>47</td>\n",
       "      <td>2008-11-29</td>\n",
       "      <td>3</td>\n",
       "      <td>2</td>\n",
       "      <td>2008</td>\n",
       "      <td>2008</td>\n",
       "      <td>2009</td>\n",
       "      <td>Belgium</td>\n",
       "      <td>Belgium Jupiler League</td>\n",
       "      <td>KRC Genk</td>\n",
       "      <td>KSV Cercle Brugge</td>\n",
       "      <td>KRC Genk</td>\n",
       "    </tr>\n",
       "    <tr>\n",
       "      <th>3</th>\n",
       "      <td>65</td>\n",
       "      <td>2008-12-13</td>\n",
       "      <td>1</td>\n",
       "      <td>0</td>\n",
       "      <td>2008</td>\n",
       "      <td>2008</td>\n",
       "      <td>2009</td>\n",
       "      <td>Belgium</td>\n",
       "      <td>Belgium Jupiler League</td>\n",
       "      <td>KRC Genk</td>\n",
       "      <td>Sporting Charleroi</td>\n",
       "      <td>KRC Genk</td>\n",
       "    </tr>\n",
       "    <tr>\n",
       "      <th>4</th>\n",
       "      <td>94</td>\n",
       "      <td>2009-01-24</td>\n",
       "      <td>2</td>\n",
       "      <td>0</td>\n",
       "      <td>2009</td>\n",
       "      <td>2008</td>\n",
       "      <td>2009</td>\n",
       "      <td>Belgium</td>\n",
       "      <td>Belgium Jupiler League</td>\n",
       "      <td>KRC Genk</td>\n",
       "      <td>RAEC Mons</td>\n",
       "      <td>KRC Genk</td>\n",
       "    </tr>\n",
       "  </tbody>\n",
       "</table>\n",
       "</div>"
      ],
      "text/plain": [
       "   id       date  home_team_goal  away_team_goal  year start_season  \\\n",
       "0   1 2008-08-17               1               1  2008         2008   \n",
       "1  29 2008-11-15               1               1  2008         2008   \n",
       "2  47 2008-11-29               3               2  2008         2008   \n",
       "3  65 2008-12-13               1               0  2008         2008   \n",
       "4  94 2009-01-24               2               0  2009         2008   \n",
       "\n",
       "  end_season country_name             league_name home_team_name  \\\n",
       "0       2009      Belgium  Belgium Jupiler League       KRC Genk   \n",
       "1       2009      Belgium  Belgium Jupiler League       KRC Genk   \n",
       "2       2009      Belgium  Belgium Jupiler League       KRC Genk   \n",
       "3       2009      Belgium  Belgium Jupiler League       KRC Genk   \n",
       "4       2009      Belgium  Belgium Jupiler League       KRC Genk   \n",
       "\n",
       "       away_team_name    winner  \n",
       "0        Beerschot AC       Tie  \n",
       "1       KSV Roeselare       Tie  \n",
       "2   KSV Cercle Brugge  KRC Genk  \n",
       "3  Sporting Charleroi  KRC Genk  \n",
       "4           RAEC Mons  KRC Genk  "
      ]
     },
     "execution_count": 74,
     "metadata": {},
     "output_type": "execute_result"
    }
   ],
   "source": [
    "df_match.head()"
   ]
  },
  {
   "cell_type": "markdown",
   "metadata": {},
   "source": [
    "In order to select a year, we should know how many unique years exist in the table."
   ]
  },
  {
   "cell_type": "code",
   "execution_count": 75,
   "metadata": {},
   "outputs": [
    {
     "data": {
      "text/plain": [
       "array([2008, 2009, 2010, 2011, 2012, 2013, 2014, 2015, 2016])"
      ]
     },
     "execution_count": 75,
     "metadata": {},
     "output_type": "execute_result"
    }
   ],
   "source": [
    "years = df_match.year.unique()\n",
    "# number of unique years in the table\n",
    "years"
   ]
  },
  {
   "cell_type": "code",
   "execution_count": 76,
   "metadata": {},
   "outputs": [
    {
     "data": {
      "text/plain": [
       "296"
      ]
     },
     "execution_count": 76,
     "metadata": {},
     "output_type": "execute_result"
    }
   ],
   "source": [
    "teams = df_match.away_team_name.unique()\n",
    "len(teams)"
   ]
  },
  {
   "cell_type": "markdown",
   "metadata": {},
   "source": [
    "Just to be sure, we checked whether the away and home team size is equal:"
   ]
  },
  {
   "cell_type": "code",
   "execution_count": 77,
   "metadata": {},
   "outputs": [
    {
     "data": {
      "text/plain": [
       "True"
      ]
     },
     "execution_count": 77,
     "metadata": {},
     "output_type": "execute_result"
    }
   ],
   "source": [
    "len(df_match.away_team_name.unique()) == len(df_match.home_team_name.unique())"
   ]
  },
  {
   "cell_type": "markdown",
   "metadata": {},
   "source": [
    "So far so good. Now, we declare 2 variables that hold matches from the selected years. We look at the averages of away and home goals for each team for both years. Since we must compare team qualities, we should apply mean or other statistical approaches to estimate more about the teams."
   ]
  },
  {
   "cell_type": "code",
   "execution_count": 78,
   "metadata": {},
   "outputs": [],
   "source": [
    "df_match_2011 = df_match.query('year == 2011')\n",
    "\n",
    "df_match_2015 = df_match.query('year == 2015')\n",
    "\n",
    "df_match_2011_away = df_match_2011.groupby(['away_team_name'])['away_team_goal'].mean()\n",
    "\n",
    "df_match_2011_home = df_match_2011.groupby(['home_team_name'])['home_team_goal'].mean()\n",
    "\n",
    "df_match_2015_away = df_match_2015.groupby(['away_team_name'])['away_team_goal'].mean()\n",
    "\n",
    "df_match_2015_home = df_match_2015.groupby(['home_team_name'])['home_team_goal'].mean()\n",
    "\n",
    "df_match_total_2011 = (df_match_2011_away + df_match_2011_home) / 2\n",
    "\n",
    "df_match_total_2015 = (df_match_2015_away + df_match_2015_home) / 2\n",
    "\n",
    "diff_match_2015_2011 = df_match_total_2015 - df_match_total_2011"
   ]
  },
  {
   "cell_type": "markdown",
   "metadata": {},
   "source": [
    "Missing values are not on our radar. So we can safely drop them."
   ]
  },
  {
   "cell_type": "code",
   "execution_count": 79,
   "metadata": {},
   "outputs": [],
   "source": [
    "diff_match_2015_2011.dropna(inplace=True)"
   ]
  },
  {
   "cell_type": "code",
   "execution_count": 80,
   "metadata": {},
   "outputs": [
    {
     "name": "stdout",
     "output_type": "stream",
     "text": [
      "Improved teams :86\n"
     ]
    }
   ],
   "source": [
    "print('Improved teams :' + str(diff_match_2015_2011[diff_match_2015_2011.sort_values() > 0].count()))"
   ]
  },
  {
   "cell_type": "code",
   "execution_count": 81,
   "metadata": {},
   "outputs": [],
   "source": [
    "# sort the values \n",
    "sorted_index = diff_match_2015_2011.sort_values().index"
   ]
  },
  {
   "cell_type": "markdown",
   "metadata": {},
   "source": [
    "This time, we consume a horizontal bar since we can better measure the 296 teams's average quality horizontally from 2011 to 2015. The horizontal bar depicts that there are teams that didn't improve themselves. Conversely, 86 team have improvements over the years."
   ]
  },
  {
   "cell_type": "code",
   "execution_count": 82,
   "metadata": {},
   "outputs": [
    {
     "data": {
      "image/png": "[encoded data removed]",
      "text/plain": [
       "<Figure size 1080x1800 with 1 Axes>"
      ]
     },
     "metadata": {
      "image/png": {
       "height": 1791,
       "width": 1071
      }
     },
     "output_type": "display_data"
    }
   ],
   "source": [
    "fig, ax = plt.subplots(figsize=(15, 25))\n",
    "\n",
    "# plot a horizontal bar\n",
    "plt.barh(range(0,len(sorted_index)), diff_match_2015_2011.sort_values())\n",
    "\n",
    "# Set the position of the y ticks\n",
    "ax.set_yticks(range(0,len(sorted_index)))\n",
    "\n",
    "# Set the position of the y ticks labels\n",
    "ax.set_yticklabels(sorted_index)\n",
    "\n",
    "# Set the y axis label\n",
    "ax.set_ylabel('Teams')\n",
    "\n",
    "# Set the chart's title\n",
    "ax.set_title('Improvements Team Quality from 2011 to 2015')\n",
    "\n",
    "# Set the y axis label \n",
    "plt.xlabel(\"Averages\")\n",
    "\n",
    "plt.tight_layout();"
   ]
  },
  {
   "cell_type": "markdown",
   "metadata": {},
   "source": [
    "### Research Question 5 : Which players had the most penalties?"
   ]
  },
  {
   "cell_type": "markdown",
   "metadata": {},
   "source": [
    "The question is about obtaining players's penalties over the entire dataset. First things first, the players stats must be retrieved to find an answer."
   ]
  },
  {
   "cell_type": "code",
   "execution_count": 83,
   "metadata": {},
   "outputs": [
    {
     "data": {
      "text/html": [
       "<div>\n",
       "<style scoped>\n",
       "    .dataframe tbody tr th:only-of-type {\n",
       "        vertical-align: middle;\n",
       "    }\n",
       "\n",
       "    .dataframe tbody tr th {\n",
       "        vertical-align: top;\n",
       "    }\n",
       "\n",
       "    .dataframe thead th {\n",
       "        text-align: right;\n",
       "    }\n",
       "</style>\n",
       "<table border=\"1\" class=\"dataframe\">\n",
       "  <thead>\n",
       "    <tr style=\"text-align: right;\">\n",
       "      <th></th>\n",
       "      <th>id</th>\n",
       "      <th>player_api_id</th>\n",
       "      <th>date</th>\n",
       "      <th>overall_rating</th>\n",
       "      <th>potential</th>\n",
       "      <th>preferred_foot</th>\n",
       "      <th>attacking_work_rate</th>\n",
       "      <th>defensive_work_rate</th>\n",
       "      <th>crossing</th>\n",
       "      <th>finishing</th>\n",
       "      <th>...</th>\n",
       "      <th>sliding_tackle</th>\n",
       "      <th>gk_diving</th>\n",
       "      <th>gk_handling</th>\n",
       "      <th>gk_kicking</th>\n",
       "      <th>gk_positioning</th>\n",
       "      <th>gk_reflexes</th>\n",
       "      <th>player_name</th>\n",
       "      <th>birthday</th>\n",
       "      <th>height</th>\n",
       "      <th>weight</th>\n",
       "    </tr>\n",
       "  </thead>\n",
       "  <tbody>\n",
       "    <tr>\n",
       "      <th>0</th>\n",
       "      <td>1</td>\n",
       "      <td>505942</td>\n",
       "      <td>2016-02-18</td>\n",
       "      <td>67.0</td>\n",
       "      <td>71.0</td>\n",
       "      <td>right</td>\n",
       "      <td>medium</td>\n",
       "      <td>medium</td>\n",
       "      <td>49.0</td>\n",
       "      <td>44.0</td>\n",
       "      <td>...</td>\n",
       "      <td>69.0</td>\n",
       "      <td>6.0</td>\n",
       "      <td>11.0</td>\n",
       "      <td>10.0</td>\n",
       "      <td>8.0</td>\n",
       "      <td>8.0</td>\n",
       "      <td>Aaron Appindangoye</td>\n",
       "      <td>1992-02-29</td>\n",
       "      <td>182.88</td>\n",
       "      <td>187</td>\n",
       "    </tr>\n",
       "    <tr>\n",
       "      <th>1</th>\n",
       "      <td>2</td>\n",
       "      <td>505942</td>\n",
       "      <td>2015-11-19</td>\n",
       "      <td>67.0</td>\n",
       "      <td>71.0</td>\n",
       "      <td>right</td>\n",
       "      <td>medium</td>\n",
       "      <td>medium</td>\n",
       "      <td>49.0</td>\n",
       "      <td>44.0</td>\n",
       "      <td>...</td>\n",
       "      <td>69.0</td>\n",
       "      <td>6.0</td>\n",
       "      <td>11.0</td>\n",
       "      <td>10.0</td>\n",
       "      <td>8.0</td>\n",
       "      <td>8.0</td>\n",
       "      <td>Aaron Appindangoye</td>\n",
       "      <td>1992-02-29</td>\n",
       "      <td>182.88</td>\n",
       "      <td>187</td>\n",
       "    </tr>\n",
       "    <tr>\n",
       "      <th>2</th>\n",
       "      <td>3</td>\n",
       "      <td>505942</td>\n",
       "      <td>2015-09-21</td>\n",
       "      <td>62.0</td>\n",
       "      <td>66.0</td>\n",
       "      <td>right</td>\n",
       "      <td>medium</td>\n",
       "      <td>medium</td>\n",
       "      <td>49.0</td>\n",
       "      <td>44.0</td>\n",
       "      <td>...</td>\n",
       "      <td>69.0</td>\n",
       "      <td>6.0</td>\n",
       "      <td>11.0</td>\n",
       "      <td>10.0</td>\n",
       "      <td>8.0</td>\n",
       "      <td>8.0</td>\n",
       "      <td>Aaron Appindangoye</td>\n",
       "      <td>1992-02-29</td>\n",
       "      <td>182.88</td>\n",
       "      <td>187</td>\n",
       "    </tr>\n",
       "    <tr>\n",
       "      <th>3</th>\n",
       "      <td>4</td>\n",
       "      <td>505942</td>\n",
       "      <td>2015-03-20</td>\n",
       "      <td>61.0</td>\n",
       "      <td>65.0</td>\n",
       "      <td>right</td>\n",
       "      <td>medium</td>\n",
       "      <td>medium</td>\n",
       "      <td>48.0</td>\n",
       "      <td>43.0</td>\n",
       "      <td>...</td>\n",
       "      <td>66.0</td>\n",
       "      <td>5.0</td>\n",
       "      <td>10.0</td>\n",
       "      <td>9.0</td>\n",
       "      <td>7.0</td>\n",
       "      <td>7.0</td>\n",
       "      <td>Aaron Appindangoye</td>\n",
       "      <td>1992-02-29</td>\n",
       "      <td>182.88</td>\n",
       "      <td>187</td>\n",
       "    </tr>\n",
       "    <tr>\n",
       "      <th>4</th>\n",
       "      <td>5</td>\n",
       "      <td>505942</td>\n",
       "      <td>2007-02-22</td>\n",
       "      <td>61.0</td>\n",
       "      <td>65.0</td>\n",
       "      <td>right</td>\n",
       "      <td>medium</td>\n",
       "      <td>medium</td>\n",
       "      <td>48.0</td>\n",
       "      <td>43.0</td>\n",
       "      <td>...</td>\n",
       "      <td>66.0</td>\n",
       "      <td>5.0</td>\n",
       "      <td>10.0</td>\n",
       "      <td>9.0</td>\n",
       "      <td>7.0</td>\n",
       "      <td>7.0</td>\n",
       "      <td>Aaron Appindangoye</td>\n",
       "      <td>1992-02-29</td>\n",
       "      <td>182.88</td>\n",
       "      <td>187</td>\n",
       "    </tr>\n",
       "  </tbody>\n",
       "</table>\n",
       "<p>5 rows × 45 columns</p>\n",
       "</div>"
      ],
      "text/plain": [
       "   id  player_api_id        date  overall_rating  potential preferred_foot  \\\n",
       "0   1         505942  2016-02-18            67.0       71.0          right   \n",
       "1   2         505942  2015-11-19            67.0       71.0          right   \n",
       "2   3         505942  2015-09-21            62.0       66.0          right   \n",
       "3   4         505942  2015-03-20            61.0       65.0          right   \n",
       "4   5         505942  2007-02-22            61.0       65.0          right   \n",
       "\n",
       "  attacking_work_rate defensive_work_rate  crossing  finishing   ...    \\\n",
       "0              medium              medium      49.0       44.0   ...     \n",
       "1              medium              medium      49.0       44.0   ...     \n",
       "2              medium              medium      49.0       44.0   ...     \n",
       "3              medium              medium      48.0       43.0   ...     \n",
       "4              medium              medium      48.0       43.0   ...     \n",
       "\n",
       "   sliding_tackle  gk_diving  gk_handling  gk_kicking  gk_positioning  \\\n",
       "0            69.0        6.0         11.0        10.0             8.0   \n",
       "1            69.0        6.0         11.0        10.0             8.0   \n",
       "2            69.0        6.0         11.0        10.0             8.0   \n",
       "3            66.0        5.0         10.0         9.0             7.0   \n",
       "4            66.0        5.0         10.0         9.0             7.0   \n",
       "\n",
       "   gk_reflexes         player_name    birthday  height  weight  \n",
       "0          8.0  Aaron Appindangoye  1992-02-29  182.88     187  \n",
       "1          8.0  Aaron Appindangoye  1992-02-29  182.88     187  \n",
       "2          8.0  Aaron Appindangoye  1992-02-29  182.88     187  \n",
       "3          7.0  Aaron Appindangoye  1992-02-29  182.88     187  \n",
       "4          7.0  Aaron Appindangoye  1992-02-29  182.88     187  \n",
       "\n",
       "[5 rows x 45 columns]"
      ]
     },
     "execution_count": 83,
     "metadata": {},
     "output_type": "execute_result"
    }
   ],
   "source": [
    "players_stats = pd.read_csv('player_atts_clean.csv')\n",
    "players_stats.head()"
   ]
  },
  {
   "cell_type": "markdown",
   "metadata": {},
   "source": [
    "We only care the players and their penalty scores. In order to find the total amount of penalty scores, we group each player and sum the penalties. As a result, we learn which players had the most penalties."
   ]
  },
  {
   "cell_type": "code",
   "execution_count": 84,
   "metadata": {},
   "outputs": [
    {
     "data": {
      "text/plain": [
       "player_api_id  player_name       \n",
       "41269          Alessio Cerci         4314.0\n",
       "108808         Mario Balotelli       4120.0\n",
       "41890          Claudio Marchisio     3984.0\n",
       "26472          Michael Bradley       3813.0\n",
       "25772          Zdravko Kuzmanovic    3799.0\n",
       "30731          Andrea Pirlo          3791.0\n",
       "27734          Antonio Di Natale     3767.0\n",
       "30626          Thierry Henry         3712.0\n",
       "40930          Adrien Silva          3682.0\n",
       "47394          Adel Taarabt          3650.0\n",
       "Name: penalties, dtype: float64"
      ]
     },
     "execution_count": 84,
     "metadata": {},
     "output_type": "execute_result"
    }
   ],
   "source": [
    "players_stats.groupby(['player_api_id', 'player_name'])['penalties'].sum().sort_values(ascending=False)[:10]"
   ]
  },
  {
   "cell_type": "markdown",
   "metadata": {},
   "source": [
    "### Research Question 6 : What team attributes lead to the most victories?"
   ]
  },
  {
   "cell_type": "markdown",
   "metadata": {},
   "source": [
    "To answer the question we need to know which teams has the most victories. To do so, we look at the match table where the season is 2015/2016 for that purpose. "
   ]
  },
  {
   "cell_type": "code",
   "execution_count": 85,
   "metadata": {},
   "outputs": [],
   "source": [
    "df_match_season = matches.query('start_season == 2015 and end_season == 2016')"
   ]
  },
  {
   "cell_type": "code",
   "execution_count": 86,
   "metadata": {},
   "outputs": [],
   "source": [
    "winners = df_match_season.groupby('winner')['id'].count().sort_values(ascending=False)"
   ]
  },
  {
   "cell_type": "markdown",
   "metadata": {},
   "source": [
    "we found the 10 most winners in 2015/2016 season."
   ]
  },
  {
   "cell_type": "code",
   "execution_count": 87,
   "metadata": {},
   "outputs": [
    {
     "data": {
      "text/plain": [
       "winner\n",
       "Paris Saint-Germain    30\n",
       "FC Barcelona           29\n",
       "Juventus               29\n",
       "SL Benfica             29\n",
       "Real Madrid CF         28\n",
       "FC Bayern Munich       28\n",
       "Atlético Madrid        28\n",
       "Sporting CP            27\n",
       "FC Basel               26\n",
       "PSV                    26\n",
       "Name: id, dtype: int64"
      ]
     },
     "execution_count": 87,
     "metadata": {},
     "output_type": "execute_result"
    }
   ],
   "source": [
    "winners[1:11]"
   ]
  },
  {
   "cell_type": "markdown",
   "metadata": {},
   "source": [
    "Now, we need to look at these teams' stats in the Team Stats table:"
   ]
  },
  {
   "cell_type": "code",
   "execution_count": 88,
   "metadata": {},
   "outputs": [
    {
     "data": {
      "text/html": [
       "<div>\n",
       "<style scoped>\n",
       "    .dataframe tbody tr th:only-of-type {\n",
       "        vertical-align: middle;\n",
       "    }\n",
       "\n",
       "    .dataframe tbody tr th {\n",
       "        vertical-align: top;\n",
       "    }\n",
       "\n",
       "    .dataframe thead th {\n",
       "        text-align: right;\n",
       "    }\n",
       "</style>\n",
       "<table border=\"1\" class=\"dataframe\">\n",
       "  <thead>\n",
       "    <tr style=\"text-align: right;\">\n",
       "      <th></th>\n",
       "      <th>id</th>\n",
       "      <th>team_api_id</th>\n",
       "      <th>date</th>\n",
       "      <th>buildUpPlaySpeed</th>\n",
       "      <th>buildUpPlaySpeedClass</th>\n",
       "      <th>buildUpPlayDribbling</th>\n",
       "      <th>buildUpPlayDribblingClass</th>\n",
       "      <th>buildUpPlayPassing</th>\n",
       "      <th>buildUpPlayPassingClass</th>\n",
       "      <th>buildUpPlayPositioningClass</th>\n",
       "      <th>...</th>\n",
       "      <th>defencePressure</th>\n",
       "      <th>defencePressureClass</th>\n",
       "      <th>defenceAggression</th>\n",
       "      <th>defenceAggressionClass</th>\n",
       "      <th>defenceTeamWidth</th>\n",
       "      <th>defenceTeamWidthClass</th>\n",
       "      <th>defenceDefenderLineClass</th>\n",
       "      <th>team_long_name</th>\n",
       "      <th>team_short_name</th>\n",
       "      <th>year</th>\n",
       "    </tr>\n",
       "  </thead>\n",
       "  <tbody>\n",
       "    <tr>\n",
       "      <th>0</th>\n",
       "      <td>1</td>\n",
       "      <td>9930</td>\n",
       "      <td>2010-02-22</td>\n",
       "      <td>60</td>\n",
       "      <td>Balanced</td>\n",
       "      <td>NaN</td>\n",
       "      <td>Little</td>\n",
       "      <td>50</td>\n",
       "      <td>Mixed</td>\n",
       "      <td>Organised</td>\n",
       "      <td>...</td>\n",
       "      <td>50</td>\n",
       "      <td>Medium</td>\n",
       "      <td>55</td>\n",
       "      <td>Press</td>\n",
       "      <td>45</td>\n",
       "      <td>Normal</td>\n",
       "      <td>Cover</td>\n",
       "      <td>FC Aarau</td>\n",
       "      <td>AAR</td>\n",
       "      <td>2010</td>\n",
       "    </tr>\n",
       "    <tr>\n",
       "      <th>1</th>\n",
       "      <td>2</td>\n",
       "      <td>9930</td>\n",
       "      <td>2014-09-19</td>\n",
       "      <td>52</td>\n",
       "      <td>Balanced</td>\n",
       "      <td>48.0</td>\n",
       "      <td>Normal</td>\n",
       "      <td>56</td>\n",
       "      <td>Mixed</td>\n",
       "      <td>Organised</td>\n",
       "      <td>...</td>\n",
       "      <td>47</td>\n",
       "      <td>Medium</td>\n",
       "      <td>44</td>\n",
       "      <td>Press</td>\n",
       "      <td>54</td>\n",
       "      <td>Normal</td>\n",
       "      <td>Cover</td>\n",
       "      <td>FC Aarau</td>\n",
       "      <td>AAR</td>\n",
       "      <td>2014</td>\n",
       "    </tr>\n",
       "    <tr>\n",
       "      <th>2</th>\n",
       "      <td>3</td>\n",
       "      <td>9930</td>\n",
       "      <td>2015-09-10</td>\n",
       "      <td>47</td>\n",
       "      <td>Balanced</td>\n",
       "      <td>41.0</td>\n",
       "      <td>Normal</td>\n",
       "      <td>54</td>\n",
       "      <td>Mixed</td>\n",
       "      <td>Organised</td>\n",
       "      <td>...</td>\n",
       "      <td>47</td>\n",
       "      <td>Medium</td>\n",
       "      <td>44</td>\n",
       "      <td>Press</td>\n",
       "      <td>54</td>\n",
       "      <td>Normal</td>\n",
       "      <td>Cover</td>\n",
       "      <td>FC Aarau</td>\n",
       "      <td>AAR</td>\n",
       "      <td>2015</td>\n",
       "    </tr>\n",
       "    <tr>\n",
       "      <th>3</th>\n",
       "      <td>4</td>\n",
       "      <td>8485</td>\n",
       "      <td>2010-02-22</td>\n",
       "      <td>70</td>\n",
       "      <td>Fast</td>\n",
       "      <td>NaN</td>\n",
       "      <td>Little</td>\n",
       "      <td>70</td>\n",
       "      <td>Long</td>\n",
       "      <td>Organised</td>\n",
       "      <td>...</td>\n",
       "      <td>60</td>\n",
       "      <td>Medium</td>\n",
       "      <td>70</td>\n",
       "      <td>Double</td>\n",
       "      <td>70</td>\n",
       "      <td>Wide</td>\n",
       "      <td>Cover</td>\n",
       "      <td>Aberdeen</td>\n",
       "      <td>ABE</td>\n",
       "      <td>2010</td>\n",
       "    </tr>\n",
       "    <tr>\n",
       "      <th>4</th>\n",
       "      <td>5</td>\n",
       "      <td>8485</td>\n",
       "      <td>2011-02-22</td>\n",
       "      <td>47</td>\n",
       "      <td>Balanced</td>\n",
       "      <td>NaN</td>\n",
       "      <td>Little</td>\n",
       "      <td>52</td>\n",
       "      <td>Mixed</td>\n",
       "      <td>Organised</td>\n",
       "      <td>...</td>\n",
       "      <td>47</td>\n",
       "      <td>Medium</td>\n",
       "      <td>47</td>\n",
       "      <td>Press</td>\n",
       "      <td>52</td>\n",
       "      <td>Normal</td>\n",
       "      <td>Cover</td>\n",
       "      <td>Aberdeen</td>\n",
       "      <td>ABE</td>\n",
       "      <td>2011</td>\n",
       "    </tr>\n",
       "  </tbody>\n",
       "</table>\n",
       "<p>5 rows × 27 columns</p>\n",
       "</div>"
      ],
      "text/plain": [
       "   id  team_api_id        date  buildUpPlaySpeed buildUpPlaySpeedClass  \\\n",
       "0   1         9930  2010-02-22                60              Balanced   \n",
       "1   2         9930  2014-09-19                52              Balanced   \n",
       "2   3         9930  2015-09-10                47              Balanced   \n",
       "3   4         8485  2010-02-22                70                  Fast   \n",
       "4   5         8485  2011-02-22                47              Balanced   \n",
       "\n",
       "   buildUpPlayDribbling buildUpPlayDribblingClass  buildUpPlayPassing  \\\n",
       "0                   NaN                    Little                  50   \n",
       "1                  48.0                    Normal                  56   \n",
       "2                  41.0                    Normal                  54   \n",
       "3                   NaN                    Little                  70   \n",
       "4                   NaN                    Little                  52   \n",
       "\n",
       "  buildUpPlayPassingClass buildUpPlayPositioningClass  ...   defencePressure  \\\n",
       "0                   Mixed                   Organised  ...                50   \n",
       "1                   Mixed                   Organised  ...                47   \n",
       "2                   Mixed                   Organised  ...                47   \n",
       "3                    Long                   Organised  ...                60   \n",
       "4                   Mixed                   Organised  ...                47   \n",
       "\n",
       "  defencePressureClass  defenceAggression defenceAggressionClass  \\\n",
       "0               Medium                 55                  Press   \n",
       "1               Medium                 44                  Press   \n",
       "2               Medium                 44                  Press   \n",
       "3               Medium                 70                 Double   \n",
       "4               Medium                 47                  Press   \n",
       "\n",
       "   defenceTeamWidth defenceTeamWidthClass defenceDefenderLineClass  \\\n",
       "0                45                Normal                    Cover   \n",
       "1                54                Normal                    Cover   \n",
       "2                54                Normal                    Cover   \n",
       "3                70                  Wide                    Cover   \n",
       "4                52                Normal                    Cover   \n",
       "\n",
       "   team_long_name team_short_name  year  \n",
       "0        FC Aarau             AAR  2010  \n",
       "1        FC Aarau             AAR  2014  \n",
       "2        FC Aarau             AAR  2015  \n",
       "3        Aberdeen             ABE  2010  \n",
       "4        Aberdeen             ABE  2011  \n",
       "\n",
       "[5 rows x 27 columns]"
      ]
     },
     "execution_count": 88,
     "metadata": {},
     "output_type": "execute_result"
    }
   ],
   "source": [
    "team_att = pd.read_csv('team_attributes_edited.csv')\n",
    "team_att.head()"
   ]
  },
  {
   "cell_type": "markdown",
   "metadata": {},
   "source": [
    "Since there are 27 columns in the team attributes table, we want to see only the numerical columns along with the team name column."
   ]
  },
  {
   "cell_type": "code",
   "execution_count": 89,
   "metadata": {},
   "outputs": [],
   "source": [
    "columns = ['team_long_name', 'buildUpPlaySpeed', 'buildUpPlayDribbling', 'buildUpPlayPassing',\\\n",
    "           'chanceCreationPassing', 'chanceCreationCrossing', 'chanceCreationShooting',\\\n",
    "           'defencePressure', 'defenceAggression', 'defenceTeamWidth']"
   ]
  },
  {
   "cell_type": "code",
   "execution_count": 90,
   "metadata": {},
   "outputs": [],
   "source": [
    "# set the name of the ten winners\n",
    "ten_winners = winners[1:11].index"
   ]
  },
  {
   "cell_type": "markdown",
   "metadata": {},
   "source": [
    "Since we know the ten winners in the 2015/2016 season, we can query the corresponding team stats of the selected teams on the team attributes table."
   ]
  },
  {
   "cell_type": "code",
   "execution_count": 91,
   "metadata": {},
   "outputs": [],
   "source": [
    "# query only the expected years and team_long_name must exist in the @ten_winners list\n",
    "winners_stats = team_att.query('(year == 2015 or year == 2016) and team_long_name in @ten_winners')[columns]"
   ]
  },
  {
   "cell_type": "code",
   "execution_count": 92,
   "metadata": {},
   "outputs": [
    {
     "data": {
      "text/html": [
       "<div>\n",
       "<style scoped>\n",
       "    .dataframe tbody tr th:only-of-type {\n",
       "        vertical-align: middle;\n",
       "    }\n",
       "\n",
       "    .dataframe tbody tr th {\n",
       "        vertical-align: top;\n",
       "    }\n",
       "\n",
       "    .dataframe thead th {\n",
       "        text-align: right;\n",
       "    }\n",
       "</style>\n",
       "<table border=\"1\" class=\"dataframe\">\n",
       "  <thead>\n",
       "    <tr style=\"text-align: right;\">\n",
       "      <th></th>\n",
       "      <th>team_long_name</th>\n",
       "      <th>buildUpPlaySpeed</th>\n",
       "      <th>buildUpPlayDribbling</th>\n",
       "      <th>buildUpPlayPassing</th>\n",
       "      <th>chanceCreationPassing</th>\n",
       "      <th>chanceCreationCrossing</th>\n",
       "      <th>chanceCreationShooting</th>\n",
       "      <th>defencePressure</th>\n",
       "      <th>defenceAggression</th>\n",
       "      <th>defenceTeamWidth</th>\n",
       "    </tr>\n",
       "  </thead>\n",
       "  <tbody>\n",
       "    <tr>\n",
       "      <th>99</th>\n",
       "      <td>Atlético Madrid</td>\n",
       "      <td>57</td>\n",
       "      <td>50.0</td>\n",
       "      <td>50</td>\n",
       "      <td>61</td>\n",
       "      <td>62</td>\n",
       "      <td>49</td>\n",
       "      <td>49</td>\n",
       "      <td>42</td>\n",
       "      <td>52</td>\n",
       "    </tr>\n",
       "    <tr>\n",
       "      <th>123</th>\n",
       "      <td>FC Barcelona</td>\n",
       "      <td>36</td>\n",
       "      <td>35.0</td>\n",
       "      <td>51</td>\n",
       "      <td>36</td>\n",
       "      <td>49</td>\n",
       "      <td>56</td>\n",
       "      <td>61</td>\n",
       "      <td>65</td>\n",
       "      <td>65</td>\n",
       "    </tr>\n",
       "    <tr>\n",
       "      <th>135</th>\n",
       "      <td>FC Basel</td>\n",
       "      <td>61</td>\n",
       "      <td>63.0</td>\n",
       "      <td>46</td>\n",
       "      <td>66</td>\n",
       "      <td>66</td>\n",
       "      <td>54</td>\n",
       "      <td>47</td>\n",
       "      <td>58</td>\n",
       "      <td>53</td>\n",
       "    </tr>\n",
       "    <tr>\n",
       "      <th>147</th>\n",
       "      <td>FC Bayern Munich</td>\n",
       "      <td>45</td>\n",
       "      <td>24.0</td>\n",
       "      <td>28</td>\n",
       "      <td>37</td>\n",
       "      <td>31</td>\n",
       "      <td>22</td>\n",
       "      <td>72</td>\n",
       "      <td>53</td>\n",
       "      <td>59</td>\n",
       "    </tr>\n",
       "    <tr>\n",
       "      <th>165</th>\n",
       "      <td>SL Benfica</td>\n",
       "      <td>69</td>\n",
       "      <td>55.0</td>\n",
       "      <td>53</td>\n",
       "      <td>65</td>\n",
       "      <td>66</td>\n",
       "      <td>54</td>\n",
       "      <td>60</td>\n",
       "      <td>57</td>\n",
       "      <td>54</td>\n",
       "    </tr>\n",
       "    <tr>\n",
       "      <th>627</th>\n",
       "      <td>Juventus</td>\n",
       "      <td>50</td>\n",
       "      <td>35.0</td>\n",
       "      <td>20</td>\n",
       "      <td>65</td>\n",
       "      <td>50</td>\n",
       "      <td>80</td>\n",
       "      <td>35</td>\n",
       "      <td>65</td>\n",
       "      <td>35</td>\n",
       "    </tr>\n",
       "    <tr>\n",
       "      <th>963</th>\n",
       "      <td>Paris Saint-Germain</td>\n",
       "      <td>49</td>\n",
       "      <td>47.0</td>\n",
       "      <td>34</td>\n",
       "      <td>62</td>\n",
       "      <td>61</td>\n",
       "      <td>35</td>\n",
       "      <td>57</td>\n",
       "      <td>53</td>\n",
       "      <td>56</td>\n",
       "    </tr>\n",
       "    <tr>\n",
       "      <th>1009</th>\n",
       "      <td>PSV</td>\n",
       "      <td>67</td>\n",
       "      <td>43.0</td>\n",
       "      <td>43</td>\n",
       "      <td>53</td>\n",
       "      <td>44</td>\n",
       "      <td>28</td>\n",
       "      <td>40</td>\n",
       "      <td>40</td>\n",
       "      <td>48</td>\n",
       "    </tr>\n",
       "    <tr>\n",
       "      <th>1050</th>\n",
       "      <td>Real Madrid CF</td>\n",
       "      <td>50</td>\n",
       "      <td>57.0</td>\n",
       "      <td>46</td>\n",
       "      <td>61</td>\n",
       "      <td>41</td>\n",
       "      <td>63</td>\n",
       "      <td>52</td>\n",
       "      <td>60</td>\n",
       "      <td>63</td>\n",
       "    </tr>\n",
       "    <tr>\n",
       "      <th>1194</th>\n",
       "      <td>Sporting CP</td>\n",
       "      <td>57</td>\n",
       "      <td>65.0</td>\n",
       "      <td>56</td>\n",
       "      <td>42</td>\n",
       "      <td>50</td>\n",
       "      <td>55</td>\n",
       "      <td>60</td>\n",
       "      <td>60</td>\n",
       "      <td>54</td>\n",
       "    </tr>\n",
       "  </tbody>\n",
       "</table>\n",
       "</div>"
      ],
      "text/plain": [
       "           team_long_name  buildUpPlaySpeed  buildUpPlayDribbling  \\\n",
       "99        Atlético Madrid                57                  50.0   \n",
       "123          FC Barcelona                36                  35.0   \n",
       "135              FC Basel                61                  63.0   \n",
       "147      FC Bayern Munich                45                  24.0   \n",
       "165            SL Benfica                69                  55.0   \n",
       "627              Juventus                50                  35.0   \n",
       "963   Paris Saint-Germain                49                  47.0   \n",
       "1009                  PSV                67                  43.0   \n",
       "1050       Real Madrid CF                50                  57.0   \n",
       "1194          Sporting CP                57                  65.0   \n",
       "\n",
       "      buildUpPlayPassing  chanceCreationPassing  chanceCreationCrossing  \\\n",
       "99                    50                     61                      62   \n",
       "123                   51                     36                      49   \n",
       "135                   46                     66                      66   \n",
       "147                   28                     37                      31   \n",
       "165                   53                     65                      66   \n",
       "627                   20                     65                      50   \n",
       "963                   34                     62                      61   \n",
       "1009                  43                     53                      44   \n",
       "1050                  46                     61                      41   \n",
       "1194                  56                     42                      50   \n",
       "\n",
       "      chanceCreationShooting  defencePressure  defenceAggression  \\\n",
       "99                        49               49                 42   \n",
       "123                       56               61                 65   \n",
       "135                       54               47                 58   \n",
       "147                       22               72                 53   \n",
       "165                       54               60                 57   \n",
       "627                       80               35                 65   \n",
       "963                       35               57                 53   \n",
       "1009                      28               40                 40   \n",
       "1050                      63               52                 60   \n",
       "1194                      55               60                 60   \n",
       "\n",
       "      defenceTeamWidth  \n",
       "99                  52  \n",
       "123                 65  \n",
       "135                 53  \n",
       "147                 59  \n",
       "165                 54  \n",
       "627                 35  \n",
       "963                 56  \n",
       "1009                48  \n",
       "1050                63  \n",
       "1194                54  "
      ]
     },
     "execution_count": 92,
     "metadata": {},
     "output_type": "execute_result"
    }
   ],
   "source": [
    "winners_stats"
   ]
  },
  {
   "cell_type": "markdown",
   "metadata": {},
   "source": [
    "The following charts demostrate the winner teams's attributes. The chart reveals 9 different attributes of 10 winners in 2015-16. To analyze sequential data, creating a bar chart mostly shows the important parts of information."
   ]
  },
  {
   "cell_type": "code",
   "execution_count": 93,
   "metadata": {},
   "outputs": [
    {
     "data": {
      "image/png": "[encoded data removed]",
      "text/plain": [
       "<Figure size 936x936 with 1 Axes>"
      ]
     },
     "metadata": {
      "image/png": {
       "height": 928,
       "width": 926
      }
     },
     "output_type": "display_data"
    }
   ],
   "source": [
    "fig, ax = plt.subplots(figsize=(13, 13))\n",
    "\n",
    "# create a new bar char\n",
    "ax = winners_stats.plot.bar(ax=ax);\n",
    "\n",
    "ax.set_xticklabels(winners_stats['team_long_name'], rotation=90)\n",
    "\n",
    "# Set the y axis label\n",
    "ax.set_ylabel('Team Stats')\n",
    "\n",
    "# Set the chart's title\n",
    "ax.set_title('Team Attributes in 2015-16')\n",
    "\n",
    "# Set the y axis label \n",
    "plt.xlabel(\"10 Most Winners\")\n",
    "\n",
    "plt.tight_layout();"
   ]
  },
  {
   "cell_type": "markdown",
   "metadata": {},
   "source": [
    "<a id='limitations'></a>\n",
    "## Limitations\n",
    "\n",
    "In this section, I'll talk about the challanges that I have faced during finding ways to the questions. The Match and Player Attributes tables are the most challanging tables among the others in the Soccer database. \n",
    "\n",
    "The Match table contained `407395` missing values. I have dediced to not fill the missing values with a specific value bacause the most missing values are about betting in which I am not interested. I dropped the columns contaning missing values. After dropping the columns our new table shows the first 11 columns which it makes sense for the questions. Next to this, I have used 4 merge operations to collect the necessary information from other tables. The Match table has a relation with Player, Country, and League tables. Also there are some columns that I needed to simplify in order to solve the questions. For example, I split the column `session` into two seperate columns namely `start_season` and `end_season`. The column `session` contained a value like `2014/2015` so I split each  year from the cells and added them to two different columns. The `Date` column needed to be converted to `datatime` because I wanted to declare a new column for the years. Lastly, to know who won a match, I have created another column by looking at the four columns. The steps I have taken helped me find the solutions of `What teams improved the most over the time period?`, `Which team won on 2014/2015 season in Spain LIGA BBVA?`, `Which season had the most home and/or away goals over the seasons?`, and `Which team had the most victories at home in 2010/2011 season?`. \n",
    "\n",
    "Another challenging table was a bit the Team table. I found 3 teams having the same `fifa_id` and `team_name`. Grouping by `fifa_id` and `team_name` found the duplicated rows.\n",
    "\n",
    "One missing column that appears in the Player Attributes table is the `buildUpPlayDribbling` column. I haven't paid too much attention to that column because I have interpred the missing values as zeros to answer `What team attributes lead to the most victories?`. The Player Attributes table also contains a relation with the Player table. Applying a merge step solved to find the details of players such as birthday, heighh, and weight.\n"
   ]
  },
  {
   "cell_type": "markdown",
   "metadata": {},
   "source": [
    "<a id='conclusions'></a>\n",
    "## Conclusions\n",
    "\n",
    "In this section, I have ended up with conclusions with regard to the findings."
   ]
  },
  {
   "cell_type": "markdown",
   "metadata": {},
   "source": [
    "1. Which team had the most victories at home in 2010/2011 season?\n",
    "\n",
    "    Manchester United had the most victories at home in 2010/2011 season among the other clubs. Congratulations MUN!\n",
    "\n",
    "2. Which season had the most home and/or away goals over the seasons?\n",
    "\n",
    "    The bar char illustrates that the most home as well as away goals reveal in the 2015/2016 season.\n",
    "    \n",
    "3. Which team won on 2014/2015 season in Spain LIGA BBVA?\n",
    "\n",
    "    In 2014/2015 season Barcelona and Real Madrid share the same number of wins. Since every win is 3 points, both Barcelona and Real Madrid have 90 points. It looks like four games of Barcelona ended in a draw, on the other hand, Real Madrid has two draw games. As a result, the champion of the 2014/2015 season is Barcelona with the 94 points in total.\n",
    "\n",
    "4. What teams improved the most over the time period?\n",
    "\n",
    "     Based on the years I have selected, the most improved teams over the period by looking at the average away and home goals are 'Paris Saint-Germain', 'Cracovia', 'Eintracht Frankfurt', 'Grasshopper Club Zürich', 'SV Zulte-Waregem'.\n",
    "\n",
    "5. Which players had the most penalties?\n",
    "\n",
    "    Alessio Cerci and Mario Balotelli are the most penalty scorer in total.\n",
    "\n",
    "6. What team attributes lead to the most victories?\n",
    "\n",
    "    In this question like the fourth question I have selected a season which was the 2015/2016 season. In terms of the season, I have found 10 most winners (Paris Saint-Germain, FC Barcelona, Juventus, SL Benfica, Real Madrid CF, FC Bayern Munich, Atlético Madrid, Sporting CP, FC Basel, PSV). The bar char demostrates that the most team attributes that lead the teams to win depend on the `changeCreationPassing`, `defencePressure`, `defenceAggression`, `buildUpSpeed`, and `buildUpDribbling` column."
   ]
  },
  {
   "cell_type": "code",
   "execution_count": null,
   "metadata": {},
   "outputs": [],
   "source": []
  }
 ],
 "metadata": {
  "kernelspec": {
   "display_name": "Python 3",
   "language": "python",
   "name": "python3"
  },
  "language_info": {
   "codemirror_mode": {
    "name": "ipython",
    "version": 3
   },
   "file_extension": ".py",
   "mimetype": "text/x-python",
   "name": "python",
   "nbconvert_exporter": "python",
   "pygments_lexer": "ipython3",
   "version": "3.6.4"
  }
 },
 "nbformat": 4,
 "nbformat_minor": 2
}
